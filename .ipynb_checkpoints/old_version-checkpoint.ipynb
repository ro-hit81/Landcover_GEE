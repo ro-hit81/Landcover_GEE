{
 "cells": [
  {
   "cell_type": "code",
   "execution_count": 1,
   "metadata": {},
   "outputs": [
    {
     "name": "stderr",
     "output_type": "stream",
     "text": [
      "Using TensorFlow backend.\n"
     ]
    }
   ],
   "source": [
    "import ee\n",
    "import folium\n",
    "import json\n",
    "import os\n",
    "import time\n",
    "\n",
    "import matplotlib.pyplot as plt\n",
    "import numpy as np\n",
    "import tensorflow as tf\n",
    "\n",
    "from google.cloud import storage\n",
    "from keras.callbacks import ModelCheckpoint\n",
    "from keras.callbacks import LearningRateScheduler\n",
    "from osgeo import gdal\n",
    "from osgeo import osr\n",
    "from pprint import pprint"
   ]
  },
  {
   "cell_type": "code",
   "execution_count": 2,
   "metadata": {},
   "outputs": [],
   "source": [
    "os.environ['GOOGLE_APPLICATION_CREDENTIALS'] = \"glodal_gee.json\"\n",
    "storage_client = storage.Client()\n",
    "\n",
    "service_account = 'glodal-landcover-mapping@rohit-81.iam.gserviceaccount.com'\n",
    "credentials = ee.ServiceAccountCredentials(service_account, 'glodal_gee.json')\n",
    "ee.Initialize(credentials)"
   ]
  },
  {
   "cell_type": "code",
   "execution_count": 3,
   "metadata": {},
   "outputs": [
    {
     "name": "stdout",
     "output_type": "stream",
     "text": [
      "Device mapping:\n",
      "/job:localhost/replica:0/task:0/device:XLA_CPU:0 -> device: XLA_CPU device\n",
      "/job:localhost/replica:0/task:0/device:GPU:0 -> device: 0, name: GeForce RTX 2080 SUPER, pci bus id: 0000:01:00.0, compute capability: 7.5\n",
      "/job:localhost/replica:0/task:0/device:XLA_GPU:0 -> device: XLA_GPU device\n",
      "\n"
     ]
    }
   ],
   "source": [
    "config = tf.ConfigProto()\n",
    "\n",
    "config.gpu_options.allow_growth = True # dynamically grow the memory used on the GPU\n",
    "\n",
    "config.log_device_placement = True\n",
    "\n",
    "sess = tf.Session(config=config)\n",
    "\n",
    "tf.keras.backend.set_session(sess)"
   ]
  },
  {
   "cell_type": "code",
   "execution_count": 4,
   "metadata": {},
   "outputs": [],
   "source": [
    "def reduce_class_value(feat):\n",
    "    return feat.set('class', ee.Number(feat.get('class')).subtract(1))\n",
    "\n",
    "\n",
    "def cloudMask(img):\n",
    "    return img.updateMask(img.select('BQA').lt(64))\n",
    "  \n",
    "\n",
    "def select_landsat(year):\n",
    "    if (year >= 2013):\n",
    "        return {\n",
    "            'bands': ['B2', 'B3', 'B4', 'B5', 'B6', 'B7'],\n",
    "            'FCCbands': ['B5', 'B4', 'B3'],\n",
    "            'TextureBand': ['B5'],\n",
    "            'bandsClassify': ['B2', 'B3', 'B4', 'B5', 'B6', 'B7','B5_1'],\n",
    "            'bandsGLCM': ['B2', 'B3', 'B4', 'B5', 'B6', 'B7', 'B5_asm', 'B5_contrast', \"B5_corr\", \"B5_var\", \"B5_idm\", \"B5_savg\", \"B5_svar\", \"B5_sent\", \"B5_ent\", \"B5_dvar\", \"B5_dent\", \"B5_imcorr1\", \"B5_imcorr2\",\"B5_maxcorr\", \"B5_diss\",  \"B5_inertia\", \"B5_shade\", \"B5_prom\"],\n",
    "            'Landsat': 'LANDSAT/LC08/C01/T1'\n",
    "        }\n",
    "\n",
    "    if (year >= 1999 and year <= 2002):\n",
    "        return {\n",
    "            'bands': ['B1', 'B2', 'B3', 'B4', 'B5', 'B7'],\n",
    "            'TextureBand': ['B4'],\n",
    "            'bandsClassify': ['B1', 'B2', 'B3', 'B4', 'B5', 'B7','B4_1'],\n",
    "            'bandsGLCM': ['B1', 'B2', 'B3', 'B4', 'B5', 'B7', 'B4_asm', 'B4_contrast',\"B4_corr\", \"B4_var\",\"B4_idm\",\"B4_savg\", \"B4_svar\",\"B4_sent\",\"B4_ent\",\"B4_dvar\",\"B4_dent\",\"B4_imcorr1\", \"B4_imcorr2\",\"B4_maxcorr\",\"B4_diss\",\"B4_inertia\",\"B4_shade\",\"B4_prom\"],\n",
    "            'FCCbands': ['B4', 'B3', 'B2'],\n",
    "            'Landsat': 'LANDSAT/LE07/C01/T1'\n",
    "        }\n",
    "\n",
    "    if (year >= 1984 and year <= 1998 or year >=2003 and year <=2012):\n",
    "        return{\n",
    "            'bands': ['B1', 'B2', 'B3', 'B4', 'B5', 'B7'],\n",
    "            'bandsClassify': ['B1', 'B2', 'B3', 'B4', 'B5', 'B7','B4_1'],\n",
    "            'bandsGLCM': ['B1', 'B2', 'B3', 'B4', 'B5', 'B7', 'B4_asm', 'B4_contrast',\"B4_corr\", \"B4_var\",\"B4_idm\",\"B4_savg\", \"B4_svar\",\"B4_sent\",\"B4_ent\",\"B4_dvar\",\"B4_dent\",\"B4_imcorr1\", \"B4_imcorr2\",\"B4_maxcorr\",\"B4_diss\",\"B4_inertia\",\"B4_shade\",\"B4_prom\"],\n",
    "            'FCCbands': ['B4', 'B3', 'B2'],\n",
    "            'TextureBand': ['B4'],\n",
    "            'Landsat': 'LANDSAT/LT05/C01/T1'\n",
    "        }\n",
    "  \n",
    "    if (year == 1983):\n",
    "        return{\n",
    "            'bands': ['B1', 'B2', 'B3', 'B4', 'B5', 'B7'],\n",
    "            'bandsClassify': ['B1', 'B2', 'B3', 'B4', 'B5', 'B7','B4_1'],\n",
    "            'bandsGLCM': ['B1', 'B2', 'B3', 'B4', 'B5', 'B7', 'B4_asm', 'B4_contrast',\"B4_corr\", \"B4_var\",\"B4_idm\",\"B4_savg\", \"B4_svar\",\"B4_sent\",\"B4_ent\",\"B4_dvar\",\"B4_dent\",\"B4_imcorr1\", \"B4_imcorr2\",\"B4_maxcorr\",\"B4_diss\",\"B4_inertia\",\"B4_shade\",\"B4_prom\"],\n",
    "            'FCCbands': ['B4', 'B3', 'B2'],\n",
    "            'TextureBand': ['B4'],\n",
    "            'Landsat': 'LANDSAT/LT04/C01/T1'\n",
    "        }\n",
    "\n",
    "    if (year >= 1979 and year <= 1982):\n",
    "        return {\n",
    "            'bands': ['B4_median', 'B5_median', 'B6_median','B7_median','B6_median_1'],\n",
    "            'bandsClassify': ['B4_median', 'B5_median', 'B6_median', 'B7_median'],\n",
    "            'FCCbands': ['B6_median', 'B5_median', 'B4_median'],\n",
    "            'TextureBand': ['B6_median'],\n",
    "            'Landsat': 'LANDSAT/LM03/C01/T1'\n",
    "        }\n",
    "\n",
    "    if (year >= 1975 and year <= 1978):\n",
    "        return {\n",
    "            'bands': ['B4_median', 'B5_median', 'B6_median','B7_median','B6_median_1'],\n",
    "            'bandsClassify': ['B4_median', 'B5_median', 'B6_median', 'B7_median'],\n",
    "            'FCCbands': ['B6_median', 'B5_median', 'B4_median'],\n",
    "            'TextureBand': ['B6_median'],\n",
    "            'Landsat': 'LANDSAT/LM02/C01/T2'\n",
    "        }\n",
    "\n",
    "    if (year >= 1972 and year <= 1974):\n",
    "        return {\n",
    "            'bands': ['B4_median', 'B5_median', 'B6_median','B7_median','B6_median_1'],\n",
    "            'bandsClassify': ['B4_median', 'B5_median', 'B6_median', 'B7_median'],\n",
    "            'FCCbands': ['B6_median', 'B5_median', 'B4_median'],\n",
    "            'TextureBand': ['B6_median'],\n",
    "            'Landsat': 'LANDSAT/LM01/C01/T2'\n",
    "        }"
   ]
  },
  {
   "cell_type": "code",
   "execution_count": 5,
   "metadata": {},
   "outputs": [],
   "source": [
    "def landsat_product(landsat_id):\n",
    "    if(landsat_id == 'LANDSAT/LM01/C01/T2' or landsat_id == 'LANDSAT/LM02/C01/T2' or landsat_id == 'LANDSAT/LM03/C01/T1'):\n",
    "        image = ee.ImageCollection(landsat_id).filterDate(str(gtYearBegin) + '-01-01',str(gtYearEnd) + '-12-31').filter(ROI[roi]['doyFilterLandsat']).filterBounds(out_ext).filterMetadata('CLOUD_COVER_LAND', 'less_than', 20).map(cloudMask).reduce(ee.Reducer.median())\n",
    "        return {\n",
    "            'region': image.geometry().bounds().getInfo(),\n",
    "            'image': image,\n",
    "            'image_int': image.toByte()       \n",
    "        }\n",
    "    else:\n",
    "        image_col = ee.ImageCollection(landsat_id).filterDate(str(gtYearBegin) + '-01-01',str(gtYearEnd) + '-12-31').filter(ROI[roi]['doyFilterLandsat']).filterBounds(out_ext)\n",
    "        return {\n",
    "            'region': image_col.geometry().bounds().getInfo(),\n",
    "            'image': ee.Algorithms.Landsat.simpleComposite(image_col, 50, cloud, 40, True),\n",
    "            'image_int': ee.Algorithms.Landsat.simpleComposite(image_col, 50, cloud, 40, False)\n",
    "        }"
   ]
  },
  {
   "cell_type": "code",
   "execution_count": 6,
   "metadata": {},
   "outputs": [],
   "source": [
    "def add_indices(params, product):\n",
    "  \n",
    "    if(params['Landsat']=='LANDSAT/LC08/C01/T1'):\n",
    "        swir  = product['image'].select('B6')\n",
    "        nir   = product['image'].select('B5')\n",
    "        red   = product['image'].select('B4')\n",
    "        green = product['image'].select('B3')\n",
    "\n",
    "        ndvi  = nir.subtract(red).divide(nir.add(red))\n",
    "        ndbi  = swir.subtract(nir).divide(swir.add(nir))\n",
    "        bi    = ndbi.subtract(ndvi)\n",
    "        ndwi  = green.subtract(swir).divide(green.add(swir))\n",
    "\n",
    "        product['image'] = product['image'].addBands([ndvi, ndbi, bi, ndwi])\n",
    "        product['image'] = product['image'].rename('B1','B2','B3','B4','B5','B6','B7','B8','B9','B10','B11','ndvi','ndbi','bi','ndwi')\n",
    "\n",
    "        params['bandsClassify'].extend(['ndvi', 'ndbi', 'bi', 'ndwi'])\n",
    "\n",
    "\n",
    "    if(params['Landsat'] == 'LANDSAT/LE07/C01/T1'):\n",
    "        swir  = product['image'].select('B5')\n",
    "        nir   = product['image'].select('B4')\n",
    "        red   = product['image'].select('B3')\n",
    "        green = product['image'].select('B2')\n",
    "\n",
    "        ndvi  = nir.subtract(red).divide(nir.add(red))\n",
    "        ndbi  = swir.subtract(nir).divide(swir.add(nir))\n",
    "        bi    = ndbi.subtract(ndvi)\n",
    "        ndwi  = green.subtract(swir).divide(green.add(swir))\n",
    "\n",
    "        product['image'] = product['image'].addBands([ndvi, ndbi, bi, ndwi])\n",
    "        product['image'] = product['image'].rename('B1','B2','B3','B4','B5','B6_VCID_1','B6_VCID_2','B7','B8','ndvi','ndbi','bi','ndwi')\n",
    "\n",
    "        params['bandsClassify'].extend(['ndvi', 'ndbi', 'bi', 'ndwi'])\n",
    "\n",
    "\n",
    "    if(params['Landsat'] == 'LANDSAT/LM04/C01/T1' or params['Landsat'] == 'LANDSAT/LT05/C01/T1'):\n",
    "        swir  = product['image'].select('B5')\n",
    "        nir   = product['image'].select('B4')\n",
    "        red   = product['image'].select('B3')\n",
    "        green = product['image'].select('B2')\n",
    "\n",
    "        ndvi  = nir.subtract(red).divide(nir.add(red))\n",
    "        ndbi  = swir.subtract(nir).divide(swir.add(nir))\n",
    "        bi    = ndbi.subtract(ndvi)\n",
    "        ndwi  = green.subtract(swir).divide(green.add(swir))\n",
    "\n",
    "        product['image'] = product['image'].addBands([ndvi, ndbi, bi, ndwi])\n",
    "        product['image'] = product['image'].rename('B1','B2','B3','B4','B5','B6','B7','ndvi','ndbi','bi','ndwi')\n",
    "\n",
    "        params['bandsClassify'].extend(['ndvi', 'ndbi', 'bi', 'ndwi'])\n",
    "\n",
    "\n",
    "    if(params['Landsat'] == 'LANDSAT/LM01/C01/T2' or params['Landsat'] == 'LANDSAT/LM02/C01/T2' or params['Landsat'] == 'LANDSAT/LM03/C01/T1'):\n",
    "        swir = product['image'].select('B6_median')\n",
    "        nir = product['image'].select('B6_median')\n",
    "        red = product['image'].select('B5_median')\n",
    "\n",
    "        ndvi = nir.subtract(red).divide(nir.add(red))\n",
    "\n",
    "        product['image'] = product['image'].addBands(ndvi)\n",
    "        product['image'] = product['image'].rename('B4_median','B5_median','B6_median','B7_median','BQA_median','ndvi')\n",
    "\n",
    "        params['bandsClassify'].append('ndvi')"
   ]
  },
  {
   "cell_type": "code",
   "execution_count": 7,
   "metadata": {},
   "outputs": [],
   "source": [
    "ROI = [\n",
    "       {'cityName': 'Chittagong', 'LatMax': 22.4525957509930443, 'LatMin': 22.1544461679352587, 'LonMax': 91.9732519334708627, 'LonMin': 91.7009214895644647, 'yearBegin':2020, 'yearEnd':2020, 'doyFilter':ee.Filter.And(ee.Filter.greaterThanOrEquals('doy',  1), ee.Filter.lessThanOrEquals('doy',  366)), 'doyFilterLandsat': ee.Filter.dayOfYear(1,366)},\n",
    "]"
   ]
  },
  {
   "cell_type": "code",
   "execution_count": 8,
   "metadata": {},
   "outputs": [],
   "source": [
    "ts = time.time()\n",
    "timestamp = int(ts)\n",
    "\n",
    "roi= ''\n",
    "kernel = ee.Kernel.gaussian(1)\n",
    "out_ext = ''\n",
    "\n",
    "cloud = 30\n",
    "spatial_resolution = 120\n",
    "n_sample = 10000\n",
    "distance = 370000\n",
    "\n",
    "batch_size = 100\n",
    "base_distance = 5000\n",
    "patch_size = 256\n",
    "buffer_distance = base_distance * (round((spatial_resolution * 0.5 * patch_size)/base_distance) +1)"
   ]
  },
  {
   "cell_type": "code",
   "execution_count": 9,
   "metadata": {},
   "outputs": [],
   "source": [
    "ref_point = ee.FeatureCollection('users/rhtkhati/gt-pt-2019-2021-120m')\n",
    "ref_point = ref_point.map(reduce_class_value)"
   ]
  },
  {
   "cell_type": "code",
   "execution_count": 10,
   "metadata": {},
   "outputs": [],
   "source": [
    "for roi in range(0, len(ROI), 1):\n",
    "    city_name = ROI[roi]['cityName']\n",
    "    year_begin = ROI[roi]['yearBegin']\n",
    "    year_end = ROI[roi]['yearEnd']\n",
    "\n",
    "    USER_NAME = 'rohit'\n",
    "    IMAGE_FILE_PREFIX = city_name + '_' + str(year_begin) + '_' + str(year_end)\n",
    "    FOLDER_NAME = USER_NAME + '_' + IMAGE_FILE_PREFIX + '_' + str(timestamp)\n",
    "\n",
    "    for year in range(year_begin, year_end+1, 1):\n",
    "        nSampleClass = []\n",
    "        out_ext = ee.Geometry.Rectangle([ ROI[roi]['LonMin'], ROI[roi]['LatMin'], ROI[roi]['LonMax'], ROI[roi]['LatMax']])\n",
    "        out_ext_center = out_ext.centroid()\n",
    "\n",
    "        out_ext_buffer = out_ext.buffer(buffer_distance).bounds()\n",
    "\n",
    "        center_lat = out_ext_center.getInfo()['coordinates'][1]\n",
    "        center_lon = out_ext_center.getInfo()['coordinates'][0]\n",
    "\n",
    "        landsat_params = select_landsat(year_begin)\n",
    "\n",
    "        gtYearBegin = year_begin\n",
    "        gtYearEnd = year_end\n",
    "\n",
    "        product = landsat_product(landsat_params['Landsat'])\n",
    "\n",
    "        LABEL_DATA = ref_point.filter(ee.Filter.And(ee.Filter.greaterThanOrEquals('year', gtYearBegin), ee.Filter.lessThanOrEquals('year', gtYearEnd), ROI[roi]['doyFilter']))\n",
    "        LABEL_DATA = LABEL_DATA.filterBounds(product['region'])\n",
    "        \n",
    "        data_size = LABEL_DATA.size().getInfo()\n",
    "        train_step = (data_size*0.8)//batch_size\n",
    "        validate_step = (data_size*0.2)//batch_size\n",
    "\n",
    "        add_indices(landsat_params, product)\n",
    "\n",
    "        gt_image = product['image']\n",
    "        gt_image_int = product['image_int']\n",
    "        gt_image_texture = gt_image.addBands(gt_image_int.select(landsat_params['TextureBand']).entropy(kernel))\n",
    "\n",
    "        out_image = product['image'].clip(out_ext_buffer)\n",
    "        out_image_int = product['image_int'].clip(out_ext_buffer)\n",
    "        out_image_texture = out_image.addBands(out_image_int.select(landsat_params['TextureBand']).entropy(kernel))"
   ]
  },
  {
   "cell_type": "code",
   "execution_count": 11,
   "metadata": {},
   "outputs": [
    {
     "data": {
      "text/html": [
       "<div style=\"width:100%;\"><div style=\"position:relative;width:100%;height:0;padding-bottom:60%;\"><span style=\"color:#565656\">Make this Notebook Trusted to load map: File -> Trust Notebook</span><iframe src=\"about:blank\" style=\"position:absolute;width:100%;height:100%;left:0;top:0;border:none !important;\" data-html=%3C%21DOCTYPE%20html%3E%0A%3Chead%3E%20%20%20%20%0A%20%20%20%20%3Cmeta%20http-equiv%3D%22content-type%22%20content%3D%22text/html%3B%20charset%3DUTF-8%22%20/%3E%0A%20%20%20%20%0A%20%20%20%20%20%20%20%20%3Cscript%3E%0A%20%20%20%20%20%20%20%20%20%20%20%20L_NO_TOUCH%20%3D%20false%3B%0A%20%20%20%20%20%20%20%20%20%20%20%20L_DISABLE_3D%20%3D%20false%3B%0A%20%20%20%20%20%20%20%20%3C/script%3E%0A%20%20%20%20%0A%20%20%20%20%3Cstyle%3Ehtml%2C%20body%20%7Bwidth%3A%20100%25%3Bheight%3A%20100%25%3Bmargin%3A%200%3Bpadding%3A%200%3B%7D%3C/style%3E%0A%20%20%20%20%3Cstyle%3E%23map%20%7Bposition%3Aabsolute%3Btop%3A0%3Bbottom%3A0%3Bright%3A0%3Bleft%3A0%3B%7D%3C/style%3E%0A%20%20%20%20%3Cscript%20src%3D%22https%3A//cdn.jsdelivr.net/npm/leaflet%401.6.0/dist/leaflet.js%22%3E%3C/script%3E%0A%20%20%20%20%3Cscript%20src%3D%22https%3A//code.jquery.com/jquery-1.12.4.min.js%22%3E%3C/script%3E%0A%20%20%20%20%3Cscript%20src%3D%22https%3A//maxcdn.bootstrapcdn.com/bootstrap/3.2.0/js/bootstrap.min.js%22%3E%3C/script%3E%0A%20%20%20%20%3Cscript%20src%3D%22https%3A//cdnjs.cloudflare.com/ajax/libs/Leaflet.awesome-markers/2.0.2/leaflet.awesome-markers.js%22%3E%3C/script%3E%0A%20%20%20%20%3Clink%20rel%3D%22stylesheet%22%20href%3D%22https%3A//cdn.jsdelivr.net/npm/leaflet%401.6.0/dist/leaflet.css%22/%3E%0A%20%20%20%20%3Clink%20rel%3D%22stylesheet%22%20href%3D%22https%3A//maxcdn.bootstrapcdn.com/bootstrap/3.2.0/css/bootstrap.min.css%22/%3E%0A%20%20%20%20%3Clink%20rel%3D%22stylesheet%22%20href%3D%22https%3A//maxcdn.bootstrapcdn.com/bootstrap/3.2.0/css/bootstrap-theme.min.css%22/%3E%0A%20%20%20%20%3Clink%20rel%3D%22stylesheet%22%20href%3D%22https%3A//maxcdn.bootstrapcdn.com/font-awesome/4.6.3/css/font-awesome.min.css%22/%3E%0A%20%20%20%20%3Clink%20rel%3D%22stylesheet%22%20href%3D%22https%3A//cdnjs.cloudflare.com/ajax/libs/Leaflet.awesome-markers/2.0.2/leaflet.awesome-markers.css%22/%3E%0A%20%20%20%20%3Clink%20rel%3D%22stylesheet%22%20href%3D%22https%3A//cdn.jsdelivr.net/gh/python-visualization/folium/folium/templates/leaflet.awesome.rotate.min.css%22/%3E%0A%20%20%20%20%0A%20%20%20%20%20%20%20%20%20%20%20%20%3Cmeta%20name%3D%22viewport%22%20content%3D%22width%3Ddevice-width%2C%0A%20%20%20%20%20%20%20%20%20%20%20%20%20%20%20%20initial-scale%3D1.0%2C%20maximum-scale%3D1.0%2C%20user-scalable%3Dno%22%20/%3E%0A%20%20%20%20%20%20%20%20%20%20%20%20%3Cstyle%3E%0A%20%20%20%20%20%20%20%20%20%20%20%20%20%20%20%20%23map_b6efea9251334c28a01d5580a31b62f6%20%7B%0A%20%20%20%20%20%20%20%20%20%20%20%20%20%20%20%20%20%20%20%20position%3A%20relative%3B%0A%20%20%20%20%20%20%20%20%20%20%20%20%20%20%20%20%20%20%20%20width%3A%20100.0%25%3B%0A%20%20%20%20%20%20%20%20%20%20%20%20%20%20%20%20%20%20%20%20height%3A%20100.0%25%3B%0A%20%20%20%20%20%20%20%20%20%20%20%20%20%20%20%20%20%20%20%20left%3A%200.0%25%3B%0A%20%20%20%20%20%20%20%20%20%20%20%20%20%20%20%20%20%20%20%20top%3A%200.0%25%3B%0A%20%20%20%20%20%20%20%20%20%20%20%20%20%20%20%20%7D%0A%20%20%20%20%20%20%20%20%20%20%20%20%3C/style%3E%0A%20%20%20%20%20%20%20%20%0A%3C/head%3E%0A%3Cbody%3E%20%20%20%20%0A%20%20%20%20%0A%20%20%20%20%20%20%20%20%20%20%20%20%3Cdiv%20class%3D%22folium-map%22%20id%3D%22map_b6efea9251334c28a01d5580a31b62f6%22%20%3E%3C/div%3E%0A%20%20%20%20%20%20%20%20%0A%3C/body%3E%0A%3Cscript%3E%20%20%20%20%0A%20%20%20%20%0A%20%20%20%20%20%20%20%20%20%20%20%20var%20map_b6efea9251334c28a01d5580a31b62f6%20%3D%20L.map%28%0A%20%20%20%20%20%20%20%20%20%20%20%20%20%20%20%20%22map_b6efea9251334c28a01d5580a31b62f6%22%2C%0A%20%20%20%20%20%20%20%20%20%20%20%20%20%20%20%20%7B%0A%20%20%20%20%20%20%20%20%20%20%20%20%20%20%20%20%20%20%20%20center%3A%20%5B22.30352473523628%2C%2091.83708671151724%5D%2C%0A%20%20%20%20%20%20%20%20%20%20%20%20%20%20%20%20%20%20%20%20crs%3A%20L.CRS.EPSG3857%2C%0A%20%20%20%20%20%20%20%20%20%20%20%20%20%20%20%20%20%20%20%20zoom%3A%2010%2C%0A%20%20%20%20%20%20%20%20%20%20%20%20%20%20%20%20%20%20%20%20zoomControl%3A%20true%2C%0A%20%20%20%20%20%20%20%20%20%20%20%20%20%20%20%20%20%20%20%20preferCanvas%3A%20false%2C%0A%20%20%20%20%20%20%20%20%20%20%20%20%20%20%20%20%7D%0A%20%20%20%20%20%20%20%20%20%20%20%20%29%3B%0A%0A%20%20%20%20%20%20%20%20%20%20%20%20%0A%0A%20%20%20%20%20%20%20%20%0A%20%20%20%20%0A%20%20%20%20%20%20%20%20%20%20%20%20var%20tile_layer_de2ac22d5bfe4955b22881b4723ae5da%20%3D%20L.tileLayer%28%0A%20%20%20%20%20%20%20%20%20%20%20%20%20%20%20%20%22https%3A//%7Bs%7D.tile.openstreetmap.org/%7Bz%7D/%7Bx%7D/%7By%7D.png%22%2C%0A%20%20%20%20%20%20%20%20%20%20%20%20%20%20%20%20%7B%22attribution%22%3A%20%22Data%20by%20%5Cu0026copy%3B%20%5Cu003ca%20href%3D%5C%22http%3A//openstreetmap.org%5C%22%5Cu003eOpenStreetMap%5Cu003c/a%5Cu003e%2C%20under%20%5Cu003ca%20href%3D%5C%22http%3A//www.openstreetmap.org/copyright%5C%22%5Cu003eODbL%5Cu003c/a%5Cu003e.%22%2C%20%22detectRetina%22%3A%20false%2C%20%22maxNativeZoom%22%3A%2018%2C%20%22maxZoom%22%3A%2018%2C%20%22minZoom%22%3A%200%2C%20%22noWrap%22%3A%20false%2C%20%22opacity%22%3A%201%2C%20%22subdomains%22%3A%20%22abc%22%2C%20%22tms%22%3A%20false%7D%0A%20%20%20%20%20%20%20%20%20%20%20%20%29.addTo%28map_b6efea9251334c28a01d5580a31b62f6%29%3B%0A%20%20%20%20%20%20%20%20%0A%20%20%20%20%0A%20%20%20%20%20%20%20%20%20%20%20%20var%20tile_layer_3819ab6983d547b3bc1c2f4e89a34c33%20%3D%20L.tileLayer%28%0A%20%20%20%20%20%20%20%20%20%20%20%20%20%20%20%20%22https%3A//earthengine.googleapis.com/v1alpha/projects/earthengine-legacy/maps/e6dda829f9f3e0fc3723ec5804e3efa2-852812734f24f1803d95fcc881c8189f/tiles/%7Bz%7D/%7Bx%7D/%7By%7D%22%2C%0A%20%20%20%20%20%20%20%20%20%20%20%20%20%20%20%20%7B%22attribution%22%3A%20%22Map%20Data%20%5Cu0026copy%3B%20%5Cu003ca%20href%3D%5C%22https%3A//earthengine.google.com/%5C%22%5Cu003eGoogle%20Earth%20Engine%5Cu003c/a%5Cu003e%22%2C%20%22detectRetina%22%3A%20false%2C%20%22maxNativeZoom%22%3A%2018%2C%20%22maxZoom%22%3A%2018%2C%20%22minZoom%22%3A%200%2C%20%22noWrap%22%3A%20false%2C%20%22opacity%22%3A%201%2C%20%22subdomains%22%3A%20%22abc%22%2C%20%22tms%22%3A%20false%7D%0A%20%20%20%20%20%20%20%20%20%20%20%20%29.addTo%28map_b6efea9251334c28a01d5580a31b62f6%29%3B%0A%20%20%20%20%20%20%20%20%0A%20%20%20%20%0A%20%20%20%20%20%20%20%20%20%20%20%20var%20layer_control_f7ffe4309f624570b5bbc62e9eef03b3%20%3D%20%7B%0A%20%20%20%20%20%20%20%20%20%20%20%20%20%20%20%20base_layers%20%3A%20%7B%0A%20%20%20%20%20%20%20%20%20%20%20%20%20%20%20%20%20%20%20%20%22openstreetmap%22%20%3A%20tile_layer_de2ac22d5bfe4955b22881b4723ae5da%2C%0A%20%20%20%20%20%20%20%20%20%20%20%20%20%20%20%20%7D%2C%0A%20%20%20%20%20%20%20%20%20%20%20%20%20%20%20%20overlays%20%3A%20%20%7B%0A%20%20%20%20%20%20%20%20%20%20%20%20%20%20%20%20%20%20%20%20%22Out%20Image%20Texture%22%20%3A%20tile_layer_3819ab6983d547b3bc1c2f4e89a34c33%2C%0A%20%20%20%20%20%20%20%20%20%20%20%20%20%20%20%20%7D%2C%0A%20%20%20%20%20%20%20%20%20%20%20%20%7D%3B%0A%20%20%20%20%20%20%20%20%20%20%20%20L.control.layers%28%0A%20%20%20%20%20%20%20%20%20%20%20%20%20%20%20%20layer_control_f7ffe4309f624570b5bbc62e9eef03b3.base_layers%2C%0A%20%20%20%20%20%20%20%20%20%20%20%20%20%20%20%20layer_control_f7ffe4309f624570b5bbc62e9eef03b3.overlays%2C%0A%20%20%20%20%20%20%20%20%20%20%20%20%20%20%20%20%7B%22autoZIndex%22%3A%20true%2C%20%22collapsed%22%3A%20true%2C%20%22position%22%3A%20%22topright%22%7D%0A%20%20%20%20%20%20%20%20%20%20%20%20%29.addTo%28map_b6efea9251334c28a01d5580a31b62f6%29%3B%0A%20%20%20%20%20%20%20%20%0A%3C/script%3E onload=\"this.contentDocument.open();this.contentDocument.write(    decodeURIComponent(this.getAttribute('data-html')));this.contentDocument.close();\" allowfullscreen webkitallowfullscreen mozallowfullscreen></iframe></div></div>"
      ],
      "text/plain": [
       "<folium.folium.Map at 0x7fb828056e50>"
      ]
     },
     "execution_count": 11,
     "metadata": {},
     "output_type": "execute_result"
    }
   ],
   "source": [
    "mapid = out_image_texture.getMapId({'bands': [landsat_params['FCCbands'][0], landsat_params['FCCbands'][1], landsat_params['FCCbands'][2]], 'min': 0, 'max': 255})\n",
    "map = folium.Map(location=[center_lat, center_lon]) \n",
    "folium.TileLayer(\n",
    "    tiles=mapid['tile_fetcher'].url_format,\n",
    "    attr='Map Data &copy; <a href=\"https://earthengine.google.com/\">Google Earth Engine</a>',\n",
    "    overlay=True,\n",
    "    name='Out Image Texture',\n",
    "  ).add_to(map)\n",
    "map.add_child(folium.LayerControl())\n",
    "map"
   ]
  },
  {
   "cell_type": "code",
   "execution_count": 12,
   "metadata": {},
   "outputs": [],
   "source": [
    "BANDS = landsat_params['bandsClassify']\n",
    "LABEL = 'class'\n",
    "N_CLASSES = 4\n",
    "\n",
    "FEATURE_NAMES = list(BANDS)\n",
    "FEATURE_NAMES.append(LABEL)"
   ]
  },
  {
   "cell_type": "code",
   "execution_count": 13,
   "metadata": {},
   "outputs": [],
   "source": [
    "## PATHS FOR GOOGLE CLOUD STORAGE\n",
    "OUTPUT_BUCKET      = 'lc-mapping'\n",
    "file_extension     = '.tfrecord.gz'\n",
    "BUCKET_PATH        = 'gs://' + OUTPUT_BUCKET\n",
    "USER_PATH          = USER_NAME + '/' + FOLDER_NAME\n",
    "    \n",
    "TRAIN_FILE_PREFIX  = USER_PATH + '/' +'datasets/Training_' + str(timestamp)\n",
    "TEST_FILE_PREFIX   = USER_PATH + '/' +'datasets/Testing_' + str(timestamp)\n",
    "INPUT_IMAGE_PREFIX = USER_PATH + '/inputs/' + IMAGE_FILE_PREFIX\n",
    "FCC_IMAGE_PREFIX   = USER_PATH + '/outputs/' + IMAGE_FILE_PREFIX + '_fcc'\n",
    "\n",
    "TRAIN_FILE_PATH    = BUCKET_PATH + '/' + TRAIN_FILE_PREFIX + file_extension\n",
    "TEST_FILE_PATH     = BUCKET_PATH + '/' + TEST_FILE_PREFIX + file_extension\n",
    "INPUT_FILE_PATH    = BUCKET_PATH + '/' + USER_PATH + '/inputs/'\n",
    "\n",
    "OUTPUT_IMAGE_TFR   = BUCKET_PATH + '/' + USER_PATH + '/outputs/'+ IMAGE_FILE_PREFIX+'.TFRecord'\n",
    "\n",
    "## PATHS FOR REMOTE COMPUTER\n",
    "OUTPUT_DIR         = './' + USER_PATH\n",
    "JSON_PATH          = OUTPUT_DIR + '/json'\n",
    "MODEL_PATH         = USER_PATH + '/model'\n",
    "LC_DIR             = OUTPUT_DIR + '/lc-map/'\n",
    "FC_DIR             = OUTPUT_DIR + '/fc-map/'\n",
    "LC_IMAGE_TIF       = LC_DIR + IMAGE_FILE_PREFIX+'.tif'\n",
    "\n",
    "os.makedirs(MODEL_PATH, exist_ok = True)\n",
    "os.makedirs(JSON_PATH, exist_ok = True)\n",
    "os.makedirs(LC_DIR, exist_ok = True)\n",
    "os.makedirs(FC_DIR, exist_ok = True)"
   ]
  },
  {
   "cell_type": "code",
   "execution_count": 14,
   "metadata": {},
   "outputs": [],
   "source": [
    "sample = gt_image_texture.sampleRegions(\n",
    "    collection = LABEL_DATA,\n",
    "    properties = [LABEL],\n",
    "    scale = spatial_resolution,\n",
    ").randomColumn()"
   ]
  },
  {
   "cell_type": "code",
   "execution_count": 15,
   "metadata": {},
   "outputs": [],
   "source": [
    "training = sample.filter(ee.Filter.lt('random', 0.8))\n",
    "testing = sample.filter(ee.Filter.gte('random', 0.8))\n",
    "\n",
    "# pprint({'training': training.first().getInfo()})\n",
    "# pprint({'testing': testing.first().getInfo()})"
   ]
  },
  {
   "cell_type": "code",
   "execution_count": 16,
   "metadata": {},
   "outputs": [],
   "source": [
    "training_task = ee.batch.Export.table.toCloudStorage(\n",
    "    collection=training,\n",
    "    description='Training Export',\n",
    "    fileNamePrefix=TRAIN_FILE_PREFIX,\n",
    "    bucket=OUTPUT_BUCKET,\n",
    "    fileFormat='TFRecord',\n",
    "    selectors=FEATURE_NAMES)\n",
    "\n",
    "testing_task = ee.batch.Export.table.toCloudStorage(\n",
    "    collection=testing,\n",
    "    description='Testing Export',\n",
    "    fileNamePrefix=TEST_FILE_PREFIX,\n",
    "    bucket=OUTPUT_BUCKET,\n",
    "    fileFormat='TFRecord',\n",
    "    selectors=FEATURE_NAMES)"
   ]
  },
  {
   "cell_type": "code",
   "execution_count": 17,
   "metadata": {},
   "outputs": [],
   "source": [
    "training_task.start()\n",
    "testing_task.start()"
   ]
  },
  {
   "cell_type": "code",
   "execution_count": 18,
   "metadata": {},
   "outputs": [
    {
     "name": "stdout",
     "output_type": "stream",
     "text": [
      "Polling for task (id: MX6Z4INQHQJGXK4RD4GPBJYR).\n",
      "Polling for task (id: MX6Z4INQHQJGXK4RD4GPBJYR).\n",
      "Polling for task (id: MX6Z4INQHQJGXK4RD4GPBJYR).\n",
      "Polling for task (id: MX6Z4INQHQJGXK4RD4GPBJYR).\n",
      "Polling for task (id: MX6Z4INQHQJGXK4RD4GPBJYR).\n",
      "Polling for task (id: MX6Z4INQHQJGXK4RD4GPBJYR).\n",
      "Done with training export.\n",
      "Done with testing export.\n"
     ]
    }
   ],
   "source": [
    "while training_task.active():\n",
    "    print('Polling for task (id: {}).'.format(training_task.id))\n",
    "    time.sleep(10)\n",
    "print('Done with training export.')\n",
    "\n",
    "while testing_task.active():\n",
    "    print('Polling for task (id: {}).'.format(testing_task.id))\n",
    "    time.sleep(10)\n",
    "print('Done with testing export.')\n"
   ]
  },
  {
   "cell_type": "code",
   "execution_count": 19,
   "metadata": {},
   "outputs": [
    {
     "name": "stdout",
     "output_type": "stream",
     "text": [
      "Found training file.\n",
      "Found testing file.\n"
     ]
    }
   ],
   "source": [
    "print('Found training file.' if tf.io.gfile.exists(TRAIN_FILE_PATH) \n",
    "    else 'No training file found.')\n",
    "print('Found testing file.' if tf.io.gfile.exists(TEST_FILE_PATH) \n",
    "    else 'No testing file found.')"
   ]
  },
  {
   "cell_type": "code",
   "execution_count": 20,
   "metadata": {},
   "outputs": [],
   "source": [
    "train_dataset = tf.data.TFRecordDataset(TRAIN_FILE_PATH, compression_type='GZIP')\n",
    "test_dataset = tf.data.TFRecordDataset(TEST_FILE_PATH, compression_type='GZIP')\n",
    "\n",
    "# print(iter(train_dataset).next())\n",
    "# print(iter(test_dataset).next())"
   ]
  },
  {
   "cell_type": "code",
   "execution_count": 21,
   "metadata": {},
   "outputs": [
    {
     "name": "stdout",
     "output_type": "stream",
     "text": [
      "{'B2': FixedLenFeature(shape=[1], dtype=tf.float32, default_value=None),\n",
      " 'B3': FixedLenFeature(shape=[1], dtype=tf.float32, default_value=None),\n",
      " 'B4': FixedLenFeature(shape=[1], dtype=tf.float32, default_value=None),\n",
      " 'B5': FixedLenFeature(shape=[1], dtype=tf.float32, default_value=None),\n",
      " 'B5_1': FixedLenFeature(shape=[1], dtype=tf.float32, default_value=None),\n",
      " 'B6': FixedLenFeature(shape=[1], dtype=tf.float32, default_value=None),\n",
      " 'B7': FixedLenFeature(shape=[1], dtype=tf.float32, default_value=None),\n",
      " 'bi': FixedLenFeature(shape=[1], dtype=tf.float32, default_value=None),\n",
      " 'class': FixedLenFeature(shape=[1], dtype=tf.float32, default_value=None),\n",
      " 'ndbi': FixedLenFeature(shape=[1], dtype=tf.float32, default_value=None),\n",
      " 'ndvi': FixedLenFeature(shape=[1], dtype=tf.float32, default_value=None),\n",
      " 'ndwi': FixedLenFeature(shape=[1], dtype=tf.float32, default_value=None)}\n"
     ]
    }
   ],
   "source": [
    "columns = [\n",
    "           tf.io.FixedLenFeature(shape=[1], dtype=tf.float32) for k in FEATURE_NAMES\n",
    "]\n",
    "\n",
    "features_dict = dict(zip(FEATURE_NAMES, columns))\n",
    "\n",
    "pprint(features_dict)"
   ]
  },
  {
   "cell_type": "code",
   "execution_count": 22,
   "metadata": {},
   "outputs": [],
   "source": [
    "def parse_tfrecord(example_proto):\n",
    "    parsed_features = tf.io.parse_single_example(example_proto, features_dict)\n",
    "    labels = parsed_features.pop(LABEL)\n",
    "    return parsed_features, tf.cast(labels, tf.int32)\n",
    "\n",
    "parsed_trainset = train_dataset.map(parse_tfrecord, num_parallel_calls=5)\n",
    "parsed_testset = test_dataset.map(parse_tfrecord, num_parallel_calls=5)\n",
    "\n",
    "# pprint(iter(parsed_trainset))\n",
    "# pprint(iter(parsed_testset))"
   ]
  },
  {
   "cell_type": "code",
   "execution_count": 23,
   "metadata": {},
   "outputs": [],
   "source": [
    "def to_tuple(inputs, label):\n",
    "    return (tf.transpose(list(inputs.values())), tf.one_hot(indices=label, depth=N_CLASSES))\n",
    "\n",
    "input_dataset = parsed_trainset.map(to_tuple).batch(batch_size)\n",
    "validate_dataset = parsed_testset.map(to_tuple).batch(batch_size)"
   ]
  },
  {
   "cell_type": "code",
   "execution_count": 24,
   "metadata": {},
   "outputs": [],
   "source": [
    "model = tf.keras.models.Sequential([\n",
    "    tf.keras.layers.Dense(128, activation=tf.nn.relu),\n",
    "    tf.keras.layers.Dropout(0.1),\n",
    "    tf.keras.layers.Dense(64, activation=tf.nn.relu),\n",
    "    tf.keras.layers.Dropout(0.15),\n",
    "    tf.keras.layers.Dense(64, activation=tf.nn.relu),\n",
    "    tf.keras.layers.Dropout(0.1),\n",
    "    tf.keras.layers.Dense(64, activation=tf.nn.relu),\n",
    "    tf.keras.layers.Dense(64, activation=tf.nn.relu),\n",
    "    tf.keras.layers.Dense(N_CLASSES, activation=tf.nn.softmax)\n",
    "])"
   ]
  },
  {
   "cell_type": "code",
   "execution_count": 25,
   "metadata": {},
   "outputs": [],
   "source": [
    "model.compile(optimizer= tf.keras.optimizers.Adam(\n",
    "    learning_rate=0.0001),\n",
    "    loss='categorical_crossentropy',\n",
    "    metrics=['accuracy', 'mse']\n",
    ")"
   ]
  },
  {
   "cell_type": "code",
   "execution_count": 26,
   "metadata": {},
   "outputs": [
    {
     "name": "stdout",
     "output_type": "stream",
     "text": [
      "WARNING:tensorflow:Expected a shuffled dataset but input dataset `x` is not shuffled. Please invoke `shuffle()` on input dataset.\n",
      "WARNING:tensorflow:From /home/rohit/anaconda3/envs/gee/lib/python3.7/site-packages/tensorflow_core/python/ops/resource_variable_ops.py:1630: calling BaseResourceVariable.__init__ (from tensorflow.python.ops.resource_variable_ops) with constraint is deprecated and will be removed in a future version.\n",
      "Instructions for updating:\n",
      "If using Keras pass *_constraint arguments to layers.\n",
      "Train on None steps, validate on 20.0 steps\n",
      "Epoch 1/25\n",
      "83/83 [==============================] - 3s 39ms/step - loss: 1.4098 - acc: 0.1662 - mean_squared_error: 0.1904 - val_loss: 0.0000e+00 - val_acc: 0.0000e+00 - val_mean_squared_error: 0.0000e+00\n",
      "Epoch 2/25\n",
      "83/83 [==============================] - 3s 31ms/step - loss: 1.3834 - acc: 0.2917 - mean_squared_error: 0.1871 - val_loss: 1.3518 - val_acc: 0.4805 - val_mean_squared_error: 0.1832\n",
      "Epoch 3/25\n",
      "83/83 [==============================] - 3s 31ms/step - loss: 1.3558 - acc: 0.3318 - mean_squared_error: 0.1837 - val_loss: 1.3024 - val_acc: 0.4895 - val_mean_squared_error: 0.1771\n",
      "Epoch 4/25\n",
      "83/83 [==============================] - 4s 48ms/step - loss: 1.2954 - acc: 0.3582 - mean_squared_error: 0.1764 - val_loss: 1.1989 - val_acc: 0.4725 - val_mean_squared_error: 0.1647\n",
      "Epoch 5/25\n",
      "83/83 [==============================] - 4s 45ms/step - loss: 1.1930 - acc: 0.4055 - mean_squared_error: 0.1636 - val_loss: 1.0544 - val_acc: 0.4430 - val_mean_squared_error: 0.1464\n",
      "Epoch 6/25\n",
      "83/83 [==============================] - 4s 43ms/step - loss: 1.0649 - acc: 0.4373 - mean_squared_error: 0.1468 - val_loss: 0.9293 - val_acc: 0.4450 - val_mean_squared_error: 0.1313\n",
      "Epoch 7/25\n",
      "83/83 [==============================] - 2s 30ms/step - loss: 0.9712 - acc: 0.4389 - mean_squared_error: 0.1362 - val_loss: 0.8609 - val_acc: 0.4535 - val_mean_squared_error: 0.1249\n",
      "Epoch 8/25\n",
      "83/83 [==============================] - 2s 26ms/step - loss: 0.9135 - acc: 0.4595 - mean_squared_error: 0.1311 - val_loss: 0.8224 - val_acc: 0.5220 - val_mean_squared_error: 0.1208\n",
      "Epoch 9/25\n",
      "83/83 [==============================] - 2s 30ms/step - loss: 0.8719 - acc: 0.5124 - mean_squared_error: 0.1263 - val_loss: 0.7869 - val_acc: 0.5975 - val_mean_squared_error: 0.1166\n",
      "Epoch 10/25\n",
      "83/83 [==============================] - 3s 31ms/step - loss: 0.8419 - acc: 0.5465 - mean_squared_error: 0.1226 - val_loss: 0.7488 - val_acc: 0.6495 - val_mean_squared_error: 0.1113\n",
      "Epoch 11/25\n",
      "83/83 [==============================] - 2s 28ms/step - loss: 0.8012 - acc: 0.5832 - mean_squared_error: 0.1168 - val_loss: 0.7056 - val_acc: 0.6635 - val_mean_squared_error: 0.1057\n",
      "Epoch 12/25\n",
      "83/83 [==============================] - 3s 35ms/step - loss: 0.7673 - acc: 0.6008 - mean_squared_error: 0.1119 - val_loss: 0.6609 - val_acc: 0.6670 - val_mean_squared_error: 0.0997\n",
      "Epoch 13/25\n",
      "83/83 [==============================] - 2s 28ms/step - loss: 0.7211 - acc: 0.6133 - mean_squared_error: 0.1056 - val_loss: 0.6189 - val_acc: 0.6720 - val_mean_squared_error: 0.0942\n",
      "Epoch 14/25\n",
      "83/83 [==============================] - 2s 23ms/step - loss: 0.6822 - acc: 0.6260 - mean_squared_error: 0.1008 - val_loss: 0.5791 - val_acc: 0.6800 - val_mean_squared_error: 0.0890\n",
      "Epoch 15/25\n",
      "83/83 [==============================] - 3s 38ms/step - loss: 0.6465 - acc: 0.6360 - mean_squared_error: 0.0968 - val_loss: 0.5481 - val_acc: 0.6790 - val_mean_squared_error: 0.0851\n",
      "Epoch 16/25\n",
      "83/83 [==============================] - 3s 30ms/step - loss: 0.6222 - acc: 0.6362 - mean_squared_error: 0.0941 - val_loss: 0.5258 - val_acc: 0.6800 - val_mean_squared_error: 0.0825\n",
      "Epoch 17/25\n",
      "83/83 [==============================] - 3s 37ms/step - loss: 0.5985 - acc: 0.6395 - mean_squared_error: 0.0916 - val_loss: 0.5066 - val_acc: 0.6830 - val_mean_squared_error: 0.0802\n",
      "Epoch 18/25\n",
      "83/83 [==============================] - 2s 24ms/step - loss: 0.5845 - acc: 0.6432 - mean_squared_error: 0.0901 - val_loss: 0.4937 - val_acc: 0.6840 - val_mean_squared_error: 0.0786\n",
      "Epoch 19/25\n",
      "83/83 [==============================] - 3s 34ms/step - loss: 0.5676 - acc: 0.6401 - mean_squared_error: 0.0883 - val_loss: 0.4828 - val_acc: 0.6840 - val_mean_squared_error: 0.0774\n",
      "Epoch 20/25\n",
      "83/83 [==============================] - 3s 30ms/step - loss: 0.5560 - acc: 0.6351 - mean_squared_error: 0.0872 - val_loss: 0.4745 - val_acc: 0.6850 - val_mean_squared_error: 0.0764\n",
      "Epoch 21/25\n",
      "83/83 [==============================] - 3s 40ms/step - loss: 0.5492 - acc: 0.6382 - mean_squared_error: 0.0864 - val_loss: 0.4679 - val_acc: 0.6840 - val_mean_squared_error: 0.0756\n",
      "Epoch 22/25\n",
      "83/83 [==============================] - 3s 31ms/step - loss: 0.5387 - acc: 0.6356 - mean_squared_error: 0.0854 - val_loss: 0.4638 - val_acc: 0.6840 - val_mean_squared_error: 0.0751\n",
      "Epoch 23/25\n",
      "83/83 [==============================] - 2s 25ms/step - loss: 0.5311 - acc: 0.6376 - mean_squared_error: 0.0844 - val_loss: 0.4604 - val_acc: 0.6850 - val_mean_squared_error: 0.0747\n",
      "Epoch 24/25\n",
      "83/83 [==============================] - 3s 40ms/step - loss: 0.5324 - acc: 0.6360 - mean_squared_error: 0.0846 - val_loss: 0.4569 - val_acc: 0.6855 - val_mean_squared_error: 0.0743\n",
      "Epoch 25/25\n",
      "83/83 [==============================] - 3s 32ms/step - loss: 0.5220 - acc: 0.6362 - mean_squared_error: 0.0834 - val_loss: 0.4537 - val_acc: 0.6850 - val_mean_squared_error: 0.0739\n"
     ]
    }
   ],
   "source": [
    "def build_callbacks():\n",
    "    checkpointer = ModelCheckpoint(filepath = MODEL_PATH + '/best_model.h5', monitor='val_acc', verbose=0, save_best_only=True)\n",
    "    callbacks = [checkpointer]\n",
    "    return callbacks\n",
    "history = model.fit(x=input_dataset,\n",
    "                    epochs=25,\n",
    "#                     steps_per_epoch= train_step,\n",
    "                    callbacks=build_callbacks(),\n",
    "                    validation_data=(validate_dataset),\n",
    "                    validation_steps=validate_step,\n",
    "                    shuffle=True\n",
    "                    )"
   ]
  },
  {
   "cell_type": "code",
   "execution_count": 27,
   "metadata": {},
   "outputs": [
    {
     "data": {
      "image/png": "[encoded data removed]",
      "text/plain": [
       "<Figure size 432x288 with 1 Axes>"
      ]
     },
     "metadata": {
      "needs_background": "light"
     },
     "output_type": "display_data"
    },
    {
     "data": {
      "image/png": "[encoded data removed]",
      "text/plain": [
       "<Figure size 432x288 with 1 Axes>"
      ]
     },
     "metadata": {
      "needs_background": "light"
     },
     "output_type": "display_data"
    }
   ],
   "source": [
    "# summarize history for accuracy\n",
    "plt.plot(history.history['acc'])\n",
    "plt.plot(history.history['val_acc'])\n",
    "plt.title('model accuracy')\n",
    "plt.ylabel('accuracy')\n",
    "plt.xlabel('epoch')\n",
    "plt.legend(['train', 'test'], loc='upper left')\n",
    "plt.show()\n",
    "# summarize history for loss\n",
    "plt.plot(history.history['loss'])\n",
    "plt.plot(history.history['val_loss'])\n",
    "plt.title('model loss')\n",
    "plt.ylabel('loss')\n",
    "plt.xlabel('epoch')\n",
    "plt.legend(['train', 'test'], loc='upper left')\n",
    "plt.show()"
   ]
  },
  {
   "cell_type": "code",
   "execution_count": 28,
   "metadata": {},
   "outputs": [
    {
     "name": "stdout",
     "output_type": "stream",
     "text": [
      "     22/Unknown - 1s 40ms/step - loss: 0.4696 - acc: 0.7035 - mean_squared_error: 0.0761"
     ]
    },
    {
     "data": {
      "text/plain": [
       "[0.4695672227164984, 0.7034965, 0.076066226]"
      ]
     },
     "execution_count": 28,
     "metadata": {},
     "output_type": "execute_result"
    }
   ],
   "source": [
    "model.evaluate(validate_dataset, steps=None)"
   ]
  },
  {
   "cell_type": "code",
   "execution_count": 29,
   "metadata": {},
   "outputs": [],
   "source": [
    "image_export_options = {\n",
    "    'patchDimensions': [patch_size, patch_size],\n",
    "    'maxFileSize': 104857600,\n",
    "    'compressed': True\n",
    "}\n",
    "\n",
    "image_task = ee.batch.Export.image.toCloudStorage(\n",
    "    image=out_image_texture,\n",
    "    description='Image Export',\n",
    "    fileNamePrefix= INPUT_IMAGE_PREFIX,\n",
    "    bucket=OUTPUT_BUCKET,\n",
    "    scale=spatial_resolution,\n",
    "    fileFormat='TFRecord',\n",
    "    region=out_ext_buffer,\n",
    "    formatOptions=image_export_options,\n",
    ")\n",
    "\n",
    "image_task.start()"
   ]
  },
  {
   "cell_type": "code",
   "execution_count": 30,
   "metadata": {},
   "outputs": [
    {
     "name": "stdout",
     "output_type": "stream",
     "text": [
      "Polling for task (id: BOPZU3MZTEVXPYTQLXP7HTPR).\n",
      "Polling for task (id: BOPZU3MZTEVXPYTQLXP7HTPR).\n",
      "Polling for task (id: BOPZU3MZTEVXPYTQLXP7HTPR).\n",
      "Polling for task (id: BOPZU3MZTEVXPYTQLXP7HTPR).\n",
      "Polling for task (id: BOPZU3MZTEVXPYTQLXP7HTPR).\n",
      "Polling for task (id: BOPZU3MZTEVXPYTQLXP7HTPR).\n",
      "Polling for task (id: BOPZU3MZTEVXPYTQLXP7HTPR).\n",
      "Polling for task (id: BOPZU3MZTEVXPYTQLXP7HTPR).\n",
      "Polling for task (id: BOPZU3MZTEVXPYTQLXP7HTPR).\n",
      "Done with image export.\n"
     ]
    }
   ],
   "source": [
    "while image_task.active():\n",
    "    print('Polling for task (id: {}).'.format(image_task.id))\n",
    "    time.sleep(10)\n",
    "print('Done with image export.')"
   ]
  },
  {
   "cell_type": "code",
   "execution_count": 31,
   "metadata": {},
   "outputs": [],
   "source": [
    "fcc_image = out_image_texture.select(landsat_params['FCCbands'])\n",
    "\n",
    "fcc_task = ee.batch.Export.image.toCloudStorage(\n",
    "    image=fcc_image,\n",
    "    description= 'FCC Image Export',\n",
    "    fileNamePrefix=FCC_IMAGE_PREFIX,\n",
    "    bucket=OUTPUT_BUCKET,\n",
    "    scale=spatial_resolution,\n",
    "    fileFormat='GeoTIFF',\n",
    "    region=out_ext_buffer,\n",
    "    formatOptions=image_export_options,\n",
    ")\n",
    "\n",
    "fcc_task.start()"
   ]
  },
  {
   "cell_type": "code",
   "execution_count": 32,
   "metadata": {},
   "outputs": [
    {
     "name": "stdout",
     "output_type": "stream",
     "text": [
      "Polling for task (id: AS34JS23WTQHN2LH75ICBDNS).\n",
      "Polling for task (id: AS34JS23WTQHN2LH75ICBDNS).\n",
      "Polling for task (id: AS34JS23WTQHN2LH75ICBDNS).\n",
      "Polling for task (id: AS34JS23WTQHN2LH75ICBDNS).\n",
      "Polling for task (id: AS34JS23WTQHN2LH75ICBDNS).\n",
      "Polling for task (id: AS34JS23WTQHN2LH75ICBDNS).\n",
      "Done with FCC Image export.\n"
     ]
    }
   ],
   "source": [
    "while fcc_task.active():\n",
    "    print('Polling for task (id: {}).'.format(fcc_task.id))\n",
    "    time.sleep(10)\n",
    "print('Done with FCC Image export.')"
   ]
  },
  {
   "cell_type": "code",
   "execution_count": 33,
   "metadata": {},
   "outputs": [],
   "source": [
    "fcc_name = FCC_IMAGE_PREFIX + '.tif'\n",
    "fcc_output_file = FC_DIR + '/' +  IMAGE_FILE_PREFIX + '_fcc.tif'\n",
    "\n",
    "bucket = storage_client.get_bucket('lc-mapping')\n",
    "blob = bucket.blob(fcc_name)\n",
    "with open(fcc_output_file, 'wb') as f:\n",
    "    storage_client.download_blob_to_file(blob, f)"
   ]
  },
  {
   "cell_type": "code",
   "execution_count": 34,
   "metadata": {},
   "outputs": [
    {
     "name": "stdout",
     "output_type": "stream",
     "text": [
      "['gs://lc-mapping/rohit/rohit_Chittagong_2020_2020_1623671201/inputs/Chittagong_2020_2020.tfrecord.gz']\n",
      "Chittagong_2020_2020.json\n"
     ]
    }
   ],
   "source": [
    "files_list = tf.io.gfile.listdir(INPUT_FILE_PATH)\n",
    "exported_files_list = [s for s in files_list if IMAGE_FILE_PREFIX in s]\n",
    "\n",
    "tfrecord_list = []\n",
    "json_file = None\n",
    "for f in exported_files_list:\n",
    "    if f.endswith('.tfrecord.gz'):\n",
    "        tfrecord_list.append(f)\n",
    "    elif f.endswith('.json'):\n",
    "        json_file = f\n",
    "    \n",
    "tfrecord_list.sort()\n",
    "\n",
    "tfrecord_list = [INPUT_FILE_PATH + x for x in tfrecord_list]\n",
    "\n",
    "print(tfrecord_list)\n",
    "print(json_file)"
   ]
  },
  {
   "cell_type": "code",
   "execution_count": 35,
   "metadata": {},
   "outputs": [],
   "source": [
    "file_name = USER_NAME + '/' + FOLDER_NAME + '/inputs/' + json_file\n",
    "json_output_file = JSON_PATH + '/' + json_file\n",
    "\n",
    "bucket = storage_client.get_bucket('lc-mapping')\n",
    "blob = bucket.blob(file_name)\n",
    "with open(json_output_file, 'wb') as f:\n",
    "    storage_client.download_blob_to_file(blob, f)"
   ]
  },
  {
   "cell_type": "code",
   "execution_count": 36,
   "metadata": {},
   "outputs": [
    {
     "data": {
      "text/plain": [
       "{'projection': {'crs': 'EPSG:4326',\n",
       "  'affine': {'doubleMatrix': [0.0010779783409434259,\n",
       "    0.0,\n",
       "    91.50526944932365,\n",
       "    0.0,\n",
       "    -0.0010779783409434259,\n",
       "    22.63323324644817]}},\n",
       " 'patchDimensions': [256, 256],\n",
       " 'patchesPerRow': 2,\n",
       " 'totalPatches': 4}"
      ]
     },
     "execution_count": 36,
     "metadata": {},
     "output_type": "execute_result"
    }
   ],
   "source": [
    "with open(json_output_file, \"r\") as read_file:\n",
    "    mixer = json.load(read_file)\n",
    "mixer"
   ]
  },
  {
   "cell_type": "code",
   "execution_count": 37,
   "metadata": {},
   "outputs": [],
   "source": [
    "patch_width = mixer['patchDimensions'][0]\n",
    "patch_height = mixer['patchDimensions'][1]\n",
    "patches = mixer['totalPatches']\n",
    "patch_dimensions_flat = [patch_width*patch_height, 1]\n",
    "\n",
    "image_columns = [\n",
    "                tf.io.FixedLenFeature(shape=patch_dimensions_flat, dtype=tf.float32) for k in BANDS\n",
    "]\n",
    "\n",
    "image_features_dict = dict(zip(BANDS, image_columns))\n",
    "\n",
    "image_dataset = tf.data.TFRecordDataset(tfrecord_list, compression_type='GZIP')"
   ]
  },
  {
   "cell_type": "code",
   "execution_count": 38,
   "metadata": {},
   "outputs": [],
   "source": [
    "def parse_image(example_proto):\n",
    "    return tf.io.parse_single_example(example_proto, image_features_dict)"
   ]
  },
  {
   "cell_type": "code",
   "execution_count": 39,
   "metadata": {},
   "outputs": [],
   "source": [
    "image_dataset = image_dataset.map(parse_image, num_parallel_calls=5)\n",
    "\n",
    "image_dataset = image_dataset.flat_map(\n",
    "    lambda features: tf.data.Dataset.from_tensor_slices(features)\n",
    ")\n",
    "\n",
    "image_dataset = image_dataset.map(\n",
    "  lambda data_dict: (tf.transpose(list(data_dict.values())))\n",
    ")\n",
    "\n",
    "image_dataset = image_dataset.batch(patch_width * patch_height)"
   ]
  },
  {
   "cell_type": "code",
   "execution_count": 40,
   "metadata": {
    "scrolled": true
   },
   "outputs": [
    {
     "name": "stdout",
     "output_type": "stream",
     "text": [
      "4/4 [==============================] - 7s 2s/step\n",
      "[[0.21295933 0.17735118 0.3624242  0.24726534]]\n"
     ]
    }
   ],
   "source": [
    "predictions = model.predict(image_dataset, steps=patches, verbose=1)\n",
    "print(predictions[0])"
   ]
  },
  {
   "cell_type": "code",
   "execution_count": 41,
   "metadata": {},
   "outputs": [
    {
     "name": "stdout",
     "output_type": "stream",
     "text": [
      "Done with Patch 1 of 4...\n",
      "Done with Patch 2 of 4...\n",
      "Done with Patch 3 of 4...\n",
      "Done with Patch 4 of 4...\n"
     ]
    }
   ],
   "source": [
    "writer = tf.io.TFRecordWriter(OUTPUT_IMAGE_TFR)\n",
    "\n",
    "patch = [[]]\n",
    "cur_patch = 1\n",
    "for prediction in predictions:\n",
    "    patch[0].append(np.argmax(prediction))\n",
    "\n",
    "    if (len(patch[0])==patch_width*patch_height):\n",
    "        print('Done with Patch ' + str(cur_patch) + ' of ' + str(patches) + '...')\n",
    "        example = tf.train.Example(\n",
    "            features=tf.train.Features(\n",
    "                feature={\n",
    "                    'prediction': tf.train.Feature(\n",
    "                        int64_list=tf.train.Int64List(\n",
    "                            value=patch[0]\n",
    "                        )\n",
    "                    )\n",
    "                }\n",
    "            )\n",
    "        )\n",
    "\n",
    "        writer.write(example.SerializeToString())\n",
    "        patch=[[]]\n",
    "        cur_patch +=1\n",
    "        \n",
    "writer.close()"
   ]
  },
  {
   "cell_type": "code",
   "execution_count": 42,
   "metadata": {},
   "outputs": [
    {
     "name": "stdout",
     "output_type": "stream",
     "text": [
      "WARNING:tensorflow:From <ipython-input-42-359c0215969a>:1: tf_record_iterator (from tensorflow.python.lib.io.tf_record) is deprecated and will be removed in a future version.\n",
      "Instructions for updating:\n",
      "Use eager execution and: \n",
      "`tf.data.TFRecordDataset(path)`\n",
      "1\n",
      "3\n",
      "4\n"
     ]
    }
   ],
   "source": [
    "record_iterator = tf.compat.v1.python_io.tf_record_iterator(path=OUTPUT_IMAGE_TFR)\n",
    "\n",
    "n_row = patches/mixer['patchesPerRow']\n",
    "n_col = mixer['patchesPerRow']\n",
    "current_row = 0\n",
    "current_col = 0\n",
    "counter = 0\n",
    "\n",
    "for string_record in record_iterator:\n",
    "    example = tf.train.Example()\n",
    "    example.ParseFromString(string_record)\n",
    "    values = np.array(example.features.feature['prediction'].int64_list.value).reshape(patch_width, patch_height).astype(np.int8)\n",
    "\n",
    "    if (current_col==0):\n",
    "        horizontal_strip = values\n",
    "    else:\n",
    "        horizontal_strip = np.concatenate([horizontal_strip, values], axis=1)\n",
    "    current_col += 1\n",
    "\n",
    "    if (current_col == n_col):\n",
    "        if (current_row==0):\n",
    "            image = horizontal_strip\n",
    "        else:\n",
    "            image = np.concatenate([image, horizontal_strip], axis=0)\n",
    "            horizontal_strip = []\n",
    "\n",
    "        current_row +=1\n",
    "        current_col = 0\n",
    "        print(counter)\n",
    "    counter +=1\n",
    "print(counter)"
   ]
  },
  {
   "cell_type": "code",
   "execution_count": 43,
   "metadata": {},
   "outputs": [
    {
     "data": {
      "image/png": "[encoded data removed]",
      "text/plain": [
       "<Figure size 432x288 with 1 Axes>"
      ]
     },
     "metadata": {
      "needs_background": "light"
     },
     "output_type": "display_data"
    }
   ],
   "source": [
    "imgplot = plt.imshow(image, cmap=plt.get_cmap('jet'), vmin=0, vmax=1)\n",
    "plt.show()"
   ]
  },
  {
   "cell_type": "code",
   "execution_count": 44,
   "metadata": {},
   "outputs": [
    {
     "name": "stdout",
     "output_type": "stream",
     "text": [
      "[0.0010779783409434259, 0.0, 91.50526944932365, 0.0, -0.0010779783409434259, 22.63323324644817]\n",
      "(91.50526944932365, 0.0010779783409434259, 0.0, 22.63323324644817, 0.0, -0.0010779783409434259)\n",
      "4326\n"
     ]
    }
   ],
   "source": [
    "affine = mixer['projection']['affine']['doubleMatrix']\n",
    "geotransform = (affine[2], affine[0], affine[1], affine[5], affine[3], affine[4])\n",
    "crs = int(mixer['projection']['crs'][-4:])\n",
    "print(affine)\n",
    "print(geotransform)\n",
    "print(crs)"
   ]
  },
  {
   "cell_type": "code",
   "execution_count": 45,
   "metadata": {},
   "outputs": [
    {
     "name": "stdout",
     "output_type": "stream",
     "text": [
      "Exorting ./rohit/rohit_Chittagong_2020_2020_1623671201/lc-map/Chittagong_2020_2020.tif completed.\n"
     ]
    }
   ],
   "source": [
    "ny, nx = image.shape\n",
    "dst_ds = gdal.GetDriverByName('GTiff').Create(LC_IMAGE_TIF, nx, ny, 1, gdal.GDT_Byte)\n",
    "dst_ds.SetGeoTransform(tuple(geotransform))\n",
    "srs = osr.SpatialReference()\n",
    "srs.ImportFromEPSG(crs)\n",
    "dst_ds.SetProjection(srs.ExportToWkt())\n",
    "dst_ds.GetRasterBand(1).WriteArray(image)\n",
    "dst_ds.FlushCache()\n",
    "dst_ds = None\n",
    "\n",
    "print(\"Exorting \" + LC_IMAGE_TIF + \" completed.\")"
   ]
  },
  {
   "cell_type": "code",
   "execution_count": null,
   "metadata": {},
   "outputs": [],
   "source": []
  }
 ],
 "metadata": {
  "kernelspec": {
   "display_name": "Python [conda env:gee] *",
   "language": "python",
   "name": "conda-env-gee-py"
  },
  "language_info": {
   "codemirror_mode": {
    "name": "ipython",
    "version": 3
   },
   "file_extension": ".py",
   "mimetype": "text/x-python",
   "name": "python",
   "nbconvert_exporter": "python",
   "pygments_lexer": "ipython3",
   "version": "3.7.10"
  }
 },
 "nbformat": 4,
 "nbformat_minor": 4
}
