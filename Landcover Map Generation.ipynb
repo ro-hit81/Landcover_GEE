{
 "cells": [
  {
   "cell_type": "code",
   "execution_count": 1,
   "id": "7d43e939",
   "metadata": {},
   "outputs": [],
   "source": [
    "import sys\n",
    "sys.path.append('./py/')"
   ]
  },
  {
   "cell_type": "code",
   "execution_count": 2,
   "id": "855077e7",
   "metadata": {},
   "outputs": [
    {
     "name": "stderr",
     "output_type": "stream",
     "text": [
      "Using TensorFlow backend.\n"
     ]
    }
   ],
   "source": [
    "import ee\n",
    "import folium\n",
    "import json\n",
    "import os\n",
    "import time\n",
    "\n",
    "import matplotlib.pyplot as plt\n",
    "import numpy as np\n",
    "import tensorflow as tf\n",
    "\n",
    "from google.cloud import storage\n",
    "from keras.callbacks import ModelCheckpoint\n",
    "from keras.callbacks import LearningRateScheduler\n",
    "from osgeo import gdal\n",
    "from osgeo import osr\n",
    "from pprint import pprint"
   ]
  },
  {
   "cell_type": "code",
   "execution_count": 3,
   "id": "3b5c00ab",
   "metadata": {},
   "outputs": [],
   "source": [
    "os.environ['GOOGLE_APPLICATION_CREDENTIALS'] = \"glodal_gee.json\"\n",
    "storage_client = storage.Client()\n",
    "\n",
    "service_account = 'glodal-landcover-mapping@rohit-81.iam.gserviceaccount.com'\n",
    "credentials = ee.ServiceAccountCredentials(service_account, 'glodal_gee.json')\n",
    "ee.Initialize(credentials)"
   ]
  },
  {
   "cell_type": "code",
   "execution_count": 4,
   "id": "b31f49e9",
   "metadata": {},
   "outputs": [],
   "source": [
    "from AssetsFilter import Assets\n",
    "from Config import *\n",
    "from IndicesAdd import Indices\n",
    "from ParamSelection import Landsat\n",
    "from ProductSelection import Product"
   ]
  },
  {
   "cell_type": "code",
   "execution_count": 5,
   "id": "ea6564fb",
   "metadata": {},
   "outputs": [
    {
     "name": "stdout",
     "output_type": "stream",
     "text": [
      "Device mapping:\n",
      "/job:localhost/replica:0/task:0/device:XLA_CPU:0 -> device: XLA_CPU device\n",
      "/job:localhost/replica:0/task:0/device:GPU:0 -> device: 0, name: GeForce RTX 2080 SUPER, pci bus id: 0000:01:00.0, compute capability: 7.5\n",
      "/job:localhost/replica:0/task:0/device:XLA_GPU:0 -> device: XLA_GPU device\n",
      "\n"
     ]
    }
   ],
   "source": [
    "config = tf.ConfigProto()\n",
    "\n",
    "config.gpu_options.allow_growth = True # dynamically grow the memory used on the GPU\n",
    "\n",
    "config.log_device_placement = True\n",
    "\n",
    "sess = tf.Session(config=config)\n",
    "\n",
    "tf.keras.backend.set_session(sess)"
   ]
  },
  {
   "cell_type": "code",
   "execution_count": 6,
   "id": "97c8dd00",
   "metadata": {},
   "outputs": [],
   "source": [
    "def reduce_class_value(feat):\n",
    "    return feat.set('class', ee.Number(feat.get('class')).subtract(1))"
   ]
  },
  {
   "cell_type": "code",
   "execution_count": 7,
   "id": "b9db3273",
   "metadata": {},
   "outputs": [],
   "source": [
    "ref_point = gtpt_asset.map(reduce_class_value)"
   ]
  },
  {
   "cell_type": "code",
   "execution_count": 8,
   "id": "541914ad",
   "metadata": {},
   "outputs": [
    {
     "name": "stdout",
     "output_type": "stream",
     "text": [
      "13305\n"
     ]
    }
   ],
   "source": [
    "for year in range(year_begin, year_end+1, 1):\n",
    "    out_ext = ee.Geometry.Rectangle([ ROI['LonMin'], ROI['LatMin'], ROI['LonMax'], ROI['LatMax']])\n",
    "    out_ext_center = out_ext.centroid()\n",
    "\n",
    "    out_ext_buffer = out_ext.buffer(buffer_distance).bounds()\n",
    "\n",
    "    center_lat = out_ext_center.getInfo()['coordinates'][1]\n",
    "    center_lon = out_ext_center.getInfo()['coordinates'][0]\n",
    "    \n",
    "    landsat_parameters = Landsat(year_begin).select_landsat()\n",
    "    \n",
    "    gtYearBegin = year_begin\n",
    "    gtYearEnd = year_end\n",
    "    \n",
    "    landsat_product = Product(landsat_parameters['Landsat'], gtYearBegin, gtYearEnd, ROI['doyFilterLandsat'], out_ext, cloud).select_product()\n",
    "    \n",
    "    LABEL_DATA = ref_point.filter(ee.Filter.And(ee.Filter.greaterThanOrEquals('year', gtYearBegin), ee.Filter.lessThanOrEquals('year', gtYearEnd), ROI['doyFilter']))\n",
    "    LABEL_DATA = LABEL_DATA.filterBounds(landsat_product['region'])\n",
    "    \n",
    "    data_size = LABEL_DATA.size().getInfo()\n",
    "    print(data_size)\n",
    "    \n",
    "    Indices(landsat_parameters, landsat_product).add_indices()\n",
    "    \n",
    "    gt_image = landsat_product['image']\n",
    "    gt_image_int = landsat_product['image_int']\n",
    "    gt_image_texture = gt_image.addBands(gt_image_int.select(landsat_parameters['TextureBand']).entropy(kernel))\n",
    "\n",
    "    out_image = landsat_product['image'].clip(out_ext_buffer)\n",
    "    out_image_int = landsat_product['image_int'].clip(out_ext_buffer)\n",
    "    out_image_texture = out_image.addBands(out_image_int.select(landsat_parameters['TextureBand']).entropy(kernel))"
   ]
  },
  {
   "cell_type": "code",
   "execution_count": 9,
   "id": "95ebc911",
   "metadata": {},
   "outputs": [
    {
     "data": {
      "text/html": [
       "<div style=\"width:100%;\"><div style=\"position:relative;width:100%;height:0;padding-bottom:60%;\"><span style=\"color:#565656\">Make this Notebook Trusted to load map: File -> Trust Notebook</span><iframe src=\"about:blank\" style=\"position:absolute;width:100%;height:100%;left:0;top:0;border:none !important;\" data-html=%3C%21DOCTYPE%20html%3E%0A%3Chead%3E%20%20%20%20%0A%20%20%20%20%3Cmeta%20http-equiv%3D%22content-type%22%20content%3D%22text/html%3B%20charset%3DUTF-8%22%20/%3E%0A%20%20%20%20%0A%20%20%20%20%20%20%20%20%3Cscript%3E%0A%20%20%20%20%20%20%20%20%20%20%20%20L_NO_TOUCH%20%3D%20false%3B%0A%20%20%20%20%20%20%20%20%20%20%20%20L_DISABLE_3D%20%3D%20false%3B%0A%20%20%20%20%20%20%20%20%3C/script%3E%0A%20%20%20%20%0A%20%20%20%20%3Cstyle%3Ehtml%2C%20body%20%7Bwidth%3A%20100%25%3Bheight%3A%20100%25%3Bmargin%3A%200%3Bpadding%3A%200%3B%7D%3C/style%3E%0A%20%20%20%20%3Cstyle%3E%23map%20%7Bposition%3Aabsolute%3Btop%3A0%3Bbottom%3A0%3Bright%3A0%3Bleft%3A0%3B%7D%3C/style%3E%0A%20%20%20%20%3Cscript%20src%3D%22https%3A//cdn.jsdelivr.net/npm/leaflet%401.6.0/dist/leaflet.js%22%3E%3C/script%3E%0A%20%20%20%20%3Cscript%20src%3D%22https%3A//code.jquery.com/jquery-1.12.4.min.js%22%3E%3C/script%3E%0A%20%20%20%20%3Cscript%20src%3D%22https%3A//maxcdn.bootstrapcdn.com/bootstrap/3.2.0/js/bootstrap.min.js%22%3E%3C/script%3E%0A%20%20%20%20%3Cscript%20src%3D%22https%3A//cdnjs.cloudflare.com/ajax/libs/Leaflet.awesome-markers/2.0.2/leaflet.awesome-markers.js%22%3E%3C/script%3E%0A%20%20%20%20%3Clink%20rel%3D%22stylesheet%22%20href%3D%22https%3A//cdn.jsdelivr.net/npm/leaflet%401.6.0/dist/leaflet.css%22/%3E%0A%20%20%20%20%3Clink%20rel%3D%22stylesheet%22%20href%3D%22https%3A//maxcdn.bootstrapcdn.com/bootstrap/3.2.0/css/bootstrap.min.css%22/%3E%0A%20%20%20%20%3Clink%20rel%3D%22stylesheet%22%20href%3D%22https%3A//maxcdn.bootstrapcdn.com/bootstrap/3.2.0/css/bootstrap-theme.min.css%22/%3E%0A%20%20%20%20%3Clink%20rel%3D%22stylesheet%22%20href%3D%22https%3A//maxcdn.bootstrapcdn.com/font-awesome/4.6.3/css/font-awesome.min.css%22/%3E%0A%20%20%20%20%3Clink%20rel%3D%22stylesheet%22%20href%3D%22https%3A//cdnjs.cloudflare.com/ajax/libs/Leaflet.awesome-markers/2.0.2/leaflet.awesome-markers.css%22/%3E%0A%20%20%20%20%3Clink%20rel%3D%22stylesheet%22%20href%3D%22https%3A//cdn.jsdelivr.net/gh/python-visualization/folium/folium/templates/leaflet.awesome.rotate.min.css%22/%3E%0A%20%20%20%20%0A%20%20%20%20%20%20%20%20%20%20%20%20%3Cmeta%20name%3D%22viewport%22%20content%3D%22width%3Ddevice-width%2C%0A%20%20%20%20%20%20%20%20%20%20%20%20%20%20%20%20initial-scale%3D1.0%2C%20maximum-scale%3D1.0%2C%20user-scalable%3Dno%22%20/%3E%0A%20%20%20%20%20%20%20%20%20%20%20%20%3Cstyle%3E%0A%20%20%20%20%20%20%20%20%20%20%20%20%20%20%20%20%23map_0b29285893024bf3a7e22fd90ce7fd4e%20%7B%0A%20%20%20%20%20%20%20%20%20%20%20%20%20%20%20%20%20%20%20%20position%3A%20relative%3B%0A%20%20%20%20%20%20%20%20%20%20%20%20%20%20%20%20%20%20%20%20width%3A%20100.0%25%3B%0A%20%20%20%20%20%20%20%20%20%20%20%20%20%20%20%20%20%20%20%20height%3A%20100.0%25%3B%0A%20%20%20%20%20%20%20%20%20%20%20%20%20%20%20%20%20%20%20%20left%3A%200.0%25%3B%0A%20%20%20%20%20%20%20%20%20%20%20%20%20%20%20%20%20%20%20%20top%3A%200.0%25%3B%0A%20%20%20%20%20%20%20%20%20%20%20%20%20%20%20%20%7D%0A%20%20%20%20%20%20%20%20%20%20%20%20%3C/style%3E%0A%20%20%20%20%20%20%20%20%0A%3C/head%3E%0A%3Cbody%3E%20%20%20%20%0A%20%20%20%20%0A%20%20%20%20%20%20%20%20%20%20%20%20%3Cdiv%20class%3D%22folium-map%22%20id%3D%22map_0b29285893024bf3a7e22fd90ce7fd4e%22%20%3E%3C/div%3E%0A%20%20%20%20%20%20%20%20%0A%3C/body%3E%0A%3Cscript%3E%20%20%20%20%0A%20%20%20%20%0A%20%20%20%20%20%20%20%20%20%20%20%20var%20map_0b29285893024bf3a7e22fd90ce7fd4e%20%3D%20L.map%28%0A%20%20%20%20%20%20%20%20%20%20%20%20%20%20%20%20%22map_0b29285893024bf3a7e22fd90ce7fd4e%22%2C%0A%20%20%20%20%20%20%20%20%20%20%20%20%20%20%20%20%7B%0A%20%20%20%20%20%20%20%20%20%20%20%20%20%20%20%20%20%20%20%20center%3A%20%5B22.30352473523628%2C%2091.83708671151724%5D%2C%0A%20%20%20%20%20%20%20%20%20%20%20%20%20%20%20%20%20%20%20%20crs%3A%20L.CRS.EPSG3857%2C%0A%20%20%20%20%20%20%20%20%20%20%20%20%20%20%20%20%20%20%20%20zoom%3A%2010%2C%0A%20%20%20%20%20%20%20%20%20%20%20%20%20%20%20%20%20%20%20%20zoomControl%3A%20true%2C%0A%20%20%20%20%20%20%20%20%20%20%20%20%20%20%20%20%20%20%20%20preferCanvas%3A%20false%2C%0A%20%20%20%20%20%20%20%20%20%20%20%20%20%20%20%20%7D%0A%20%20%20%20%20%20%20%20%20%20%20%20%29%3B%0A%0A%20%20%20%20%20%20%20%20%20%20%20%20%0A%0A%20%20%20%20%20%20%20%20%0A%20%20%20%20%0A%20%20%20%20%20%20%20%20%20%20%20%20var%20tile_layer_1d542ace2d6343a8a7d42f48877eede1%20%3D%20L.tileLayer%28%0A%20%20%20%20%20%20%20%20%20%20%20%20%20%20%20%20%22https%3A//%7Bs%7D.tile.openstreetmap.org/%7Bz%7D/%7Bx%7D/%7By%7D.png%22%2C%0A%20%20%20%20%20%20%20%20%20%20%20%20%20%20%20%20%7B%22attribution%22%3A%20%22Data%20by%20%5Cu0026copy%3B%20%5Cu003ca%20href%3D%5C%22http%3A//openstreetmap.org%5C%22%5Cu003eOpenStreetMap%5Cu003c/a%5Cu003e%2C%20under%20%5Cu003ca%20href%3D%5C%22http%3A//www.openstreetmap.org/copyright%5C%22%5Cu003eODbL%5Cu003c/a%5Cu003e.%22%2C%20%22detectRetina%22%3A%20false%2C%20%22maxNativeZoom%22%3A%2018%2C%20%22maxZoom%22%3A%2018%2C%20%22minZoom%22%3A%200%2C%20%22noWrap%22%3A%20false%2C%20%22opacity%22%3A%201%2C%20%22subdomains%22%3A%20%22abc%22%2C%20%22tms%22%3A%20false%7D%0A%20%20%20%20%20%20%20%20%20%20%20%20%29.addTo%28map_0b29285893024bf3a7e22fd90ce7fd4e%29%3B%0A%20%20%20%20%20%20%20%20%0A%20%20%20%20%0A%20%20%20%20%20%20%20%20%20%20%20%20var%20tile_layer_1b03747f1b0b414fa835a8729ea89daf%20%3D%20L.tileLayer%28%0A%20%20%20%20%20%20%20%20%20%20%20%20%20%20%20%20%22https%3A//earthengine.googleapis.com/v1alpha/projects/earthengine-legacy/maps/1ca1b59c0668cb27ca5e1a862f00620c-a76bb233387dbf3b2aef958ac476072f/tiles/%7Bz%7D/%7Bx%7D/%7By%7D%22%2C%0A%20%20%20%20%20%20%20%20%20%20%20%20%20%20%20%20%7B%22attribution%22%3A%20%22Map%20Data%20%5Cu0026copy%3B%20%5Cu003ca%20href%3D%5C%22https%3A//earthengine.google.com/%5C%22%5Cu003eGoogle%20Earth%20Engine%5Cu003c/a%5Cu003e%22%2C%20%22detectRetina%22%3A%20false%2C%20%22maxNativeZoom%22%3A%2018%2C%20%22maxZoom%22%3A%2018%2C%20%22minZoom%22%3A%200%2C%20%22noWrap%22%3A%20false%2C%20%22opacity%22%3A%201%2C%20%22subdomains%22%3A%20%22abc%22%2C%20%22tms%22%3A%20false%7D%0A%20%20%20%20%20%20%20%20%20%20%20%20%29.addTo%28map_0b29285893024bf3a7e22fd90ce7fd4e%29%3B%0A%20%20%20%20%20%20%20%20%0A%20%20%20%20%0A%20%20%20%20%20%20%20%20%20%20%20%20var%20layer_control_986fa463ae9d4f4faee98962bd51ea72%20%3D%20%7B%0A%20%20%20%20%20%20%20%20%20%20%20%20%20%20%20%20base_layers%20%3A%20%7B%0A%20%20%20%20%20%20%20%20%20%20%20%20%20%20%20%20%20%20%20%20%22openstreetmap%22%20%3A%20tile_layer_1d542ace2d6343a8a7d42f48877eede1%2C%0A%20%20%20%20%20%20%20%20%20%20%20%20%20%20%20%20%7D%2C%0A%20%20%20%20%20%20%20%20%20%20%20%20%20%20%20%20overlays%20%3A%20%20%7B%0A%20%20%20%20%20%20%20%20%20%20%20%20%20%20%20%20%20%20%20%20%22Out%20Image%20Texture%22%20%3A%20tile_layer_1b03747f1b0b414fa835a8729ea89daf%2C%0A%20%20%20%20%20%20%20%20%20%20%20%20%20%20%20%20%7D%2C%0A%20%20%20%20%20%20%20%20%20%20%20%20%7D%3B%0A%20%20%20%20%20%20%20%20%20%20%20%20L.control.layers%28%0A%20%20%20%20%20%20%20%20%20%20%20%20%20%20%20%20layer_control_986fa463ae9d4f4faee98962bd51ea72.base_layers%2C%0A%20%20%20%20%20%20%20%20%20%20%20%20%20%20%20%20layer_control_986fa463ae9d4f4faee98962bd51ea72.overlays%2C%0A%20%20%20%20%20%20%20%20%20%20%20%20%20%20%20%20%7B%22autoZIndex%22%3A%20true%2C%20%22collapsed%22%3A%20true%2C%20%22position%22%3A%20%22topright%22%7D%0A%20%20%20%20%20%20%20%20%20%20%20%20%29.addTo%28map_0b29285893024bf3a7e22fd90ce7fd4e%29%3B%0A%20%20%20%20%20%20%20%20%0A%3C/script%3E onload=\"this.contentDocument.open();this.contentDocument.write(    decodeURIComponent(this.getAttribute('data-html')));this.contentDocument.close();\" allowfullscreen webkitallowfullscreen mozallowfullscreen></iframe></div></div>"
      ],
      "text/plain": [
       "<folium.folium.Map at 0x7f6c0f34f7d0>"
      ]
     },
     "execution_count": 9,
     "metadata": {},
     "output_type": "execute_result"
    }
   ],
   "source": [
    "mapid = out_image_texture.getMapId({'bands': [landsat_parameters['FCCbands'][0], landsat_parameters['FCCbands'][1], landsat_parameters['FCCbands'][2]], 'min': 0, 'max': 0.3})\n",
    "map = folium.Map(location=[center_lat, center_lon]) \n",
    "folium.TileLayer(\n",
    "    tiles=mapid['tile_fetcher'].url_format,\n",
    "    attr='Map Data &copy; <a href=\"https://earthengine.google.com/\">Google Earth Engine</a>',\n",
    "    overlay=True,\n",
    "    name='Out Image Texture',\n",
    "  ).add_to(map)\n",
    "map.add_child(folium.LayerControl())\n",
    "map"
   ]
  },
  {
   "cell_type": "code",
   "execution_count": 10,
   "id": "f63a37b1",
   "metadata": {},
   "outputs": [],
   "source": [
    "BANDS = landsat_parameters['bandsClassify']\n",
    "FEATURE_NAMES = list(BANDS)\n",
    "FEATURE_NAMES.append(LABEL)"
   ]
  },
  {
   "cell_type": "code",
   "execution_count": 11,
   "id": "a0b33d6c",
   "metadata": {},
   "outputs": [],
   "source": [
    "sample = gt_image_texture.sampleRegions(\n",
    "    collection = LABEL_DATA,\n",
    "    properties = [LABEL],\n",
    "    scale = spatial_resolution,\n",
    ").randomColumn()"
   ]
  },
  {
   "cell_type": "code",
   "execution_count": 12,
   "id": "a96ff270",
   "metadata": {
    "scrolled": true
   },
   "outputs": [],
   "source": [
    "training = sample.filter(ee.Filter.lt('random', 0.8))\n",
    "testing = sample.filter(ee.Filter.gte('random', 0.8))\n",
    "\n",
    "train_step = (training.size().getInfo())//batch_size + 1\n",
    "validate_step = (testing.size().getInfo())//batch_size + 1\n",
    "\n",
    "# pprint({'training': training.first().getInfo()})\n",
    "# pprint({'testing': testing.first().getInfo()})"
   ]
  },
  {
   "cell_type": "code",
   "execution_count": 13,
   "id": "5afc2ba7",
   "metadata": {},
   "outputs": [],
   "source": [
    "training_task = ee.batch.Export.table.toCloudStorage(\n",
    "    collection=training,\n",
    "    description='Training Export',\n",
    "    fileNamePrefix=TRAIN_FILE_PREFIX,\n",
    "    bucket=OUTPUT_BUCKET,\n",
    "    fileFormat='TFRecord',\n",
    "    selectors=FEATURE_NAMES)\n",
    "\n",
    "testing_task = ee.batch.Export.table.toCloudStorage(\n",
    "    collection=testing,\n",
    "    description='Testing Export',\n",
    "    fileNamePrefix=TEST_FILE_PREFIX,\n",
    "    bucket=OUTPUT_BUCKET,\n",
    "    fileFormat='TFRecord',\n",
    "    selectors=FEATURE_NAMES)"
   ]
  },
  {
   "cell_type": "code",
   "execution_count": 14,
   "id": "b00ad68d",
   "metadata": {},
   "outputs": [],
   "source": [
    "training_task.start()\n",
    "testing_task.start()"
   ]
  },
  {
   "cell_type": "code",
   "execution_count": 15,
   "id": "5dd29495",
   "metadata": {},
   "outputs": [
    {
     "name": "stdout",
     "output_type": "stream",
     "text": [
      "Polling for task (id: IZ6VXBNMMF2Q54LZ3X4JD4BB).\n",
      "Polling for task (id: IZ6VXBNMMF2Q54LZ3X4JD4BB).\n",
      "Polling for task (id: IZ6VXBNMMF2Q54LZ3X4JD4BB).\n",
      "Polling for task (id: IZ6VXBNMMF2Q54LZ3X4JD4BB).\n",
      "Polling for task (id: IZ6VXBNMMF2Q54LZ3X4JD4BB).\n",
      "Polling for task (id: IZ6VXBNMMF2Q54LZ3X4JD4BB).\n",
      "Polling for task (id: IZ6VXBNMMF2Q54LZ3X4JD4BB).\n",
      "Polling for task (id: IZ6VXBNMMF2Q54LZ3X4JD4BB).\n",
      "Done with training export.\n",
      "Polling for task (id: ZS6BPNOHJ7B3YOXSF3K3X7KZ).\n",
      "Done with testing export.\n"
     ]
    }
   ],
   "source": [
    "while training_task.active():\n",
    "    print('Polling for task (id: {}).'.format(training_task.id))\n",
    "    time.sleep(10)\n",
    "print('Done with training export.')\n",
    "\n",
    "while testing_task.active():\n",
    "    print('Polling for task (id: {}).'.format(testing_task.id))\n",
    "    time.sleep(10)\n",
    "print('Done with testing export.')"
   ]
  },
  {
   "cell_type": "code",
   "execution_count": 16,
   "id": "dc8e863e",
   "metadata": {},
   "outputs": [
    {
     "name": "stdout",
     "output_type": "stream",
     "text": [
      "Found training file.\n",
      "Found testing file.\n"
     ]
    }
   ],
   "source": [
    "print('Found training file.' if tf.io.gfile.exists(TRAIN_FILE_PATH) \n",
    "    else 'No training file found.')\n",
    "print('Found testing file.' if tf.io.gfile.exists(TEST_FILE_PATH) \n",
    "    else 'No testing file found.')"
   ]
  },
  {
   "cell_type": "code",
   "execution_count": 17,
   "id": "732ce5f3",
   "metadata": {},
   "outputs": [],
   "source": [
    "train_dataset = tf.data.TFRecordDataset(TRAIN_FILE_PATH, compression_type='GZIP')\n",
    "test_dataset = tf.data.TFRecordDataset(TEST_FILE_PATH, compression_type='GZIP')\n",
    "\n",
    "# print(iter(train_dataset).next())\n",
    "# print(iter(test_dataset).next())"
   ]
  },
  {
   "cell_type": "code",
   "execution_count": 18,
   "id": "8760a776",
   "metadata": {},
   "outputs": [],
   "source": [
    "columns = [\n",
    "           tf.io.FixedLenFeature(shape=[1], dtype=tf.float32) for k in FEATURE_NAMES\n",
    "]\n",
    "\n",
    "features_dict = dict(zip(FEATURE_NAMES, columns))\n",
    "\n",
    "# pprint(features_dict)"
   ]
  },
  {
   "cell_type": "code",
   "execution_count": 19,
   "id": "4fb5e85f",
   "metadata": {},
   "outputs": [],
   "source": [
    "def parse_tfrecord(example_proto):\n",
    "    parsed_features = tf.io.parse_single_example(example_proto, features_dict)\n",
    "    labels = parsed_features.pop(LABEL)\n",
    "    return parsed_features, tf.cast(labels, tf.int32)\n",
    "\n",
    "parsed_trainset = train_dataset.map(parse_tfrecord, num_parallel_calls=5)\n",
    "parsed_testset = test_dataset.map(parse_tfrecord, num_parallel_calls=5)\n",
    "\n",
    "# pprint(iter(parsed_trainset))\n",
    "# pprint(iter(parsed_testset))"
   ]
  },
  {
   "cell_type": "code",
   "execution_count": 20,
   "id": "b1b6dad7",
   "metadata": {},
   "outputs": [],
   "source": [
    "def to_tuple(inputs, label):\n",
    "    return (tf.transpose(list(inputs.values())), tf.one_hot(indices=label, depth=N_CLASSES))\n",
    "\n",
    "input_dataset = parsed_trainset.map(to_tuple).batch(batch_size)\n",
    "validate_dataset = parsed_testset.map(to_tuple).batch(batch_size)"
   ]
  },
  {
   "cell_type": "code",
   "execution_count": 21,
   "id": "bb122a65",
   "metadata": {},
   "outputs": [],
   "source": [
    "model = tf.keras.models.Sequential([\n",
    "    tf.keras.layers.Dense(128, activation=tf.nn.relu),\n",
    "    tf.keras.layers.Dropout(0.1),\n",
    "    tf.keras.layers.Dense(64, activation=tf.nn.relu),\n",
    "    tf.keras.layers.Dropout(0.15),\n",
    "    tf.keras.layers.Dense(64, activation=tf.nn.relu),\n",
    "    tf.keras.layers.Dropout(0.1),\n",
    "    tf.keras.layers.Dense(64, activation=tf.nn.relu),\n",
    "    tf.keras.layers.Dense(64, activation=tf.nn.relu),\n",
    "    tf.keras.layers.Dense(N_CLASSES, activation=tf.nn.softmax)\n",
    "])"
   ]
  },
  {
   "cell_type": "code",
   "execution_count": 22,
   "id": "43225adf",
   "metadata": {},
   "outputs": [],
   "source": [
    "model.compile(optimizer= tf.keras.optimizers.Adam(\n",
    "    learning_rate=lr_rate),\n",
    "    loss='categorical_crossentropy',\n",
    "    metrics=['accuracy', 'mse']\n",
    ")"
   ]
  },
  {
   "cell_type": "code",
   "execution_count": 23,
   "id": "f2d000e8",
   "metadata": {},
   "outputs": [
    {
     "name": "stdout",
     "output_type": "stream",
     "text": [
      "WARNING:tensorflow:Expected a shuffled dataset but input dataset `x` is not shuffled. Please invoke `shuffle()` on input dataset.\n",
      "WARNING:tensorflow:From /home/rohit/anaconda3/envs/gee/lib/python3.7/site-packages/tensorflow_core/python/ops/resource_variable_ops.py:1630: calling BaseResourceVariable.__init__ (from tensorflow.python.ops.resource_variable_ops) with constraint is deprecated and will be removed in a future version.\n",
      "Instructions for updating:\n",
      "If using Keras pass *_constraint arguments to layers.\n",
      "Train on None steps, validate on 21 steps\n",
      "Epoch 1/100\n",
      "82/82 [==============================] - 4s 52ms/step - loss: 1.4134 - acc: 0.3407 - mean_squared_error: 0.1909 - val_loss: 0.0000e+00 - val_acc: 0.0000e+00 - val_mean_squared_error: 0.0000e+00\n",
      "Epoch 2/100\n",
      "82/82 [==============================] - 2s 28ms/step - loss: 1.3186 - acc: 0.5242 - mean_squared_error: 0.1785 - val_loss: 1.2260 - val_acc: 0.6730 - val_mean_squared_error: 0.1644\n",
      "Epoch 3/100\n",
      "82/82 [==============================] - 3s 43ms/step - loss: 1.2290 - acc: 0.6497 - mean_squared_error: 0.1659 - val_loss: 1.0867 - val_acc: 0.6730 - val_mean_squared_error: 0.1430\n",
      "Epoch 4/100\n",
      "82/82 [==============================] - 3s 33ms/step - loss: 1.0848 - acc: 0.6684 - mean_squared_error: 0.1441 - val_loss: 0.9010 - val_acc: 0.6755 - val_mean_squared_error: 0.1135\n",
      "Epoch 5/100\n",
      "82/82 [==============================] - 4s 46ms/step - loss: 0.8977 - acc: 0.6778 - mean_squared_error: 0.1162 - val_loss: 0.7490 - val_acc: 0.6755 - val_mean_squared_error: 0.0937\n",
      "Epoch 6/100\n",
      "82/82 [==============================] - 3s 38ms/step - loss: 0.7645 - acc: 0.6809 - mean_squared_error: 0.1000 - val_loss: 0.6832 - val_acc: 0.6760 - val_mean_squared_error: 0.0874\n",
      "Epoch 7/100\n",
      "82/82 [==============================] - 3s 35ms/step - loss: 0.7000 - acc: 0.6922 - mean_squared_error: 0.0934 - val_loss: 0.6330 - val_acc: 0.7137 - val_mean_squared_error: 0.0810\n",
      "Epoch 8/100\n",
      "82/82 [==============================] - 3s 32ms/step - loss: 0.6600 - acc: 0.7241 - mean_squared_error: 0.0887 - val_loss: 0.5809 - val_acc: 0.8108 - val_mean_squared_error: 0.0734\n",
      "Epoch 9/100\n",
      "82/82 [==============================] - 3s 39ms/step - loss: 0.6199 - acc: 0.7628 - mean_squared_error: 0.0833 - val_loss: 0.5304 - val_acc: 0.8598 - val_mean_squared_error: 0.0659\n",
      "Epoch 10/100\n",
      "82/82 [==============================] - 3s 33ms/step - loss: 0.5817 - acc: 0.7945 - mean_squared_error: 0.0776 - val_loss: 0.4840 - val_acc: 0.8775 - val_mean_squared_error: 0.0591\n",
      "Epoch 11/100\n",
      "82/82 [==============================] - 3s 38ms/step - loss: 0.5410 - acc: 0.8186 - mean_squared_error: 0.0716 - val_loss: 0.4426 - val_acc: 0.8833 - val_mean_squared_error: 0.0533\n",
      "Epoch 12/100\n",
      "82/82 [==============================] - 3s 35ms/step - loss: 0.5127 - acc: 0.8271 - mean_squared_error: 0.0675 - val_loss: 0.4108 - val_acc: 0.8819 - val_mean_squared_error: 0.0493\n",
      "Epoch 13/100\n",
      "82/82 [==============================] - 3s 37ms/step - loss: 0.4822 - acc: 0.8381 - mean_squared_error: 0.0632 - val_loss: 0.3860 - val_acc: 0.8809 - val_mean_squared_error: 0.0466\n",
      "Epoch 14/100\n",
      "82/82 [==============================] - 3s 34ms/step - loss: 0.4593 - acc: 0.8426 - mean_squared_error: 0.0599 - val_loss: 0.3638 - val_acc: 0.8809 - val_mean_squared_error: 0.0445\n",
      "Epoch 15/100\n",
      "82/82 [==============================] - 2s 27ms/step - loss: 0.4349 - acc: 0.8485 - mean_squared_error: 0.0570 - val_loss: 0.3485 - val_acc: 0.8809 - val_mean_squared_error: 0.0433\n",
      "Epoch 16/100\n",
      "82/82 [==============================] - 2s 30ms/step - loss: 0.4186 - acc: 0.8511 - mean_squared_error: 0.0553 - val_loss: 0.3343 - val_acc: 0.8809 - val_mean_squared_error: 0.0422\n",
      "Epoch 17/100\n",
      "82/82 [==============================] - 3s 33ms/step - loss: 0.4017 - acc: 0.8563 - mean_squared_error: 0.0530 - val_loss: 0.3245 - val_acc: 0.8809 - val_mean_squared_error: 0.0417\n",
      "Epoch 18/100\n",
      "82/82 [==============================] - 2s 27ms/step - loss: 0.3907 - acc: 0.8561 - mean_squared_error: 0.0522 - val_loss: 0.3155 - val_acc: 0.8809 - val_mean_squared_error: 0.0411\n",
      "Epoch 19/100\n",
      "82/82 [==============================] - 3s 33ms/step - loss: 0.3840 - acc: 0.8597 - mean_squared_error: 0.0513 - val_loss: 0.3074 - val_acc: 0.8804 - val_mean_squared_error: 0.0407\n",
      "Epoch 20/100\n",
      "82/82 [==============================] - 3s 34ms/step - loss: 0.3729 - acc: 0.8612 - mean_squared_error: 0.0503 - val_loss: 0.3012 - val_acc: 0.8809 - val_mean_squared_error: 0.0404\n",
      "Epoch 21/100\n",
      "82/82 [==============================] - 3s 34ms/step - loss: 0.3685 - acc: 0.8627 - mean_squared_error: 0.0498 - val_loss: 0.2939 - val_acc: 0.8814 - val_mean_squared_error: 0.0399\n",
      "Epoch 22/100\n",
      "82/82 [==============================] - 3s 32ms/step - loss: 0.3594 - acc: 0.8640 - mean_squared_error: 0.0488 - val_loss: 0.2910 - val_acc: 0.8799 - val_mean_squared_error: 0.0399\n",
      "Epoch 23/100\n",
      "82/82 [==============================] - 2s 29ms/step - loss: 0.3530 - acc: 0.8619 - mean_squared_error: 0.0482 - val_loss: 0.2857 - val_acc: 0.8789 - val_mean_squared_error: 0.0395\n",
      "Epoch 24/100\n",
      "82/82 [==============================] - 3s 37ms/step - loss: 0.3463 - acc: 0.8622 - mean_squared_error: 0.0476 - val_loss: 0.2818 - val_acc: 0.8824 - val_mean_squared_error: 0.0393\n",
      "Epoch 25/100\n",
      "82/82 [==============================] - 2s 27ms/step - loss: 0.3469 - acc: 0.8623 - mean_squared_error: 0.0476 - val_loss: 0.2796 - val_acc: 0.8824 - val_mean_squared_error: 0.0392\n",
      "Epoch 26/100\n",
      "82/82 [==============================] - 3s 33ms/step - loss: 0.3434 - acc: 0.8620 - mean_squared_error: 0.0473 - val_loss: 0.2778 - val_acc: 0.8838 - val_mean_squared_error: 0.0391\n",
      "Epoch 27/100\n",
      "82/82 [==============================] - 3s 38ms/step - loss: 0.3388 - acc: 0.8653 - mean_squared_error: 0.0467 - val_loss: 0.2745 - val_acc: 0.8863 - val_mean_squared_error: 0.0388\n",
      "Epoch 28/100\n",
      "82/82 [==============================] - 4s 47ms/step - loss: 0.3370 - acc: 0.8658 - mean_squared_error: 0.0465 - val_loss: 0.2742 - val_acc: 0.8858 - val_mean_squared_error: 0.0389\n",
      "Epoch 29/100\n",
      "82/82 [==============================] - 3s 38ms/step - loss: 0.3349 - acc: 0.8669 - mean_squared_error: 0.0462 - val_loss: 0.2716 - val_acc: 0.8873 - val_mean_squared_error: 0.0387\n",
      "Epoch 30/100\n",
      "82/82 [==============================] - 3s 32ms/step - loss: 0.3296 - acc: 0.8674 - mean_squared_error: 0.0455 - val_loss: 0.2700 - val_acc: 0.8873 - val_mean_squared_error: 0.0386\n",
      "Epoch 31/100\n",
      "82/82 [==============================] - 2s 30ms/step - loss: 0.3256 - acc: 0.8699 - mean_squared_error: 0.0451 - val_loss: 0.2703 - val_acc: 0.8863 - val_mean_squared_error: 0.0388\n",
      "Epoch 32/100\n",
      "82/82 [==============================] - 3s 33ms/step - loss: 0.3264 - acc: 0.8673 - mean_squared_error: 0.0454 - val_loss: 0.2684 - val_acc: 0.8873 - val_mean_squared_error: 0.0386\n",
      "Epoch 33/100\n",
      "82/82 [==============================] - 4s 46ms/step - loss: 0.3261 - acc: 0.8688 - mean_squared_error: 0.0452 - val_loss: 0.2651 - val_acc: 0.8887 - val_mean_squared_error: 0.0382\n",
      "Epoch 34/100\n",
      "82/82 [==============================] - 3s 34ms/step - loss: 0.3233 - acc: 0.8707 - mean_squared_error: 0.0452 - val_loss: 0.2655 - val_acc: 0.8877 - val_mean_squared_error: 0.0383\n",
      "Epoch 35/100\n",
      "82/82 [==============================] - 3s 42ms/step - loss: 0.3184 - acc: 0.8716 - mean_squared_error: 0.0443 - val_loss: 0.2636 - val_acc: 0.8892 - val_mean_squared_error: 0.0381\n",
      "Epoch 36/100\n",
      "82/82 [==============================] - 2s 30ms/step - loss: 0.3145 - acc: 0.8735 - mean_squared_error: 0.0440 - val_loss: 0.2639 - val_acc: 0.8877 - val_mean_squared_error: 0.0382\n",
      "Epoch 37/100\n",
      "82/82 [==============================] - 3s 34ms/step - loss: 0.3185 - acc: 0.8755 - mean_squared_error: 0.0444 - val_loss: 0.2627 - val_acc: 0.8887 - val_mean_squared_error: 0.0381\n",
      "Epoch 38/100\n",
      "82/82 [==============================] - 3s 41ms/step - loss: 0.3146 - acc: 0.8741 - mean_squared_error: 0.0439 - val_loss: 0.2620 - val_acc: 0.8887 - val_mean_squared_error: 0.0381\n",
      "Epoch 39/100\n",
      "82/82 [==============================] - 4s 46ms/step - loss: 0.3149 - acc: 0.8723 - mean_squared_error: 0.0441 - val_loss: 0.2611 - val_acc: 0.8902 - val_mean_squared_error: 0.0380\n",
      "Epoch 40/100\n"
     ]
    },
    {
     "name": "stdout",
     "output_type": "stream",
     "text": [
      "82/82 [==============================] - 4s 45ms/step - loss: 0.3088 - acc: 0.8777 - mean_squared_error: 0.0432 - val_loss: 0.2595 - val_acc: 0.8917 - val_mean_squared_error: 0.0378\n",
      "Epoch 41/100\n",
      "82/82 [==============================] - 3s 38ms/step - loss: 0.3084 - acc: 0.8779 - mean_squared_error: 0.0432 - val_loss: 0.2605 - val_acc: 0.8907 - val_mean_squared_error: 0.0380\n",
      "Epoch 42/100\n",
      "82/82 [==============================] - 4s 47ms/step - loss: 0.3064 - acc: 0.8734 - mean_squared_error: 0.0431 - val_loss: 0.2592 - val_acc: 0.8922 - val_mean_squared_error: 0.0378\n",
      "Epoch 43/100\n",
      "82/82 [==============================] - 4s 48ms/step - loss: 0.3094 - acc: 0.8738 - mean_squared_error: 0.0434 - val_loss: 0.2591 - val_acc: 0.8922 - val_mean_squared_error: 0.0378\n",
      "Epoch 44/100\n",
      "82/82 [==============================] - 4s 44ms/step - loss: 0.3094 - acc: 0.8752 - mean_squared_error: 0.0433 - val_loss: 0.2579 - val_acc: 0.8912 - val_mean_squared_error: 0.0377\n",
      "Epoch 45/100\n",
      "82/82 [==============================] - 4s 47ms/step - loss: 0.3058 - acc: 0.8732 - mean_squared_error: 0.0431 - val_loss: 0.2568 - val_acc: 0.8912 - val_mean_squared_error: 0.0375\n",
      "Epoch 46/100\n",
      "82/82 [==============================] - 3s 37ms/step - loss: 0.3029 - acc: 0.8773 - mean_squared_error: 0.0426 - val_loss: 0.2561 - val_acc: 0.8917 - val_mean_squared_error: 0.0375\n",
      "Epoch 47/100\n",
      "82/82 [==============================] - 3s 40ms/step - loss: 0.2983 - acc: 0.8821 - mean_squared_error: 0.0420 - val_loss: 0.2571 - val_acc: 0.8922 - val_mean_squared_error: 0.0377\n",
      "Epoch 48/100\n",
      "82/82 [==============================] - 2s 29ms/step - loss: 0.3075 - acc: 0.8755 - mean_squared_error: 0.0432 - val_loss: 0.2562 - val_acc: 0.8917 - val_mean_squared_error: 0.0376\n",
      "Epoch 49/100\n",
      "82/82 [==============================] - 3s 39ms/step - loss: 0.3007 - acc: 0.8789 - mean_squared_error: 0.0424 - val_loss: 0.2541 - val_acc: 0.8946 - val_mean_squared_error: 0.0373\n",
      "Epoch 50/100\n",
      "82/82 [==============================] - 3s 31ms/step - loss: 0.2960 - acc: 0.8794 - mean_squared_error: 0.0418 - val_loss: 0.2547 - val_acc: 0.8936 - val_mean_squared_error: 0.0374\n",
      "Epoch 51/100\n",
      "82/82 [==============================] - 3s 34ms/step - loss: 0.3022 - acc: 0.8730 - mean_squared_error: 0.0428 - val_loss: 0.2530 - val_acc: 0.8936 - val_mean_squared_error: 0.0371\n",
      "Epoch 52/100\n",
      "82/82 [==============================] - 3s 34ms/step - loss: 0.2942 - acc: 0.8805 - mean_squared_error: 0.0416 - val_loss: 0.2526 - val_acc: 0.8936 - val_mean_squared_error: 0.0371\n",
      "Epoch 53/100\n",
      "82/82 [==============================] - 2s 29ms/step - loss: 0.3016 - acc: 0.8754 - mean_squared_error: 0.0425 - val_loss: 0.2520 - val_acc: 0.8936 - val_mean_squared_error: 0.0370\n",
      "Epoch 54/100\n",
      "82/82 [==============================] - 3s 31ms/step - loss: 0.2974 - acc: 0.8797 - mean_squared_error: 0.0420 - val_loss: 0.2520 - val_acc: 0.8941 - val_mean_squared_error: 0.0371\n",
      "Epoch 55/100\n",
      "82/82 [==============================] - 3s 31ms/step - loss: 0.2943 - acc: 0.8773 - mean_squared_error: 0.0419 - val_loss: 0.2507 - val_acc: 0.8946 - val_mean_squared_error: 0.0369\n",
      "Epoch 56/100\n",
      "82/82 [==============================] - 3s 36ms/step - loss: 0.2928 - acc: 0.8805 - mean_squared_error: 0.0416 - val_loss: 0.2513 - val_acc: 0.8941 - val_mean_squared_error: 0.0370\n",
      "Epoch 57/100\n",
      "82/82 [==============================] - 3s 32ms/step - loss: 0.2931 - acc: 0.8812 - mean_squared_error: 0.0416 - val_loss: 0.2505 - val_acc: 0.8941 - val_mean_squared_error: 0.0369\n",
      "Epoch 58/100\n",
      "82/82 [==============================] - 3s 35ms/step - loss: 0.2948 - acc: 0.8813 - mean_squared_error: 0.0416 - val_loss: 0.2503 - val_acc: 0.8946 - val_mean_squared_error: 0.0369\n",
      "Epoch 59/100\n",
      "82/82 [==============================] - 3s 31ms/step - loss: 0.2931 - acc: 0.8800 - mean_squared_error: 0.0416 - val_loss: 0.2500 - val_acc: 0.8946 - val_mean_squared_error: 0.0369\n",
      "Epoch 60/100\n",
      "82/82 [==============================] - 3s 33ms/step - loss: 0.2941 - acc: 0.8807 - mean_squared_error: 0.0415 - val_loss: 0.2492 - val_acc: 0.8946 - val_mean_squared_error: 0.0368\n",
      "Epoch 61/100\n",
      "82/82 [==============================] - 4s 52ms/step - loss: 0.2919 - acc: 0.8810 - mean_squared_error: 0.0414 - val_loss: 0.2493 - val_acc: 0.8951 - val_mean_squared_error: 0.0368\n",
      "Epoch 62/100\n",
      "82/82 [==============================] - 4s 49ms/step - loss: 0.2903 - acc: 0.8796 - mean_squared_error: 0.0413 - val_loss: 0.2485 - val_acc: 0.8951 - val_mean_squared_error: 0.0368\n",
      "Epoch 63/100\n",
      "82/82 [==============================] - 3s 36ms/step - loss: 0.2874 - acc: 0.8790 - mean_squared_error: 0.0410 - val_loss: 0.2481 - val_acc: 0.8951 - val_mean_squared_error: 0.0367\n",
      "Epoch 64/100\n",
      "82/82 [==============================] - 3s 30ms/step - loss: 0.2873 - acc: 0.8801 - mean_squared_error: 0.0410 - val_loss: 0.2486 - val_acc: 0.8936 - val_mean_squared_error: 0.0369\n",
      "Epoch 65/100\n",
      "82/82 [==============================] - 2s 29ms/step - loss: 0.2879 - acc: 0.8788 - mean_squared_error: 0.0411 - val_loss: 0.2484 - val_acc: 0.8926 - val_mean_squared_error: 0.0368\n",
      "Epoch 66/100\n",
      "82/82 [==============================] - 4s 44ms/step - loss: 0.2882 - acc: 0.8806 - mean_squared_error: 0.0411 - val_loss: 0.2475 - val_acc: 0.8946 - val_mean_squared_error: 0.0367\n",
      "Epoch 67/100\n",
      "82/82 [==============================] - 3s 39ms/step - loss: 0.2875 - acc: 0.8823 - mean_squared_error: 0.0410 - val_loss: 0.2464 - val_acc: 0.8956 - val_mean_squared_error: 0.0366\n",
      "Epoch 68/100\n",
      "82/82 [==============================] - 3s 37ms/step - loss: 0.2874 - acc: 0.8805 - mean_squared_error: 0.0410 - val_loss: 0.2460 - val_acc: 0.8951 - val_mean_squared_error: 0.0365\n",
      "Epoch 69/100\n",
      "82/82 [==============================] - 5s 56ms/step - loss: 0.2832 - acc: 0.8821 - mean_squared_error: 0.0406 - val_loss: 0.2454 - val_acc: 0.8946 - val_mean_squared_error: 0.0364\n",
      "Epoch 70/100\n",
      "82/82 [==============================] - 4s 49ms/step - loss: 0.2806 - acc: 0.8830 - mean_squared_error: 0.0400 - val_loss: 0.2456 - val_acc: 0.8931 - val_mean_squared_error: 0.0365\n",
      "Epoch 71/100\n",
      "82/82 [==============================] - 3s 42ms/step - loss: 0.2836 - acc: 0.8839 - mean_squared_error: 0.0403 - val_loss: 0.2446 - val_acc: 0.8946 - val_mean_squared_error: 0.0364\n",
      "Epoch 72/100\n",
      "82/82 [==============================] - 4s 46ms/step - loss: 0.2790 - acc: 0.8832 - mean_squared_error: 0.0401 - val_loss: 0.2448 - val_acc: 0.8917 - val_mean_squared_error: 0.0364\n",
      "Epoch 73/100\n",
      "82/82 [==============================] - 3s 34ms/step - loss: 0.2831 - acc: 0.8838 - mean_squared_error: 0.0405 - val_loss: 0.2439 - val_acc: 0.8922 - val_mean_squared_error: 0.0363\n",
      "Epoch 74/100\n",
      "82/82 [==============================] - 3s 33ms/step - loss: 0.2820 - acc: 0.8840 - mean_squared_error: 0.0403 - val_loss: 0.2437 - val_acc: 0.8922 - val_mean_squared_error: 0.0363\n",
      "Epoch 75/100\n",
      "82/82 [==============================] - 3s 30ms/step - loss: 0.2770 - acc: 0.8852 - mean_squared_error: 0.0397 - val_loss: 0.2435 - val_acc: 0.8922 - val_mean_squared_error: 0.0363\n",
      "Epoch 76/100\n",
      "82/82 [==============================] - 3s 41ms/step - loss: 0.2774 - acc: 0.8859 - mean_squared_error: 0.0397 - val_loss: 0.2431 - val_acc: 0.8917 - val_mean_squared_error: 0.0363\n",
      "Epoch 77/100\n",
      "82/82 [==============================] - 3s 37ms/step - loss: 0.2746 - acc: 0.8850 - mean_squared_error: 0.0395 - val_loss: 0.2428 - val_acc: 0.8912 - val_mean_squared_error: 0.0363\n",
      "Epoch 78/100\n",
      "82/82 [==============================] - 3s 34ms/step - loss: 0.2791 - acc: 0.8848 - mean_squared_error: 0.0400 - val_loss: 0.2433 - val_acc: 0.8907 - val_mean_squared_error: 0.0363\n",
      "Epoch 79/100\n",
      "82/82 [==============================] - 3s 33ms/step - loss: 0.2803 - acc: 0.8799 - mean_squared_error: 0.0403 - val_loss: 0.2435 - val_acc: 0.8917 - val_mean_squared_error: 0.0364\n",
      "Epoch 80/100\n",
      "82/82 [==============================] - 3s 31ms/step - loss: 0.2805 - acc: 0.8817 - mean_squared_error: 0.0403 - val_loss: 0.2421 - val_acc: 0.8917 - val_mean_squared_error: 0.0362\n",
      "Epoch 81/100\n",
      "82/82 [==============================] - 3s 38ms/step - loss: 0.2782 - acc: 0.8826 - mean_squared_error: 0.0401 - val_loss: 0.2412 - val_acc: 0.8926 - val_mean_squared_error: 0.0360\n",
      "Epoch 82/100\n"
     ]
    },
    {
     "name": "stdout",
     "output_type": "stream",
     "text": [
      "82/82 [==============================] - 3s 33ms/step - loss: 0.2762 - acc: 0.8826 - mean_squared_error: 0.0400 - val_loss: 0.2401 - val_acc: 0.8931 - val_mean_squared_error: 0.0359\n",
      "Epoch 83/100\n",
      "82/82 [==============================] - 3s 38ms/step - loss: 0.2749 - acc: 0.8846 - mean_squared_error: 0.0395 - val_loss: 0.2409 - val_acc: 0.8907 - val_mean_squared_error: 0.0361\n",
      "Epoch 84/100\n",
      "82/82 [==============================] - 3s 31ms/step - loss: 0.2737 - acc: 0.8871 - mean_squared_error: 0.0393 - val_loss: 0.2415 - val_acc: 0.8907 - val_mean_squared_error: 0.0362\n",
      "Epoch 85/100\n",
      "82/82 [==============================] - 2s 30ms/step - loss: 0.2770 - acc: 0.8835 - mean_squared_error: 0.0398 - val_loss: 0.2403 - val_acc: 0.8902 - val_mean_squared_error: 0.0360\n",
      "Epoch 86/100\n",
      "82/82 [==============================] - 3s 34ms/step - loss: 0.2713 - acc: 0.8860 - mean_squared_error: 0.0389 - val_loss: 0.2405 - val_acc: 0.8907 - val_mean_squared_error: 0.0360\n",
      "Epoch 87/100\n",
      "82/82 [==============================] - 4s 46ms/step - loss: 0.2745 - acc: 0.8863 - mean_squared_error: 0.0394 - val_loss: 0.2406 - val_acc: 0.8907 - val_mean_squared_error: 0.0361\n",
      "Epoch 88/100\n",
      "82/82 [==============================] - 3s 36ms/step - loss: 0.2725 - acc: 0.8861 - mean_squared_error: 0.0392 - val_loss: 0.2400 - val_acc: 0.8922 - val_mean_squared_error: 0.0360\n",
      "Epoch 89/100\n",
      "82/82 [==============================] - 3s 33ms/step - loss: 0.2708 - acc: 0.8879 - mean_squared_error: 0.0390 - val_loss: 0.2391 - val_acc: 0.8917 - val_mean_squared_error: 0.0358\n",
      "Epoch 90/100\n",
      "82/82 [==============================] - 3s 34ms/step - loss: 0.2743 - acc: 0.8861 - mean_squared_error: 0.0395 - val_loss: 0.2385 - val_acc: 0.8922 - val_mean_squared_error: 0.0357\n",
      "Epoch 91/100\n",
      "82/82 [==============================] - 3s 33ms/step - loss: 0.2695 - acc: 0.8899 - mean_squared_error: 0.0388 - val_loss: 0.2381 - val_acc: 0.8922 - val_mean_squared_error: 0.0357\n",
      "Epoch 92/100\n",
      "82/82 [==============================] - 3s 36ms/step - loss: 0.2669 - acc: 0.8900 - mean_squared_error: 0.0385 - val_loss: 0.2381 - val_acc: 0.8917 - val_mean_squared_error: 0.0357\n",
      "Epoch 93/100\n",
      "82/82 [==============================] - 4s 43ms/step - loss: 0.2723 - acc: 0.8904 - mean_squared_error: 0.0390 - val_loss: 0.2382 - val_acc: 0.8931 - val_mean_squared_error: 0.0357\n",
      "Epoch 94/100\n",
      "82/82 [==============================] - 4s 50ms/step - loss: 0.2724 - acc: 0.8878 - mean_squared_error: 0.0389 - val_loss: 0.2383 - val_acc: 0.8926 - val_mean_squared_error: 0.0358\n",
      "Epoch 95/100\n",
      "82/82 [==============================] - 3s 31ms/step - loss: 0.2683 - acc: 0.8863 - mean_squared_error: 0.0389 - val_loss: 0.2374 - val_acc: 0.8931 - val_mean_squared_error: 0.0356\n",
      "Epoch 96/100\n",
      "82/82 [==============================] - 3s 39ms/step - loss: 0.2704 - acc: 0.8866 - mean_squared_error: 0.0391 - val_loss: 0.2369 - val_acc: 0.8946 - val_mean_squared_error: 0.0355\n",
      "Epoch 97/100\n",
      "82/82 [==============================] - 3s 34ms/step - loss: 0.2703 - acc: 0.8868 - mean_squared_error: 0.0389 - val_loss: 0.2371 - val_acc: 0.8936 - val_mean_squared_error: 0.0356\n",
      "Epoch 98/100\n",
      "82/82 [==============================] - 4s 47ms/step - loss: 0.2700 - acc: 0.8888 - mean_squared_error: 0.0389 - val_loss: 0.2363 - val_acc: 0.8946 - val_mean_squared_error: 0.0354\n",
      "Epoch 99/100\n",
      "82/82 [==============================] - 3s 38ms/step - loss: 0.2680 - acc: 0.8900 - mean_squared_error: 0.0384 - val_loss: 0.2360 - val_acc: 0.8946 - val_mean_squared_error: 0.0354\n",
      "Epoch 100/100\n",
      "82/82 [==============================] - 4s 46ms/step - loss: 0.2675 - acc: 0.8889 - mean_squared_error: 0.0387 - val_loss: 0.2363 - val_acc: 0.8946 - val_mean_squared_error: 0.0355\n"
     ]
    }
   ],
   "source": [
    "def build_callbacks():\n",
    "    checkpointer = ModelCheckpoint(filepath = MODEL_PATH + '/best_model.h5', monitor='val_acc', verbose=0, save_best_only=True)\n",
    "    callbacks = [checkpointer]\n",
    "    return callbacks\n",
    "history = model.fit(x=input_dataset,\n",
    "                    epochs=epochs,\n",
    "                    callbacks=build_callbacks(),\n",
    "                    validation_data=(validate_dataset),\n",
    "                    validation_steps=validate_step,\n",
    "                    shuffle=True\n",
    "                    )"
   ]
  },
  {
   "cell_type": "code",
   "execution_count": 24,
   "id": "de38a7f7",
   "metadata": {},
   "outputs": [
    {
     "data": {
      "image/png": "[encoded data removed]",
      "text/plain": [
       "<Figure size 432x288 with 1 Axes>"
      ]
     },
     "metadata": {
      "needs_background": "light"
     },
     "output_type": "display_data"
    },
    {
     "data": {
      "image/png": "[encoded data removed]",
      "text/plain": [
       "<Figure size 432x288 with 1 Axes>"
      ]
     },
     "metadata": {
      "needs_background": "light"
     },
     "output_type": "display_data"
    }
   ],
   "source": [
    "# summarize history for accuracy\n",
    "plt.plot(history.history['acc'])\n",
    "plt.plot(history.history['val_acc'])\n",
    "plt.title('model accuracy')\n",
    "plt.ylabel('accuracy')\n",
    "plt.xlabel('epoch')\n",
    "plt.legend(['train', 'test'], loc='upper left')\n",
    "plt.show()\n",
    "# summarize history for loss\n",
    "plt.plot(history.history['loss'])\n",
    "plt.plot(history.history['val_loss'])\n",
    "plt.title('model loss')\n",
    "plt.ylabel('loss')\n",
    "plt.xlabel('epoch')\n",
    "plt.legend(['train', 'test'], loc='upper left')\n",
    "plt.show()"
   ]
  },
  {
   "cell_type": "code",
   "execution_count": 25,
   "id": "4396bf06",
   "metadata": {},
   "outputs": [
    {
     "name": "stdout",
     "output_type": "stream",
     "text": [
      "21/21 [==============================] - 1s 36ms/step - loss: 0.2363 - acc: 0.8946 - mean_squared_error: 0.0355\n"
     ]
    },
    {
     "data": {
      "text/plain": [
       "[0.2363068011701606, 0.89460784, 0.035464168]"
      ]
     },
     "execution_count": 25,
     "metadata": {},
     "output_type": "execute_result"
    }
   ],
   "source": [
    "model.evaluate(validate_dataset, steps=validate_step)"
   ]
  },
  {
   "cell_type": "code",
   "execution_count": 26,
   "id": "d1c83246",
   "metadata": {},
   "outputs": [],
   "source": [
    "image_export_options = {\n",
    "    'patchDimensions': [patch_size, patch_size],\n",
    "    'maxFileSize': 104857600,\n",
    "    'compressed': True\n",
    "}\n",
    "\n",
    "image_task = ee.batch.Export.image.toCloudStorage(\n",
    "    image=out_image_texture,\n",
    "    description='Image Export',\n",
    "    fileNamePrefix= INPUT_IMAGE_PREFIX,\n",
    "    bucket=OUTPUT_BUCKET,\n",
    "    scale=spatial_resolution,\n",
    "    fileFormat='TFRecord',\n",
    "    region=out_ext_buffer,\n",
    "    formatOptions=image_export_options,\n",
    ")\n",
    "\n",
    "image_task.start()"
   ]
  },
  {
   "cell_type": "code",
   "execution_count": 27,
   "id": "8e86f36b",
   "metadata": {},
   "outputs": [
    {
     "name": "stdout",
     "output_type": "stream",
     "text": [
      "Polling for task (id: GH5NCKTECVCVTXOGOR2YBIP3).\n",
      "Polling for task (id: GH5NCKTECVCVTXOGOR2YBIP3).\n",
      "Polling for task (id: GH5NCKTECVCVTXOGOR2YBIP3).\n",
      "Polling for task (id: GH5NCKTECVCVTXOGOR2YBIP3).\n",
      "Polling for task (id: GH5NCKTECVCVTXOGOR2YBIP3).\n",
      "Polling for task (id: GH5NCKTECVCVTXOGOR2YBIP3).\n",
      "Polling for task (id: GH5NCKTECVCVTXOGOR2YBIP3).\n",
      "Done with image export.\n"
     ]
    }
   ],
   "source": [
    "while image_task.active():\n",
    "    print('Polling for task (id: {}).'.format(image_task.id))\n",
    "    time.sleep(10)\n",
    "print('Done with image export.')"
   ]
  },
  {
   "cell_type": "code",
   "execution_count": 28,
   "id": "2939f0fa",
   "metadata": {},
   "outputs": [],
   "source": [
    "fcc_image = out_image_texture.select(landsat_parameters['FCCbands'])\n",
    "\n",
    "fcc_task = ee.batch.Export.image.toCloudStorage(\n",
    "    image=fcc_image,\n",
    "    description= 'FCC Image Export',\n",
    "    fileNamePrefix=FCC_IMAGE_PREFIX,\n",
    "    bucket=OUTPUT_BUCKET,\n",
    "    scale=spatial_resolution,\n",
    "    fileFormat='GeoTIFF',\n",
    "    region=out_ext_buffer,\n",
    "    formatOptions=image_export_options,\n",
    ")\n",
    "\n",
    "fcc_task.start()"
   ]
  },
  {
   "cell_type": "code",
   "execution_count": 29,
   "id": "9566af81",
   "metadata": {},
   "outputs": [
    {
     "name": "stdout",
     "output_type": "stream",
     "text": [
      "Polling for task (id: 3Q4QP2PS3FKZD3REKDPSMROB).\n",
      "Polling for task (id: 3Q4QP2PS3FKZD3REKDPSMROB).\n",
      "Polling for task (id: 3Q4QP2PS3FKZD3REKDPSMROB).\n",
      "Polling for task (id: 3Q4QP2PS3FKZD3REKDPSMROB).\n",
      "Polling for task (id: 3Q4QP2PS3FKZD3REKDPSMROB).\n",
      "Polling for task (id: 3Q4QP2PS3FKZD3REKDPSMROB).\n",
      "Polling for task (id: 3Q4QP2PS3FKZD3REKDPSMROB).\n",
      "Polling for task (id: 3Q4QP2PS3FKZD3REKDPSMROB).\n",
      "Polling for task (id: 3Q4QP2PS3FKZD3REKDPSMROB).\n",
      "Polling for task (id: 3Q4QP2PS3FKZD3REKDPSMROB).\n",
      "Polling for task (id: 3Q4QP2PS3FKZD3REKDPSMROB).\n",
      "Polling for task (id: 3Q4QP2PS3FKZD3REKDPSMROB).\n",
      "Done with FCC Image export.\n"
     ]
    }
   ],
   "source": [
    "while fcc_task.active():\n",
    "    print('Polling for task (id: {}).'.format(fcc_task.id))\n",
    "    time.sleep(10)\n",
    "print('Done with FCC Image export.')"
   ]
  },
  {
   "cell_type": "code",
   "execution_count": 30,
   "id": "5a63af4d",
   "metadata": {},
   "outputs": [],
   "source": [
    "fcc_name = FCC_IMAGE_PREFIX + '.tif'\n",
    "fcc_output_file = FC_DIR + '/' +  IMAGE_FILE_PREFIX + '_fcc.tif'\n",
    "\n",
    "bucket = storage_client.get_bucket('lc-mapping')\n",
    "blob = bucket.blob(fcc_name)\n",
    "with open(fcc_output_file, 'wb') as f:\n",
    "    storage_client.download_blob_to_file(blob, f)"
   ]
  },
  {
   "cell_type": "code",
   "execution_count": 31,
   "id": "875f73a9",
   "metadata": {},
   "outputs": [
    {
     "name": "stdout",
     "output_type": "stream",
     "text": [
      "['gs://lc-mapping/rohit/rohit_Chittagong_2020_2020_1629302444/inputs/Chittagong_2020_2020.tfrecord.gz']\n",
      "Chittagong_2020_2020.json\n"
     ]
    }
   ],
   "source": [
    "files_list = tf.io.gfile.listdir(INPUT_FILE_PATH)\n",
    "exported_files_list = [s for s in files_list if IMAGE_FILE_PREFIX in s]\n",
    "\n",
    "tfrecord_list = []\n",
    "json_file = None\n",
    "for f in exported_files_list:\n",
    "    if f.endswith('.tfrecord.gz'):\n",
    "        tfrecord_list.append(f)\n",
    "    elif f.endswith('.json'):\n",
    "        json_file = f\n",
    "    \n",
    "tfrecord_list.sort()\n",
    "\n",
    "tfrecord_list = [INPUT_FILE_PATH + x for x in tfrecord_list]\n",
    "\n",
    "print(tfrecord_list)\n",
    "print(json_file)"
   ]
  },
  {
   "cell_type": "code",
   "execution_count": 32,
   "id": "671d912b",
   "metadata": {},
   "outputs": [],
   "source": [
    "file_name = USER_PATH + '/inputs/' + json_file\n",
    "json_output_file = JSON_PATH + '/' + json_file\n",
    "\n",
    "bucket = storage_client.get_bucket('lc-mapping')\n",
    "blob = bucket.blob(file_name)\n",
    "with open(json_output_file, 'wb') as f:\n",
    "    storage_client.download_blob_to_file(blob, f)"
   ]
  },
  {
   "cell_type": "code",
   "execution_count": 33,
   "id": "a4baad1d",
   "metadata": {},
   "outputs": [
    {
     "data": {
      "text/plain": [
       "{'projection': {'crs': 'EPSG:4326',\n",
       "  'affine': {'doubleMatrix': [0.0010779783409434259,\n",
       "    0.0,\n",
       "    91.50526944932365,\n",
       "    0.0,\n",
       "    -0.0010779783409434259,\n",
       "    22.63323324644817]}},\n",
       " 'patchDimensions': [256, 256],\n",
       " 'patchesPerRow': 2,\n",
       " 'totalPatches': 4}"
      ]
     },
     "execution_count": 33,
     "metadata": {},
     "output_type": "execute_result"
    }
   ],
   "source": [
    "with open(json_output_file, \"r\") as read_file:\n",
    "    mixer = json.load(read_file)\n",
    "mixer"
   ]
  },
  {
   "cell_type": "code",
   "execution_count": 34,
   "id": "0538826b",
   "metadata": {},
   "outputs": [],
   "source": [
    "patch_width = mixer['patchDimensions'][0]\n",
    "patch_height = mixer['patchDimensions'][1]\n",
    "patches = mixer['totalPatches']\n",
    "patch_dimensions_flat = [patch_width*patch_height, 1]\n",
    "\n",
    "image_columns = [\n",
    "                tf.io.FixedLenFeature(shape=patch_dimensions_flat, dtype=tf.float32) for k in BANDS\n",
    "]\n",
    "\n",
    "image_features_dict = dict(zip(BANDS, image_columns))\n",
    "\n",
    "image_dataset = tf.data.TFRecordDataset(tfrecord_list, compression_type='GZIP')"
   ]
  },
  {
   "cell_type": "code",
   "execution_count": 35,
   "id": "0b542ea1",
   "metadata": {},
   "outputs": [],
   "source": [
    "def parse_image(example_proto):\n",
    "    return tf.io.parse_single_example(example_proto, image_features_dict)"
   ]
  },
  {
   "cell_type": "code",
   "execution_count": 36,
   "id": "cffdf8de",
   "metadata": {},
   "outputs": [],
   "source": [
    "image_dataset = image_dataset.map(parse_image, num_parallel_calls=5)\n",
    "\n",
    "image_dataset = image_dataset.flat_map(\n",
    "    lambda features: tf.data.Dataset.from_tensor_slices(features)\n",
    ")\n",
    "\n",
    "image_dataset = image_dataset.map(\n",
    "  lambda data_dict: (tf.transpose(list(data_dict.values())))\n",
    ")\n",
    "\n",
    "image_dataset = image_dataset.batch(patch_width * patch_height)"
   ]
  },
  {
   "cell_type": "code",
   "execution_count": 37,
   "id": "e7a1b561",
   "metadata": {},
   "outputs": [
    {
     "name": "stdout",
     "output_type": "stream",
     "text": [
      "4/4 [==============================] - 18s 4s/step\n",
      "[[0.7140731  0.07905904 0.16906682 0.03780102]]\n"
     ]
    }
   ],
   "source": [
    "predictions = model.predict(image_dataset, steps=patches, verbose=1)\n",
    "print(predictions[0])"
   ]
  },
  {
   "cell_type": "code",
   "execution_count": 38,
   "id": "0a50a19e",
   "metadata": {},
   "outputs": [
    {
     "name": "stdout",
     "output_type": "stream",
     "text": [
      "Done with Patch 1 of 4...\n",
      "Done with Patch 2 of 4...\n",
      "Done with Patch 3 of 4...\n",
      "Done with Patch 4 of 4...\n"
     ]
    }
   ],
   "source": [
    "writer = tf.io.TFRecordWriter(OUTPUT_IMAGE_TFR)\n",
    "\n",
    "patch = [[]]\n",
    "cur_patch = 1\n",
    "for prediction in predictions:\n",
    "    patch[0].append(np.argmax(prediction))\n",
    "\n",
    "    if (len(patch[0])==patch_width*patch_height):\n",
    "        print('Done with Patch ' + str(cur_patch) + ' of ' + str(patches) + '...')\n",
    "        example = tf.train.Example(\n",
    "            features=tf.train.Features(\n",
    "                feature={\n",
    "                    'prediction': tf.train.Feature(\n",
    "                        int64_list=tf.train.Int64List(\n",
    "                            value=patch[0]\n",
    "                        )\n",
    "                    )\n",
    "                }\n",
    "            )\n",
    "        )\n",
    "\n",
    "        writer.write(example.SerializeToString())\n",
    "        patch=[[]]\n",
    "        cur_patch +=1\n",
    "        \n",
    "writer.close()"
   ]
  },
  {
   "cell_type": "code",
   "execution_count": 39,
   "id": "8eb76daf",
   "metadata": {},
   "outputs": [
    {
     "name": "stdout",
     "output_type": "stream",
     "text": [
      "WARNING:tensorflow:From <ipython-input-39-359c0215969a>:1: tf_record_iterator (from tensorflow.python.lib.io.tf_record) is deprecated and will be removed in a future version.\n",
      "Instructions for updating:\n",
      "Use eager execution and: \n",
      "`tf.data.TFRecordDataset(path)`\n",
      "1\n",
      "3\n",
      "4\n"
     ]
    }
   ],
   "source": [
    "record_iterator = tf.compat.v1.python_io.tf_record_iterator(path=OUTPUT_IMAGE_TFR)\n",
    "\n",
    "n_row = patches/mixer['patchesPerRow']\n",
    "n_col = mixer['patchesPerRow']\n",
    "current_row = 0\n",
    "current_col = 0\n",
    "counter = 0\n",
    "\n",
    "for string_record in record_iterator:\n",
    "    example = tf.train.Example()\n",
    "    example.ParseFromString(string_record)\n",
    "    values = np.array(example.features.feature['prediction'].int64_list.value).reshape(patch_width, patch_height).astype(np.int8)\n",
    "\n",
    "    if (current_col==0):\n",
    "        horizontal_strip = values\n",
    "    else:\n",
    "        horizontal_strip = np.concatenate([horizontal_strip, values], axis=1)\n",
    "    current_col += 1\n",
    "\n",
    "    if (current_col == n_col):\n",
    "        if (current_row==0):\n",
    "            image = horizontal_strip\n",
    "        else:\n",
    "            image = np.concatenate([image, horizontal_strip], axis=0)\n",
    "            horizontal_strip = []\n",
    "\n",
    "        current_row +=1\n",
    "        current_col = 0\n",
    "        print(counter)\n",
    "    counter +=1\n",
    "print(counter)"
   ]
  },
  {
   "cell_type": "code",
   "execution_count": 40,
   "id": "37d03e2b",
   "metadata": {},
   "outputs": [
    {
     "data": {
      "image/png": "[encoded data removed]",
      "text/plain": [
       "<Figure size 432x288 with 1 Axes>"
      ]
     },
     "metadata": {
      "needs_background": "light"
     },
     "output_type": "display_data"
    }
   ],
   "source": [
    "imgplot = plt.imshow(image, cmap=plt.get_cmap('jet'), vmin=0, vmax=1)\n",
    "plt.show()"
   ]
  },
  {
   "cell_type": "code",
   "execution_count": 41,
   "id": "2991fbe6",
   "metadata": {},
   "outputs": [
    {
     "name": "stdout",
     "output_type": "stream",
     "text": [
      "[0.0010779783409434259, 0.0, 91.50526944932365, 0.0, -0.0010779783409434259, 22.63323324644817]\n",
      "(91.50526944932365, 0.0010779783409434259, 0.0, 22.63323324644817, 0.0, -0.0010779783409434259)\n",
      "4326\n"
     ]
    }
   ],
   "source": [
    "affine = mixer['projection']['affine']['doubleMatrix']\n",
    "geotransform = (affine[2], affine[0], affine[1], affine[5], affine[3], affine[4])\n",
    "crs = int(mixer['projection']['crs'][-4:])\n",
    "print(affine)\n",
    "print(geotransform)\n",
    "print(crs)"
   ]
  },
  {
   "cell_type": "code",
   "execution_count": 42,
   "id": "6486ddfb",
   "metadata": {},
   "outputs": [
    {
     "name": "stdout",
     "output_type": "stream",
     "text": [
      "Exorting ./rohit/rohit_Chittagong_2020_2020_1629302444/lc-map/Chittagong_2020_2020.tif completed.\n"
     ]
    }
   ],
   "source": [
    "ny, nx = image.shape\n",
    "dst_ds = gdal.GetDriverByName('GTiff').Create(LC_IMAGE_TIF, nx, ny, 1, gdal.GDT_Byte)\n",
    "dst_ds.SetGeoTransform(tuple(geotransform))\n",
    "srs = osr.SpatialReference()\n",
    "srs.ImportFromEPSG(crs)\n",
    "dst_ds.SetProjection(srs.ExportToWkt())\n",
    "dst_ds.GetRasterBand(1).WriteArray(image)\n",
    "dst_ds.FlushCache()\n",
    "dst_ds = None\n",
    "\n",
    "print(\"Exorting \" + LC_IMAGE_TIF + \" completed.\")"
   ]
  },
  {
   "cell_type": "code",
   "execution_count": null,
   "id": "4ecfadd0",
   "metadata": {},
   "outputs": [],
   "source": []
  }
 ],
 "metadata": {
  "kernelspec": {
   "display_name": "Python [conda env:gee] *",
   "language": "python",
   "name": "conda-env-gee-py"
  },
  "language_info": {
   "codemirror_mode": {
    "name": "ipython",
    "version": 3
   },
   "file_extension": ".py",
   "mimetype": "text/x-python",
   "name": "python",
   "nbconvert_exporter": "python",
   "pygments_lexer": "ipython3",
   "version": "3.7.10"
  }
 },
 "nbformat": 4,
 "nbformat_minor": 5
}
