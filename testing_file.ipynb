{
 "cells": [
  {
   "cell_type": "code",
   "execution_count": 1,
   "id": "7d43e939",
   "metadata": {},
   "outputs": [],
   "source": [
    "import sys\n",
    "sys.path.append('./py/')"
   ]
  },
  {
   "cell_type": "code",
   "execution_count": 2,
   "id": "855077e7",
   "metadata": {},
   "outputs": [],
   "source": [
    "import ee\n",
    "from ParamSelection import Landsat\n",
    "from ProductSelection import Product\n",
    "from IndicesAdd import Indices\n",
    "from AssetsFilter import Assets"
   ]
  },
  {
   "cell_type": "code",
   "execution_count": 3,
   "id": "d9a4f024",
   "metadata": {},
   "outputs": [],
   "source": [
    "service_account = 'glodal-landcover-mapping@rohit-81.iam.gserviceaccount.com'\n",
    "credentials = ee.ServiceAccountCredentials(service_account, 'glodal_gee.json')\n",
    "ee.Initialize(credentials)"
   ]
  },
  {
   "cell_type": "code",
   "execution_count": 4,
   "id": "8a76fe46",
   "metadata": {},
   "outputs": [],
   "source": [
    "ROI = {'cityName': 'Chittagong', 'LatMax': 22.4525957509930443, 'LatMin': 22.1544461679352587, 'LonMax': 91.9732519334708627, 'LonMin': 91.7009214895644647, 'yearBegin':2020, 'yearEnd':2020, 'doyFilter':ee.Filter.And(ee.Filter.greaterThanOrEquals('doy',  1), ee.Filter.lessThanOrEquals('doy',  366)), 'doyFilterLandsat': ee.Filter.dayOfYear(1,366)}"
   ]
  },
  {
   "cell_type": "code",
   "execution_count": 5,
   "id": "996dca8c",
   "metadata": {},
   "outputs": [],
   "source": [
    "city_name = ROI['cityName']\n",
    "year_begin = ROI['yearBegin']\n",
    "year_end = ROI['yearEnd']"
   ]
  },
  {
   "cell_type": "code",
   "execution_count": 6,
   "id": "97c8dd00",
   "metadata": {},
   "outputs": [],
   "source": [
    "def reduce_class_value(feat):\n",
    "    return feat.set('class', ee.Number(feat.get('class')).subtract(1))"
   ]
  },
  {
   "cell_type": "code",
   "execution_count": 7,
   "id": "b9db3273",
   "metadata": {},
   "outputs": [],
   "source": [
    "ref_point = ee.FeatureCollection('users/rhtkhati/gt-pt-2019-2021-120m')\n",
    "ref_point = ref_point.map(reduce_class_value)"
   ]
  },
  {
   "cell_type": "code",
   "execution_count": 8,
   "id": "3a4ae210",
   "metadata": {},
   "outputs": [],
   "source": [
    "kernel = ee.Kernel.gaussian(1)\n",
    "cloud = 30\n",
    "spatial_resolution = 120\n",
    "batch_size = 100\n",
    "base_distance = 5000\n",
    "patch_size = 256\n",
    "buffer_distance = base_distance * (round((spatial_resolution * 0.5 * patch_size)/base_distance) +1)"
   ]
  },
  {
   "cell_type": "code",
   "execution_count": 9,
   "id": "541914ad",
   "metadata": {},
   "outputs": [],
   "source": [
    "for year in range(year_begin, year_end+1, 1):\n",
    "    out_ext = ee.Geometry.Rectangle([ ROI['LonMin'], ROI['LatMin'], ROI['LonMax'], ROI['LatMax']])\n",
    "    out_ext_center = out_ext.centroid()\n",
    "\n",
    "    out_ext_buffer = out_ext.buffer(buffer_distance).bounds()\n",
    "\n",
    "    center_lat = out_ext_center.getInfo()['coordinates'][1]\n",
    "    center_lon = out_ext_center.getInfo()['coordinates'][0]\n",
    "    \n",
    "    landsat_parameters = Landsat(year_begin).select_landsat()\n",
    "    \n",
    "    gtYearBegin = year_begin\n",
    "    gtYearEnd = year_end\n",
    "    \n",
    "    landsat_product = Product(landsat_parameters['Landsat'], gtYearBegin, gtYearEnd, ROI['doyFilterLandsat'], out_ext, cloud).select_product()\n",
    "    \n",
    "    LABEL_DATA = ref_point.filter(ee.Filter.And(ee.Filter.greaterThanOrEquals('year', gtYearBegin), ee.Filter.lessThanOrEquals('year', gtYearEnd), ROI['doyFilter']))\n",
    "    LABEL_DATA = LABEL_DATA.filterBounds(landsat_product['region'])\n",
    "    \n",
    "    data_size = LABEL_DATA.size().getInfo()\n",
    "    train_step = (data_size*0.8)//batch_size\n",
    "    validate_step = (data_size*0.2)//batch_size\n",
    "    \n",
    "    Indices(landsat_parameters, landsat_product).add_indices()\n",
    "    \n",
    "    gt_image = landsat_product['image']\n",
    "    gt_image_int = landsat_product['image_int']\n",
    "    gt_image_texture = gt_image.addBands(gt_image_int.select(landsat_parameters['TextureBand']).entropy(kernel))\n",
    "\n",
    "    out_image = landsat_product['image'].clip(out_ext_buffer)\n",
    "    out_image_int = landsat_product['image_int'].clip(out_ext_buffer)\n",
    "    out_image_texture = out_image.addBands(out_image_int.select(landsat_parameters['TextureBand']).entropy(kernel))"
   ]
  },
  {
   "cell_type": "code",
   "execution_count": null,
   "id": "6d057684",
   "metadata": {},
   "outputs": [],
   "source": [
    "import folium"
   ]
  },
  {
   "cell_type": "code",
   "execution_count": 10,
   "id": "95ebc911",
   "metadata": {},
   "outputs": [
    {
     "ename": "NameError",
     "evalue": "name 'folium' is not defined",
     "output_type": "error",
     "traceback": [
      "\u001b[0;31m---------------------------------------------------------------------------\u001b[0m",
      "\u001b[0;31mNameError\u001b[0m                                 Traceback (most recent call last)",
      "\u001b[0;32m<ipython-input-10-9877455ae13b>\u001b[0m in \u001b[0;36m<module>\u001b[0;34m\u001b[0m\n\u001b[1;32m      1\u001b[0m \u001b[0mmapid\u001b[0m \u001b[0;34m=\u001b[0m \u001b[0mout_image_texture\u001b[0m\u001b[0;34m.\u001b[0m\u001b[0mgetMapId\u001b[0m\u001b[0;34m(\u001b[0m\u001b[0;34m{\u001b[0m\u001b[0;34m'bands'\u001b[0m\u001b[0;34m:\u001b[0m \u001b[0;34m[\u001b[0m\u001b[0mlandsat_parameters\u001b[0m\u001b[0;34m[\u001b[0m\u001b[0;34m'FCCbands'\u001b[0m\u001b[0;34m]\u001b[0m\u001b[0;34m[\u001b[0m\u001b[0;36m0\u001b[0m\u001b[0;34m]\u001b[0m\u001b[0;34m,\u001b[0m \u001b[0mlandsat_parameters\u001b[0m\u001b[0;34m[\u001b[0m\u001b[0;34m'FCCbands'\u001b[0m\u001b[0;34m]\u001b[0m\u001b[0;34m[\u001b[0m\u001b[0;36m1\u001b[0m\u001b[0;34m]\u001b[0m\u001b[0;34m,\u001b[0m \u001b[0mlandsat_parameters\u001b[0m\u001b[0;34m[\u001b[0m\u001b[0;34m'FCCbands'\u001b[0m\u001b[0;34m]\u001b[0m\u001b[0;34m[\u001b[0m\u001b[0;36m2\u001b[0m\u001b[0;34m]\u001b[0m\u001b[0;34m]\u001b[0m\u001b[0;34m,\u001b[0m \u001b[0;34m'min'\u001b[0m\u001b[0;34m:\u001b[0m \u001b[0;36m0\u001b[0m\u001b[0;34m,\u001b[0m \u001b[0;34m'max'\u001b[0m\u001b[0;34m:\u001b[0m \u001b[0;36m0.3\u001b[0m\u001b[0;34m}\u001b[0m\u001b[0;34m)\u001b[0m\u001b[0;34m\u001b[0m\u001b[0;34m\u001b[0m\u001b[0m\n\u001b[0;32m----> 2\u001b[0;31m \u001b[0mmap\u001b[0m \u001b[0;34m=\u001b[0m \u001b[0mfolium\u001b[0m\u001b[0;34m.\u001b[0m\u001b[0mMap\u001b[0m\u001b[0;34m(\u001b[0m\u001b[0mlocation\u001b[0m\u001b[0;34m=\u001b[0m\u001b[0;34m[\u001b[0m\u001b[0mcenter_lat\u001b[0m\u001b[0;34m,\u001b[0m \u001b[0mcenter_lon\u001b[0m\u001b[0;34m]\u001b[0m\u001b[0;34m)\u001b[0m\u001b[0;34m\u001b[0m\u001b[0;34m\u001b[0m\u001b[0m\n\u001b[0m\u001b[1;32m      3\u001b[0m folium.TileLayer(\n\u001b[1;32m      4\u001b[0m     \u001b[0mtiles\u001b[0m\u001b[0;34m=\u001b[0m\u001b[0mmapid\u001b[0m\u001b[0;34m[\u001b[0m\u001b[0;34m'tile_fetcher'\u001b[0m\u001b[0;34m]\u001b[0m\u001b[0;34m.\u001b[0m\u001b[0murl_format\u001b[0m\u001b[0;34m,\u001b[0m\u001b[0;34m\u001b[0m\u001b[0;34m\u001b[0m\u001b[0m\n\u001b[1;32m      5\u001b[0m     \u001b[0mattr\u001b[0m\u001b[0;34m=\u001b[0m\u001b[0;34m'Map Data &copy; <a href=\"https://earthengine.google.com/\">Google Earth Engine</a>'\u001b[0m\u001b[0;34m,\u001b[0m\u001b[0;34m\u001b[0m\u001b[0;34m\u001b[0m\u001b[0m\n",
      "\u001b[0;31mNameError\u001b[0m: name 'folium' is not defined"
     ]
    }
   ],
   "source": [
    "mapid = out_image_texture.getMapId({'bands': [landsat_parameters['FCCbands'][0], landsat_parameters['FCCbands'][1], landsat_parameters['FCCbands'][2]], 'min': 0, 'max': 0.3})\n",
    "map = folium.Map(location=[center_lat, center_lon]) \n",
    "folium.TileLayer(\n",
    "    tiles=mapid['tile_fetcher'].url_format,\n",
    "    attr='Map Data &copy; <a href=\"https://earthengine.google.com/\">Google Earth Engine</a>',\n",
    "    overlay=True,\n",
    "    name='Out Image Texture',\n",
    "  ).add_to(map)\n",
    "map.add_child(folium.LayerControl())\n",
    "map"
   ]
  },
  {
   "cell_type": "code",
   "execution_count": null,
   "id": "f63a37b1",
   "metadata": {},
   "outputs": [],
   "source": []
  }
 ],
 "metadata": {
  "kernelspec": {
   "display_name": "Python [conda env:gee] *",
   "language": "python",
   "name": "conda-env-gee-py"
  },
  "language_info": {
   "codemirror_mode": {
    "name": "ipython",
    "version": 3
   },
   "file_extension": ".py",
   "mimetype": "text/x-python",
   "name": "python",
   "nbconvert_exporter": "python",
   "pygments_lexer": "ipython3",
   "version": "3.7.10"
  }
 },
 "nbformat": 4,
 "nbformat_minor": 5
}
