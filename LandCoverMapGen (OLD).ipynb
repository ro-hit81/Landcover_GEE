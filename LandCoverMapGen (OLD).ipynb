{
 "cells": [
  {
   "cell_type": "code",
   "execution_count": 1,
   "id": "7d43e939",
   "metadata": {},
   "outputs": [],
   "source": [
    "import sys\n",
    "sys.path.append('./py/')"
   ]
  },
  {
   "cell_type": "code",
   "execution_count": 2,
   "id": "855077e7",
   "metadata": {},
   "outputs": [
    {
     "name": "stderr",
     "output_type": "stream",
     "text": [
      "Using TensorFlow backend.\n"
     ]
    }
   ],
   "source": [
    "import ee\n",
    "import folium\n",
    "import json\n",
    "import os\n",
    "import time\n",
    "\n",
    "import matplotlib.pyplot as plt\n",
    "import numpy as np\n",
    "import tensorflow as tf\n",
    "\n",
    "from google.cloud import storage\n",
    "from keras.callbacks import ModelCheckpoint\n",
    "from keras.callbacks import LearningRateScheduler\n",
    "from osgeo import gdal\n",
    "from osgeo import osr\n",
    "from pprint import pprint"
   ]
  },
  {
   "cell_type": "code",
   "execution_count": 3,
   "id": "3b5c00ab",
   "metadata": {},
   "outputs": [],
   "source": [
    "os.environ['GOOGLE_APPLICATION_CREDENTIALS'] = \"glodal_gee.json\"\n",
    "storage_client = storage.Client()\n",
    "\n",
    "service_account = 'glodal-landcover-mapping@rohit-81.iam.gserviceaccount.com'\n",
    "credentials = ee.ServiceAccountCredentials(service_account, 'glodal_gee.json')\n",
    "ee.Initialize(credentials)"
   ]
  },
  {
   "cell_type": "code",
   "execution_count": 4,
   "id": "b31f49e9",
   "metadata": {},
   "outputs": [],
   "source": [
    "from Config import *\n",
    "from ParamSelection import Landsat\n",
    "from ProductSelection import Product\n",
    "from IndicesAdd import Indices\n",
    "from AssetsFilter import Assets"
   ]
  },
  {
   "cell_type": "code",
   "execution_count": 5,
   "id": "ea6564fb",
   "metadata": {},
   "outputs": [
    {
     "name": "stdout",
     "output_type": "stream",
     "text": [
      "Device mapping:\n",
      "/job:localhost/replica:0/task:0/device:XLA_CPU:0 -> device: XLA_CPU device\n",
      "/job:localhost/replica:0/task:0/device:GPU:0 -> device: 0, name: GeForce RTX 2080 SUPER, pci bus id: 0000:01:00.0, compute capability: 7.5\n",
      "/job:localhost/replica:0/task:0/device:XLA_GPU:0 -> device: XLA_GPU device\n",
      "\n"
     ]
    }
   ],
   "source": [
    "config = tf.ConfigProto()\n",
    "\n",
    "config.gpu_options.allow_growth = True # dynamically grow the memory used on the GPU\n",
    "\n",
    "config.log_device_placement = True\n",
    "\n",
    "sess = tf.Session(config=config)\n",
    "\n",
    "tf.keras.backend.set_session(sess)"
   ]
  },
  {
   "cell_type": "code",
   "execution_count": 6,
   "id": "97c8dd00",
   "metadata": {},
   "outputs": [],
   "source": [
    "def reduce_class_value(feat):\n",
    "    return feat.set('class', ee.Number(feat.get('class')).subtract(1))"
   ]
  },
  {
   "cell_type": "code",
   "execution_count": 7,
   "id": "b9db3273",
   "metadata": {},
   "outputs": [],
   "source": [
    "ref_point = gtpt_asset.map(reduce_class_value)"
   ]
  },
  {
   "cell_type": "code",
   "execution_count": 8,
   "id": "541914ad",
   "metadata": {},
   "outputs": [],
   "source": [
    "for year in range(year_begin, year_end+1, 1):\n",
    "    out_ext = ee.Geometry.Rectangle([ ROI['LonMin'], ROI['LatMin'], ROI['LonMax'], ROI['LatMax']])\n",
    "    out_ext_center = out_ext.centroid()\n",
    "\n",
    "    out_ext_buffer = out_ext.buffer(buffer_distance).bounds()\n",
    "\n",
    "    center_lat = out_ext_center.getInfo()['coordinates'][1]\n",
    "    center_lon = out_ext_center.getInfo()['coordinates'][0]\n",
    "    \n",
    "    landsat_parameters = Landsat(year_begin).select_landsat()\n",
    "    \n",
    "    gtYearBegin = year_begin\n",
    "    gtYearEnd = year_end\n",
    "    \n",
    "    landsat_product = Product(landsat_parameters['Landsat'], gtYearBegin, gtYearEnd, ROI['doyFilterLandsat'], out_ext, cloud).select_product()\n",
    "    \n",
    "    LABEL_DATA = ref_point.filter(ee.Filter.And(ee.Filter.greaterThanOrEquals('year', gtYearBegin), ee.Filter.lessThanOrEquals('year', gtYearEnd), ROI['doyFilter']))\n",
    "    LABEL_DATA = LABEL_DATA.filterBounds(landsat_product['region'])\n",
    "    \n",
    "    data_size = LABEL_DATA.size().getInfo()\n",
    "    train_step = (data_size*0.8)//batch_size\n",
    "    validate_step = (data_size*0.2)//batch_size\n",
    "    \n",
    "    Indices(landsat_parameters, landsat_product).add_indices()\n",
    "    \n",
    "    gt_image = landsat_product['image']\n",
    "    gt_image_int = landsat_product['image_int']\n",
    "    gt_image_texture = gt_image.addBands(gt_image_int.select(landsat_parameters['TextureBand']).entropy(kernel))\n",
    "\n",
    "    out_image = landsat_product['image'].clip(out_ext_buffer)\n",
    "    out_image_int = landsat_product['image_int'].clip(out_ext_buffer)\n",
    "    out_image_texture = out_image.addBands(out_image_int.select(landsat_parameters['TextureBand']).entropy(kernel))"
   ]
  },
  {
   "cell_type": "code",
   "execution_count": 9,
   "id": "95ebc911",
   "metadata": {},
   "outputs": [
    {
     "data": {
      "text/html": [
       "<div style=\"width:100%;\"><div style=\"position:relative;width:100%;height:0;padding-bottom:60%;\"><span style=\"color:#565656\">Make this Notebook Trusted to load map: File -> Trust Notebook</span><iframe src=\"about:blank\" style=\"position:absolute;width:100%;height:100%;left:0;top:0;border:none !important;\" data-html=%3C%21DOCTYPE%20html%3E%0A%3Chead%3E%20%20%20%20%0A%20%20%20%20%3Cmeta%20http-equiv%3D%22content-type%22%20content%3D%22text/html%3B%20charset%3DUTF-8%22%20/%3E%0A%20%20%20%20%0A%20%20%20%20%20%20%20%20%3Cscript%3E%0A%20%20%20%20%20%20%20%20%20%20%20%20L_NO_TOUCH%20%3D%20false%3B%0A%20%20%20%20%20%20%20%20%20%20%20%20L_DISABLE_3D%20%3D%20false%3B%0A%20%20%20%20%20%20%20%20%3C/script%3E%0A%20%20%20%20%0A%20%20%20%20%3Cstyle%3Ehtml%2C%20body%20%7Bwidth%3A%20100%25%3Bheight%3A%20100%25%3Bmargin%3A%200%3Bpadding%3A%200%3B%7D%3C/style%3E%0A%20%20%20%20%3Cstyle%3E%23map%20%7Bposition%3Aabsolute%3Btop%3A0%3Bbottom%3A0%3Bright%3A0%3Bleft%3A0%3B%7D%3C/style%3E%0A%20%20%20%20%3Cscript%20src%3D%22https%3A//cdn.jsdelivr.net/npm/leaflet%401.6.0/dist/leaflet.js%22%3E%3C/script%3E%0A%20%20%20%20%3Cscript%20src%3D%22https%3A//code.jquery.com/jquery-1.12.4.min.js%22%3E%3C/script%3E%0A%20%20%20%20%3Cscript%20src%3D%22https%3A//maxcdn.bootstrapcdn.com/bootstrap/3.2.0/js/bootstrap.min.js%22%3E%3C/script%3E%0A%20%20%20%20%3Cscript%20src%3D%22https%3A//cdnjs.cloudflare.com/ajax/libs/Leaflet.awesome-markers/2.0.2/leaflet.awesome-markers.js%22%3E%3C/script%3E%0A%20%20%20%20%3Clink%20rel%3D%22stylesheet%22%20href%3D%22https%3A//cdn.jsdelivr.net/npm/leaflet%401.6.0/dist/leaflet.css%22/%3E%0A%20%20%20%20%3Clink%20rel%3D%22stylesheet%22%20href%3D%22https%3A//maxcdn.bootstrapcdn.com/bootstrap/3.2.0/css/bootstrap.min.css%22/%3E%0A%20%20%20%20%3Clink%20rel%3D%22stylesheet%22%20href%3D%22https%3A//maxcdn.bootstrapcdn.com/bootstrap/3.2.0/css/bootstrap-theme.min.css%22/%3E%0A%20%20%20%20%3Clink%20rel%3D%22stylesheet%22%20href%3D%22https%3A//maxcdn.bootstrapcdn.com/font-awesome/4.6.3/css/font-awesome.min.css%22/%3E%0A%20%20%20%20%3Clink%20rel%3D%22stylesheet%22%20href%3D%22https%3A//cdnjs.cloudflare.com/ajax/libs/Leaflet.awesome-markers/2.0.2/leaflet.awesome-markers.css%22/%3E%0A%20%20%20%20%3Clink%20rel%3D%22stylesheet%22%20href%3D%22https%3A//cdn.jsdelivr.net/gh/python-visualization/folium/folium/templates/leaflet.awesome.rotate.min.css%22/%3E%0A%20%20%20%20%0A%20%20%20%20%20%20%20%20%20%20%20%20%3Cmeta%20name%3D%22viewport%22%20content%3D%22width%3Ddevice-width%2C%0A%20%20%20%20%20%20%20%20%20%20%20%20%20%20%20%20initial-scale%3D1.0%2C%20maximum-scale%3D1.0%2C%20user-scalable%3Dno%22%20/%3E%0A%20%20%20%20%20%20%20%20%20%20%20%20%3Cstyle%3E%0A%20%20%20%20%20%20%20%20%20%20%20%20%20%20%20%20%23map_9eef62f8f1b04e839700d0ec672b0625%20%7B%0A%20%20%20%20%20%20%20%20%20%20%20%20%20%20%20%20%20%20%20%20position%3A%20relative%3B%0A%20%20%20%20%20%20%20%20%20%20%20%20%20%20%20%20%20%20%20%20width%3A%20100.0%25%3B%0A%20%20%20%20%20%20%20%20%20%20%20%20%20%20%20%20%20%20%20%20height%3A%20100.0%25%3B%0A%20%20%20%20%20%20%20%20%20%20%20%20%20%20%20%20%20%20%20%20left%3A%200.0%25%3B%0A%20%20%20%20%20%20%20%20%20%20%20%20%20%20%20%20%20%20%20%20top%3A%200.0%25%3B%0A%20%20%20%20%20%20%20%20%20%20%20%20%20%20%20%20%7D%0A%20%20%20%20%20%20%20%20%20%20%20%20%3C/style%3E%0A%20%20%20%20%20%20%20%20%0A%3C/head%3E%0A%3Cbody%3E%20%20%20%20%0A%20%20%20%20%0A%20%20%20%20%20%20%20%20%20%20%20%20%3Cdiv%20class%3D%22folium-map%22%20id%3D%22map_9eef62f8f1b04e839700d0ec672b0625%22%20%3E%3C/div%3E%0A%20%20%20%20%20%20%20%20%0A%3C/body%3E%0A%3Cscript%3E%20%20%20%20%0A%20%20%20%20%0A%20%20%20%20%20%20%20%20%20%20%20%20var%20map_9eef62f8f1b04e839700d0ec672b0625%20%3D%20L.map%28%0A%20%20%20%20%20%20%20%20%20%20%20%20%20%20%20%20%22map_9eef62f8f1b04e839700d0ec672b0625%22%2C%0A%20%20%20%20%20%20%20%20%20%20%20%20%20%20%20%20%7B%0A%20%20%20%20%20%20%20%20%20%20%20%20%20%20%20%20%20%20%20%20center%3A%20%5B22.30352473523628%2C%2091.83708671151724%5D%2C%0A%20%20%20%20%20%20%20%20%20%20%20%20%20%20%20%20%20%20%20%20crs%3A%20L.CRS.EPSG3857%2C%0A%20%20%20%20%20%20%20%20%20%20%20%20%20%20%20%20%20%20%20%20zoom%3A%2010%2C%0A%20%20%20%20%20%20%20%20%20%20%20%20%20%20%20%20%20%20%20%20zoomControl%3A%20true%2C%0A%20%20%20%20%20%20%20%20%20%20%20%20%20%20%20%20%20%20%20%20preferCanvas%3A%20false%2C%0A%20%20%20%20%20%20%20%20%20%20%20%20%20%20%20%20%7D%0A%20%20%20%20%20%20%20%20%20%20%20%20%29%3B%0A%0A%20%20%20%20%20%20%20%20%20%20%20%20%0A%0A%20%20%20%20%20%20%20%20%0A%20%20%20%20%0A%20%20%20%20%20%20%20%20%20%20%20%20var%20tile_layer_5b9c9cf417a543c78cf29e3d3055b0f2%20%3D%20L.tileLayer%28%0A%20%20%20%20%20%20%20%20%20%20%20%20%20%20%20%20%22https%3A//%7Bs%7D.tile.openstreetmap.org/%7Bz%7D/%7Bx%7D/%7By%7D.png%22%2C%0A%20%20%20%20%20%20%20%20%20%20%20%20%20%20%20%20%7B%22attribution%22%3A%20%22Data%20by%20%5Cu0026copy%3B%20%5Cu003ca%20href%3D%5C%22http%3A//openstreetmap.org%5C%22%5Cu003eOpenStreetMap%5Cu003c/a%5Cu003e%2C%20under%20%5Cu003ca%20href%3D%5C%22http%3A//www.openstreetmap.org/copyright%5C%22%5Cu003eODbL%5Cu003c/a%5Cu003e.%22%2C%20%22detectRetina%22%3A%20false%2C%20%22maxNativeZoom%22%3A%2018%2C%20%22maxZoom%22%3A%2018%2C%20%22minZoom%22%3A%200%2C%20%22noWrap%22%3A%20false%2C%20%22opacity%22%3A%201%2C%20%22subdomains%22%3A%20%22abc%22%2C%20%22tms%22%3A%20false%7D%0A%20%20%20%20%20%20%20%20%20%20%20%20%29.addTo%28map_9eef62f8f1b04e839700d0ec672b0625%29%3B%0A%20%20%20%20%20%20%20%20%0A%20%20%20%20%0A%20%20%20%20%20%20%20%20%20%20%20%20var%20tile_layer_97187be2bb9c4028aefedca8ec6f197e%20%3D%20L.tileLayer%28%0A%20%20%20%20%20%20%20%20%20%20%20%20%20%20%20%20%22https%3A//earthengine.googleapis.com/v1alpha/projects/earthengine-legacy/maps/bc517ac000f0b2e8eaa78114ec0ff061-bfcd4f10f80cf7d28251d0b61b4a3c56/tiles/%7Bz%7D/%7Bx%7D/%7By%7D%22%2C%0A%20%20%20%20%20%20%20%20%20%20%20%20%20%20%20%20%7B%22attribution%22%3A%20%22Map%20Data%20%5Cu0026copy%3B%20%5Cu003ca%20href%3D%5C%22https%3A//earthengine.google.com/%5C%22%5Cu003eGoogle%20Earth%20Engine%5Cu003c/a%5Cu003e%22%2C%20%22detectRetina%22%3A%20false%2C%20%22maxNativeZoom%22%3A%2018%2C%20%22maxZoom%22%3A%2018%2C%20%22minZoom%22%3A%200%2C%20%22noWrap%22%3A%20false%2C%20%22opacity%22%3A%201%2C%20%22subdomains%22%3A%20%22abc%22%2C%20%22tms%22%3A%20false%7D%0A%20%20%20%20%20%20%20%20%20%20%20%20%29.addTo%28map_9eef62f8f1b04e839700d0ec672b0625%29%3B%0A%20%20%20%20%20%20%20%20%0A%20%20%20%20%0A%20%20%20%20%20%20%20%20%20%20%20%20var%20layer_control_1d4195c6e02347fc9f0c7c0b9ae6caac%20%3D%20%7B%0A%20%20%20%20%20%20%20%20%20%20%20%20%20%20%20%20base_layers%20%3A%20%7B%0A%20%20%20%20%20%20%20%20%20%20%20%20%20%20%20%20%20%20%20%20%22openstreetmap%22%20%3A%20tile_layer_5b9c9cf417a543c78cf29e3d3055b0f2%2C%0A%20%20%20%20%20%20%20%20%20%20%20%20%20%20%20%20%7D%2C%0A%20%20%20%20%20%20%20%20%20%20%20%20%20%20%20%20overlays%20%3A%20%20%7B%0A%20%20%20%20%20%20%20%20%20%20%20%20%20%20%20%20%20%20%20%20%22Out%20Image%20Texture%22%20%3A%20tile_layer_97187be2bb9c4028aefedca8ec6f197e%2C%0A%20%20%20%20%20%20%20%20%20%20%20%20%20%20%20%20%7D%2C%0A%20%20%20%20%20%20%20%20%20%20%20%20%7D%3B%0A%20%20%20%20%20%20%20%20%20%20%20%20L.control.layers%28%0A%20%20%20%20%20%20%20%20%20%20%20%20%20%20%20%20layer_control_1d4195c6e02347fc9f0c7c0b9ae6caac.base_layers%2C%0A%20%20%20%20%20%20%20%20%20%20%20%20%20%20%20%20layer_control_1d4195c6e02347fc9f0c7c0b9ae6caac.overlays%2C%0A%20%20%20%20%20%20%20%20%20%20%20%20%20%20%20%20%7B%22autoZIndex%22%3A%20true%2C%20%22collapsed%22%3A%20true%2C%20%22position%22%3A%20%22topright%22%7D%0A%20%20%20%20%20%20%20%20%20%20%20%20%29.addTo%28map_9eef62f8f1b04e839700d0ec672b0625%29%3B%0A%20%20%20%20%20%20%20%20%0A%3C/script%3E onload=\"this.contentDocument.open();this.contentDocument.write(    decodeURIComponent(this.getAttribute('data-html')));this.contentDocument.close();\" allowfullscreen webkitallowfullscreen mozallowfullscreen></iframe></div></div>"
      ],
      "text/plain": [
       "<folium.folium.Map at 0x7f2eae3ddb90>"
      ]
     },
     "execution_count": 9,
     "metadata": {},
     "output_type": "execute_result"
    }
   ],
   "source": [
    "mapid = out_image_texture.getMapId({'bands': [landsat_parameters['FCCbands'][0], landsat_parameters['FCCbands'][1], landsat_parameters['FCCbands'][2]], 'min': 0, 'max': 0.3})\n",
    "map = folium.Map(location=[center_lat, center_lon]) \n",
    "folium.TileLayer(\n",
    "    tiles=mapid['tile_fetcher'].url_format,\n",
    "    attr='Map Data &copy; <a href=\"https://earthengine.google.com/\">Google Earth Engine</a>',\n",
    "    overlay=True,\n",
    "    name='Out Image Texture',\n",
    "  ).add_to(map)\n",
    "map.add_child(folium.LayerControl())\n",
    "map"
   ]
  },
  {
   "cell_type": "code",
   "execution_count": 10,
   "id": "f63a37b1",
   "metadata": {},
   "outputs": [],
   "source": [
    "BANDS = landsat_parameters['bandsClassify']\n",
    "FEATURE_NAMES = list(BANDS)\n",
    "FEATURE_NAMES.append(LABEL)"
   ]
  },
  {
   "cell_type": "code",
   "execution_count": 11,
   "id": "a0b33d6c",
   "metadata": {},
   "outputs": [],
   "source": [
    "sample = gt_image_texture.sampleRegions(\n",
    "    collection = LABEL_DATA,\n",
    "    properties = [LABEL],\n",
    "    scale = spatial_resolution,\n",
    ").randomColumn()"
   ]
  },
  {
   "cell_type": "code",
   "execution_count": 12,
   "id": "a96ff270",
   "metadata": {
    "scrolled": true
   },
   "outputs": [],
   "source": [
    "training = sample.filter(ee.Filter.lt('random', 0.8))\n",
    "testing = sample.filter(ee.Filter.gte('random', 0.8))\n",
    "\n",
    "# pprint({'training': training.first().getInfo()})\n",
    "# pprint({'testing': testing.first().getInfo()})"
   ]
  },
  {
   "cell_type": "code",
   "execution_count": 13,
   "id": "5afc2ba7",
   "metadata": {},
   "outputs": [],
   "source": [
    "training_task = ee.batch.Export.table.toCloudStorage(\n",
    "    collection=training,\n",
    "    description='Training Export',\n",
    "    fileNamePrefix=TRAIN_FILE_PREFIX,\n",
    "    bucket=OUTPUT_BUCKET,\n",
    "    fileFormat='TFRecord',\n",
    "    selectors=FEATURE_NAMES)\n",
    "\n",
    "testing_task = ee.batch.Export.table.toCloudStorage(\n",
    "    collection=testing,\n",
    "    description='Testing Export',\n",
    "    fileNamePrefix=TEST_FILE_PREFIX,\n",
    "    bucket=OUTPUT_BUCKET,\n",
    "    fileFormat='TFRecord',\n",
    "    selectors=FEATURE_NAMES)"
   ]
  },
  {
   "cell_type": "code",
   "execution_count": 14,
   "id": "b00ad68d",
   "metadata": {},
   "outputs": [],
   "source": [
    "training_task.start()\n",
    "testing_task.start()"
   ]
  },
  {
   "cell_type": "code",
   "execution_count": 15,
   "id": "5dd29495",
   "metadata": {},
   "outputs": [
    {
     "name": "stdout",
     "output_type": "stream",
     "text": [
      "Polling for task (id: 3B6YM4CBPXB3TV5MH6SHXQ7C).\n",
      "Polling for task (id: 3B6YM4CBPXB3TV5MH6SHXQ7C).\n",
      "Polling for task (id: 3B6YM4CBPXB3TV5MH6SHXQ7C).\n",
      "Polling for task (id: 3B6YM4CBPXB3TV5MH6SHXQ7C).\n",
      "Polling for task (id: 3B6YM4CBPXB3TV5MH6SHXQ7C).\n",
      "Polling for task (id: 3B6YM4CBPXB3TV5MH6SHXQ7C).\n",
      "Polling for task (id: 3B6YM4CBPXB3TV5MH6SHXQ7C).\n",
      "Polling for task (id: 3B6YM4CBPXB3TV5MH6SHXQ7C).\n",
      "Polling for task (id: 3B6YM4CBPXB3TV5MH6SHXQ7C).\n",
      "Done with training export.\n",
      "Polling for task (id: VNRRSGVC2ID2CEKJ3FLMWV2X).\n",
      "Done with testing export.\n"
     ]
    }
   ],
   "source": [
    "while training_task.active():\n",
    "    print('Polling for task (id: {}).'.format(training_task.id))\n",
    "    time.sleep(10)\n",
    "print('Done with training export.')\n",
    "\n",
    "while testing_task.active():\n",
    "    print('Polling for task (id: {}).'.format(testing_task.id))\n",
    "    time.sleep(10)\n",
    "print('Done with testing export.')"
   ]
  },
  {
   "cell_type": "code",
   "execution_count": 16,
   "id": "dc8e863e",
   "metadata": {},
   "outputs": [
    {
     "name": "stdout",
     "output_type": "stream",
     "text": [
      "Found training file.\n",
      "Found testing file.\n"
     ]
    }
   ],
   "source": [
    "print('Found training file.' if tf.io.gfile.exists(TRAIN_FILE_PATH) \n",
    "    else 'No training file found.')\n",
    "print('Found testing file.' if tf.io.gfile.exists(TEST_FILE_PATH) \n",
    "    else 'No testing file found.')"
   ]
  },
  {
   "cell_type": "code",
   "execution_count": 17,
   "id": "732ce5f3",
   "metadata": {},
   "outputs": [],
   "source": [
    "train_dataset = tf.data.TFRecordDataset(TRAIN_FILE_PATH, compression_type='GZIP')\n",
    "test_dataset = tf.data.TFRecordDataset(TEST_FILE_PATH, compression_type='GZIP')\n",
    "\n",
    "# print(iter(train_dataset).next())\n",
    "# print(iter(test_dataset).next())"
   ]
  },
  {
   "cell_type": "code",
   "execution_count": 18,
   "id": "8760a776",
   "metadata": {},
   "outputs": [],
   "source": [
    "columns = [\n",
    "           tf.io.FixedLenFeature(shape=[1], dtype=tf.float32) for k in FEATURE_NAMES\n",
    "]\n",
    "\n",
    "features_dict = dict(zip(FEATURE_NAMES, columns))\n",
    "\n",
    "# pprint(features_dict)"
   ]
  },
  {
   "cell_type": "code",
   "execution_count": 19,
   "id": "4fb5e85f",
   "metadata": {},
   "outputs": [],
   "source": [
    "def parse_tfrecord(example_proto):\n",
    "    parsed_features = tf.io.parse_single_example(example_proto, features_dict)\n",
    "    labels = parsed_features.pop(LABEL)\n",
    "    return parsed_features, tf.cast(labels, tf.int32)\n",
    "\n",
    "parsed_trainset = train_dataset.map(parse_tfrecord, num_parallel_calls=5)\n",
    "parsed_testset = test_dataset.map(parse_tfrecord, num_parallel_calls=5)\n",
    "\n",
    "# pprint(iter(parsed_trainset))\n",
    "# pprint(iter(parsed_testset))"
   ]
  },
  {
   "cell_type": "code",
   "execution_count": 20,
   "id": "b1b6dad7",
   "metadata": {},
   "outputs": [],
   "source": [
    "def to_tuple(inputs, label):\n",
    "    return (tf.transpose(list(inputs.values())), tf.one_hot(indices=label, depth=N_CLASSES))\n",
    "\n",
    "input_dataset = parsed_trainset.map(to_tuple).batch(batch_size)\n",
    "validate_dataset = parsed_testset.map(to_tuple).batch(batch_size)"
   ]
  },
  {
   "cell_type": "code",
   "execution_count": 21,
   "id": "bb122a65",
   "metadata": {},
   "outputs": [],
   "source": [
    "model = tf.keras.models.Sequential([\n",
    "    tf.keras.layers.Dense(128, activation=tf.nn.relu),\n",
    "    tf.keras.layers.Dropout(0.1),\n",
    "    tf.keras.layers.Dense(64, activation=tf.nn.relu),\n",
    "    tf.keras.layers.Dropout(0.15),\n",
    "    tf.keras.layers.Dense(64, activation=tf.nn.relu),\n",
    "    tf.keras.layers.Dropout(0.1),\n",
    "    tf.keras.layers.Dense(64, activation=tf.nn.relu),\n",
    "    tf.keras.layers.Dense(64, activation=tf.nn.relu),\n",
    "    tf.keras.layers.Dense(N_CLASSES, activation=tf.nn.softmax)\n",
    "])"
   ]
  },
  {
   "cell_type": "code",
   "execution_count": 22,
   "id": "43225adf",
   "metadata": {},
   "outputs": [],
   "source": [
    "model.compile(optimizer= tf.keras.optimizers.Adam(\n",
    "    learning_rate=lr_rate),\n",
    "    loss='categorical_crossentropy',\n",
    "    metrics=['accuracy', 'mse']\n",
    ")"
   ]
  },
  {
   "cell_type": "code",
   "execution_count": 23,
   "id": "f2d000e8",
   "metadata": {},
   "outputs": [
    {
     "name": "stdout",
     "output_type": "stream",
     "text": [
      "WARNING:tensorflow:Expected a shuffled dataset but input dataset `x` is not shuffled. Please invoke `shuffle()` on input dataset.\n",
      "WARNING:tensorflow:From /home/rohit/anaconda3/envs/gee/lib/python3.7/site-packages/tensorflow_core/python/ops/resource_variable_ops.py:1630: calling BaseResourceVariable.__init__ (from tensorflow.python.ops.resource_variable_ops) with constraint is deprecated and will be removed in a future version.\n",
      "Instructions for updating:\n",
      "If using Keras pass *_constraint arguments to layers.\n",
      "Train on None steps, validate on 20.0 steps\n",
      "Epoch 1/50\n",
      "84/84 [==============================] - 3s 31ms/step - loss: 1.4234 - acc: 0.1829 - mean_squared_error: 0.1921 - val_loss: 0.0000e+00 - val_acc: 0.0000e+00 - val_mean_squared_error: 0.0000e+00\n",
      "Epoch 2/50\n",
      "84/84 [==============================] - 3s 34ms/step - loss: 1.3841 - acc: 0.3234 - mean_squared_error: 0.1872 - val_loss: 1.3319 - val_acc: 0.5785 - val_mean_squared_error: 0.1807\n",
      "Epoch 3/50\n",
      "84/84 [==============================] - 2s 29ms/step - loss: 1.3546 - acc: 0.3956 - mean_squared_error: 0.1836 - val_loss: 1.2853 - val_acc: 0.6730 - val_mean_squared_error: 0.1750\n",
      "Epoch 4/50\n",
      "84/84 [==============================] - 3s 37ms/step - loss: 1.3052 - acc: 0.4446 - mean_squared_error: 0.1777 - val_loss: 1.1955 - val_acc: 0.5980 - val_mean_squared_error: 0.1637\n",
      "Epoch 5/50\n",
      "84/84 [==============================] - 2s 28ms/step - loss: 1.2104 - acc: 0.4724 - mean_squared_error: 0.1659 - val_loss: 1.0502 - val_acc: 0.5695 - val_mean_squared_error: 0.1446\n",
      "Epoch 6/50\n",
      "84/84 [==============================] - 2s 27ms/step - loss: 1.0735 - acc: 0.5028 - mean_squared_error: 0.1478 - val_loss: 0.9058 - val_acc: 0.5560 - val_mean_squared_error: 0.1260\n",
      "Epoch 7/50\n",
      "84/84 [==============================] - 4s 51ms/step - loss: 0.9565 - acc: 0.5236 - mean_squared_error: 0.1331 - val_loss: 0.8151 - val_acc: 0.5035 - val_mean_squared_error: 0.1167\n",
      "Epoch 8/50\n",
      "84/84 [==============================] - 4s 43ms/step - loss: 0.8740 - acc: 0.5572 - mean_squared_error: 0.1241 - val_loss: 0.7472 - val_acc: 0.6035 - val_mean_squared_error: 0.1091\n",
      "Epoch 9/50\n",
      "84/84 [==============================] - 3s 31ms/step - loss: 0.8061 - acc: 0.5926 - mean_squared_error: 0.1159 - val_loss: 0.6837 - val_acc: 0.6470 - val_mean_squared_error: 0.1010\n",
      "Epoch 10/50\n",
      "84/84 [==============================] - 2s 30ms/step - loss: 0.7460 - acc: 0.6204 - mean_squared_error: 0.1080 - val_loss: 0.6288 - val_acc: 0.6615 - val_mean_squared_error: 0.0940\n",
      "Epoch 11/50\n",
      "84/84 [==============================] - 2s 26ms/step - loss: 0.6915 - acc: 0.6337 - mean_squared_error: 0.1012 - val_loss: 0.5847 - val_acc: 0.6685 - val_mean_squared_error: 0.0885\n",
      "Epoch 12/50\n",
      "84/84 [==============================] - 2s 30ms/step - loss: 0.6467 - acc: 0.6493 - mean_squared_error: 0.0960 - val_loss: 0.5509 - val_acc: 0.6780 - val_mean_squared_error: 0.0845\n",
      "Epoch 13/50\n",
      "84/84 [==============================] - 2s 22ms/step - loss: 0.6126 - acc: 0.6525 - mean_squared_error: 0.0924 - val_loss: 0.5292 - val_acc: 0.6775 - val_mean_squared_error: 0.0822\n",
      "Epoch 14/50\n",
      "84/84 [==============================] - 4s 43ms/step - loss: 0.5946 - acc: 0.6567 - mean_squared_error: 0.0910 - val_loss: 0.5107 - val_acc: 0.6815 - val_mean_squared_error: 0.0800\n",
      "Epoch 15/50\n",
      "84/84 [==============================] - 2s 28ms/step - loss: 0.5677 - acc: 0.6684 - mean_squared_error: 0.0879 - val_loss: 0.4994 - val_acc: 0.6830 - val_mean_squared_error: 0.0788\n",
      "Epoch 16/50\n",
      "84/84 [==============================] - 2s 22ms/step - loss: 0.5597 - acc: 0.6658 - mean_squared_error: 0.0876 - val_loss: 0.4909 - val_acc: 0.6830 - val_mean_squared_error: 0.0779\n",
      "Epoch 17/50\n",
      "84/84 [==============================] - 2s 25ms/step - loss: 0.5458 - acc: 0.6697 - mean_squared_error: 0.0860 - val_loss: 0.4811 - val_acc: 0.6865 - val_mean_squared_error: 0.0767\n",
      "Epoch 18/50\n",
      "84/84 [==============================] - 3s 34ms/step - loss: 0.5420 - acc: 0.6671 - mean_squared_error: 0.0857 - val_loss: 0.4766 - val_acc: 0.6865 - val_mean_squared_error: 0.0762\n",
      "Epoch 19/50\n",
      "84/84 [==============================] - 4s 48ms/step - loss: 0.5354 - acc: 0.6702 - mean_squared_error: 0.0850 - val_loss: 0.4711 - val_acc: 0.6880 - val_mean_squared_error: 0.0755\n",
      "Epoch 20/50\n",
      "84/84 [==============================] - 4s 51ms/step - loss: 0.5275 - acc: 0.6711 - mean_squared_error: 0.0840 - val_loss: 0.4659 - val_acc: 0.6915 - val_mean_squared_error: 0.0749\n",
      "Epoch 21/50\n",
      "84/84 [==============================] - 3s 32ms/step - loss: 0.5220 - acc: 0.6686 - mean_squared_error: 0.0836 - val_loss: 0.4629 - val_acc: 0.6925 - val_mean_squared_error: 0.0745\n",
      "Epoch 22/50\n",
      "84/84 [==============================] - 3s 36ms/step - loss: 0.5150 - acc: 0.6703 - mean_squared_error: 0.0828 - val_loss: 0.4593 - val_acc: 0.6970 - val_mean_squared_error: 0.0740\n",
      "Epoch 23/50\n",
      "84/84 [==============================] - 3s 35ms/step - loss: 0.5110 - acc: 0.6760 - mean_squared_error: 0.0823 - val_loss: 0.4574 - val_acc: 0.7000 - val_mean_squared_error: 0.0738\n",
      "Epoch 24/50\n",
      "84/84 [==============================] - 4s 43ms/step - loss: 0.5093 - acc: 0.6728 - mean_squared_error: 0.0822 - val_loss: 0.4556 - val_acc: 0.7035 - val_mean_squared_error: 0.0736\n",
      "Epoch 25/50\n",
      "84/84 [==============================] - 2s 30ms/step - loss: 0.5075 - acc: 0.6728 - mean_squared_error: 0.0822 - val_loss: 0.4534 - val_acc: 0.7065 - val_mean_squared_error: 0.0732\n",
      "Epoch 26/50\n",
      "84/84 [==============================] - 3s 31ms/step - loss: 0.5084 - acc: 0.6750 - mean_squared_error: 0.0820 - val_loss: 0.4496 - val_acc: 0.7130 - val_mean_squared_error: 0.0727\n",
      "Epoch 27/50\n",
      "84/84 [==============================] - 3s 33ms/step - loss: 0.4989 - acc: 0.6776 - mean_squared_error: 0.0809 - val_loss: 0.4479 - val_acc: 0.7185 - val_mean_squared_error: 0.0724\n",
      "Epoch 28/50\n",
      "84/84 [==============================] - 3s 33ms/step - loss: 0.4988 - acc: 0.6855 - mean_squared_error: 0.0809 - val_loss: 0.4453 - val_acc: 0.7210 - val_mean_squared_error: 0.0721\n",
      "Epoch 29/50\n",
      "84/84 [==============================] - 4s 46ms/step - loss: 0.4964 - acc: 0.6789 - mean_squared_error: 0.0808 - val_loss: 0.4447 - val_acc: 0.7235 - val_mean_squared_error: 0.0719\n",
      "Epoch 30/50\n",
      "84/84 [==============================] - 3s 33ms/step - loss: 0.4959 - acc: 0.6863 - mean_squared_error: 0.0805 - val_loss: 0.4427 - val_acc: 0.7295 - val_mean_squared_error: 0.0716\n",
      "Epoch 31/50\n",
      "84/84 [==============================] - 3s 32ms/step - loss: 0.4926 - acc: 0.6825 - mean_squared_error: 0.0802 - val_loss: 0.4406 - val_acc: 0.7325 - val_mean_squared_error: 0.0713\n",
      "Epoch 32/50\n",
      "84/84 [==============================] - 3s 37ms/step - loss: 0.4943 - acc: 0.6888 - mean_squared_error: 0.0802 - val_loss: 0.4379 - val_acc: 0.7380 - val_mean_squared_error: 0.0708\n",
      "Epoch 33/50\n",
      "84/84 [==============================] - 2s 29ms/step - loss: 0.4877 - acc: 0.6836 - mean_squared_error: 0.0796 - val_loss: 0.4368 - val_acc: 0.7450 - val_mean_squared_error: 0.0706\n",
      "Epoch 34/50\n",
      "84/84 [==============================] - 4s 46ms/step - loss: 0.4867 - acc: 0.6934 - mean_squared_error: 0.0793 - val_loss: 0.4339 - val_acc: 0.7440 - val_mean_squared_error: 0.0702\n",
      "Epoch 35/50\n",
      "84/84 [==============================] - 3s 32ms/step - loss: 0.4845 - acc: 0.6953 - mean_squared_error: 0.0788 - val_loss: 0.4335 - val_acc: 0.7465 - val_mean_squared_error: 0.0700\n",
      "Epoch 36/50\n",
      "84/84 [==============================] - 2s 27ms/step - loss: 0.4838 - acc: 0.6972 - mean_squared_error: 0.0788 - val_loss: 0.4315 - val_acc: 0.7510 - val_mean_squared_error: 0.0696\n",
      "Epoch 37/50\n",
      "84/84 [==============================] - 4s 46ms/step - loss: 0.4827 - acc: 0.7007 - mean_squared_error: 0.0785 - val_loss: 0.4295 - val_acc: 0.7525 - val_mean_squared_error: 0.0693\n",
      "Epoch 38/50\n",
      "84/84 [==============================] - 4s 42ms/step - loss: 0.4793 - acc: 0.7096 - mean_squared_error: 0.0779 - val_loss: 0.4284 - val_acc: 0.7550 - val_mean_squared_error: 0.0690\n",
      "Epoch 39/50\n",
      "84/84 [==============================] - 2s 20ms/step - loss: 0.4793 - acc: 0.7033 - mean_squared_error: 0.0782 - val_loss: 0.4251 - val_acc: 0.7575 - val_mean_squared_error: 0.0685\n",
      "Epoch 40/50\n",
      "84/84 [==============================] - 2s 24ms/step - loss: 0.4751 - acc: 0.7077 - mean_squared_error: 0.0774 - val_loss: 0.4241 - val_acc: 0.7550 - val_mean_squared_error: 0.0682\n",
      "Epoch 41/50\n",
      "84/84 [==============================] - 2s 22ms/step - loss: 0.4740 - acc: 0.7105 - mean_squared_error: 0.0771 - val_loss: 0.4210 - val_acc: 0.7575 - val_mean_squared_error: 0.0677\n",
      "Epoch 42/50\n",
      "84/84 [==============================] - 3s 37ms/step - loss: 0.4710 - acc: 0.7169 - mean_squared_error: 0.0766 - val_loss: 0.4201 - val_acc: 0.7570 - val_mean_squared_error: 0.0675\n",
      "Epoch 43/50\n",
      "84/84 [==============================] - 4s 44ms/step - loss: 0.4725 - acc: 0.7152 - mean_squared_error: 0.0768 - val_loss: 0.4189 - val_acc: 0.7560 - val_mean_squared_error: 0.0673\n",
      "Epoch 44/50\n",
      "84/84 [==============================] - 3s 34ms/step - loss: 0.4674 - acc: 0.7227 - mean_squared_error: 0.0761 - val_loss: 0.4168 - val_acc: 0.7570 - val_mean_squared_error: 0.0670\n",
      "Epoch 45/50\n",
      "84/84 [==============================] - 2s 26ms/step - loss: 0.4670 - acc: 0.7243 - mean_squared_error: 0.0762 - val_loss: 0.4156 - val_acc: 0.7565 - val_mean_squared_error: 0.0668\n",
      "Epoch 46/50\n",
      "84/84 [==============================] - 4s 52ms/step - loss: 0.4664 - acc: 0.7253 - mean_squared_error: 0.0760 - val_loss: 0.4142 - val_acc: 0.7575 - val_mean_squared_error: 0.0666\n",
      "Epoch 47/50\n",
      "84/84 [==============================] - 4s 48ms/step - loss: 0.4633 - acc: 0.7321 - mean_squared_error: 0.0754 - val_loss: 0.4128 - val_acc: 0.7585 - val_mean_squared_error: 0.0663\n",
      "Epoch 48/50\n",
      "84/84 [==============================] - 3s 33ms/step - loss: 0.4638 - acc: 0.7344 - mean_squared_error: 0.0753 - val_loss: 0.4106 - val_acc: 0.7595 - val_mean_squared_error: 0.0659\n",
      "Epoch 49/50\n",
      "84/84 [==============================] - 2s 29ms/step - loss: 0.4608 - acc: 0.7331 - mean_squared_error: 0.0750 - val_loss: 0.4095 - val_acc: 0.7630 - val_mean_squared_error: 0.0657\n",
      "Epoch 50/50\n",
      "84/84 [==============================] - 2s 27ms/step - loss: 0.4569 - acc: 0.7353 - mean_squared_error: 0.0745 - val_loss: 0.4082 - val_acc: 0.7605 - val_mean_squared_error: 0.0656\n"
     ]
    }
   ],
   "source": [
    "def build_callbacks():\n",
    "    checkpointer = ModelCheckpoint(filepath = MODEL_PATH + '/best_model.h5', monitor='val_acc', verbose=0, save_best_only=True)\n",
    "    callbacks = [checkpointer]\n",
    "    return callbacks\n",
    "history = model.fit(x=input_dataset,\n",
    "                    epochs=epochs,\n",
    "                    callbacks=build_callbacks(),\n",
    "                    validation_data=(validate_dataset),\n",
    "                    validation_steps=validate_step,\n",
    "                    shuffle=True\n",
    "                    )"
   ]
  },
  {
   "cell_type": "code",
   "execution_count": 24,
   "id": "de38a7f7",
   "metadata": {},
   "outputs": [
    {
     "data": {
      "image/png": "[encoded data removed]",
      "text/plain": [
       "<Figure size 432x288 with 1 Axes>"
      ]
     },
     "metadata": {
      "needs_background": "light"
     },
     "output_type": "display_data"
    },
    {
     "data": {
      "image/png": "[encoded data removed]",
      "text/plain": [
       "<Figure size 432x288 with 1 Axes>"
      ]
     },
     "metadata": {
      "needs_background": "light"
     },
     "output_type": "display_data"
    }
   ],
   "source": [
    "# summarize history for accuracy\n",
    "plt.plot(history.history['acc'])\n",
    "plt.plot(history.history['val_acc'])\n",
    "plt.title('model accuracy')\n",
    "plt.ylabel('accuracy')\n",
    "plt.xlabel('epoch')\n",
    "plt.legend(['train', 'test'], loc='upper left')\n",
    "plt.show()\n",
    "# summarize history for loss\n",
    "plt.plot(history.history['loss'])\n",
    "plt.plot(history.history['val_loss'])\n",
    "plt.title('model loss')\n",
    "plt.ylabel('loss')\n",
    "plt.xlabel('epoch')\n",
    "plt.legend(['train', 'test'], loc='upper left')\n",
    "plt.show()"
   ]
  },
  {
   "cell_type": "code",
   "execution_count": 25,
   "id": "4396bf06",
   "metadata": {},
   "outputs": [
    {
     "name": "stdout",
     "output_type": "stream",
     "text": [
      "     22/Unknown - 1s 48ms/step - loss: 0.4257 - acc: 0.7729 - mean_squared_error: 0.0677"
     ]
    },
    {
     "data": {
      "text/plain": [
       "[0.42567757812040247, 0.7729401, 0.067743085]"
      ]
     },
     "execution_count": 25,
     "metadata": {},
     "output_type": "execute_result"
    }
   ],
   "source": [
    "model.evaluate(validate_dataset, steps=None)"
   ]
  },
  {
   "cell_type": "code",
   "execution_count": 26,
   "id": "d1c83246",
   "metadata": {},
   "outputs": [],
   "source": [
    "image_export_options = {\n",
    "    'patchDimensions': [patch_size, patch_size],\n",
    "    'maxFileSize': 104857600,\n",
    "    'compressed': True\n",
    "}\n",
    "\n",
    "image_task = ee.batch.Export.image.toCloudStorage(\n",
    "    image=out_image_texture,\n",
    "    description='Image Export',\n",
    "    fileNamePrefix= INPUT_IMAGE_PREFIX,\n",
    "    bucket=OUTPUT_BUCKET,\n",
    "    scale=spatial_resolution,\n",
    "    fileFormat='TFRecord',\n",
    "    region=out_ext_buffer,\n",
    "    formatOptions=image_export_options,\n",
    ")\n",
    "\n",
    "image_task.start()"
   ]
  },
  {
   "cell_type": "code",
   "execution_count": 27,
   "id": "8e86f36b",
   "metadata": {},
   "outputs": [
    {
     "name": "stdout",
     "output_type": "stream",
     "text": [
      "Polling for task (id: P3BEOTBDA7WCNM5YKSZEZF3N).\n",
      "Polling for task (id: P3BEOTBDA7WCNM5YKSZEZF3N).\n",
      "Polling for task (id: P3BEOTBDA7WCNM5YKSZEZF3N).\n",
      "Polling for task (id: P3BEOTBDA7WCNM5YKSZEZF3N).\n",
      "Polling for task (id: P3BEOTBDA7WCNM5YKSZEZF3N).\n",
      "Polling for task (id: P3BEOTBDA7WCNM5YKSZEZF3N).\n",
      "Done with image export.\n"
     ]
    }
   ],
   "source": [
    "while image_task.active():\n",
    "    print('Polling for task (id: {}).'.format(image_task.id))\n",
    "    time.sleep(10)\n",
    "print('Done with image export.')"
   ]
  },
  {
   "cell_type": "code",
   "execution_count": 28,
   "id": "2939f0fa",
   "metadata": {},
   "outputs": [],
   "source": [
    "fcc_image = out_image_texture.select(landsat_parameters['FCCbands'])\n",
    "\n",
    "fcc_task = ee.batch.Export.image.toCloudStorage(\n",
    "    image=fcc_image,\n",
    "    description= 'FCC Image Export',\n",
    "    fileNamePrefix=FCC_IMAGE_PREFIX,\n",
    "    bucket=OUTPUT_BUCKET,\n",
    "    scale=spatial_resolution,\n",
    "    fileFormat='GeoTIFF',\n",
    "    region=out_ext_buffer,\n",
    "    formatOptions=image_export_options,\n",
    ")\n",
    "\n",
    "fcc_task.start()"
   ]
  },
  {
   "cell_type": "code",
   "execution_count": 29,
   "id": "9566af81",
   "metadata": {},
   "outputs": [
    {
     "name": "stdout",
     "output_type": "stream",
     "text": [
      "Polling for task (id: 3D7KQLKTXZ2HQM7S366WHVRF).\n",
      "Polling for task (id: 3D7KQLKTXZ2HQM7S366WHVRF).\n",
      "Polling for task (id: 3D7KQLKTXZ2HQM7S366WHVRF).\n",
      "Polling for task (id: 3D7KQLKTXZ2HQM7S366WHVRF).\n",
      "Done with FCC Image export.\n"
     ]
    }
   ],
   "source": [
    "while fcc_task.active():\n",
    "    print('Polling for task (id: {}).'.format(fcc_task.id))\n",
    "    time.sleep(10)\n",
    "print('Done with FCC Image export.')"
   ]
  },
  {
   "cell_type": "code",
   "execution_count": 30,
   "id": "5a63af4d",
   "metadata": {},
   "outputs": [],
   "source": [
    "fcc_name = FCC_IMAGE_PREFIX + '.tif'\n",
    "fcc_output_file = FC_DIR + '/' +  IMAGE_FILE_PREFIX + '_fcc.tif'\n",
    "\n",
    "bucket = storage_client.get_bucket('lc-mapping')\n",
    "blob = bucket.blob(fcc_name)\n",
    "with open(fcc_output_file, 'wb') as f:\n",
    "    storage_client.download_blob_to_file(blob, f)"
   ]
  },
  {
   "cell_type": "code",
   "execution_count": 31,
   "id": "875f73a9",
   "metadata": {},
   "outputs": [
    {
     "name": "stdout",
     "output_type": "stream",
     "text": [
      "['gs://lc-mapping/rohit/rohit_Chittagong_2020_2020_1623773271/inputs/Chittagong_2020_2020.tfrecord.gz']\n",
      "Chittagong_2020_2020.json\n"
     ]
    }
   ],
   "source": [
    "files_list = tf.io.gfile.listdir(INPUT_FILE_PATH)\n",
    "exported_files_list = [s for s in files_list if IMAGE_FILE_PREFIX in s]\n",
    "\n",
    "tfrecord_list = []\n",
    "json_file = None\n",
    "for f in exported_files_list:\n",
    "    if f.endswith('.tfrecord.gz'):\n",
    "        tfrecord_list.append(f)\n",
    "    elif f.endswith('.json'):\n",
    "        json_file = f\n",
    "    \n",
    "tfrecord_list.sort()\n",
    "\n",
    "tfrecord_list = [INPUT_FILE_PATH + x for x in tfrecord_list]\n",
    "\n",
    "print(tfrecord_list)\n",
    "print(json_file)"
   ]
  },
  {
   "cell_type": "code",
   "execution_count": 32,
   "id": "671d912b",
   "metadata": {},
   "outputs": [],
   "source": [
    "file_name = USER_PATH + '/inputs/' + json_file\n",
    "json_output_file = JSON_PATH + '/' + json_file\n",
    "\n",
    "bucket = storage_client.get_bucket('lc-mapping')\n",
    "blob = bucket.blob(file_name)\n",
    "with open(json_output_file, 'wb') as f:\n",
    "    storage_client.download_blob_to_file(blob, f)"
   ]
  },
  {
   "cell_type": "code",
   "execution_count": 33,
   "id": "a4baad1d",
   "metadata": {},
   "outputs": [
    {
     "data": {
      "text/plain": [
       "{'projection': {'crs': 'EPSG:4326',\n",
       "  'affine': {'doubleMatrix': [0.0010779783409434259,\n",
       "    0.0,\n",
       "    91.50526944932365,\n",
       "    0.0,\n",
       "    -0.0010779783409434259,\n",
       "    22.63323324644817]}},\n",
       " 'patchDimensions': [256, 256],\n",
       " 'patchesPerRow': 2,\n",
       " 'totalPatches': 4}"
      ]
     },
     "execution_count": 33,
     "metadata": {},
     "output_type": "execute_result"
    }
   ],
   "source": [
    "with open(json_output_file, \"r\") as read_file:\n",
    "    mixer = json.load(read_file)\n",
    "mixer"
   ]
  },
  {
   "cell_type": "code",
   "execution_count": 34,
   "id": "0538826b",
   "metadata": {},
   "outputs": [],
   "source": [
    "patch_width = mixer['patchDimensions'][0]\n",
    "patch_height = mixer['patchDimensions'][1]\n",
    "patches = mixer['totalPatches']\n",
    "patch_dimensions_flat = [patch_width*patch_height, 1]\n",
    "\n",
    "image_columns = [\n",
    "                tf.io.FixedLenFeature(shape=patch_dimensions_flat, dtype=tf.float32) for k in BANDS\n",
    "]\n",
    "\n",
    "image_features_dict = dict(zip(BANDS, image_columns))\n",
    "\n",
    "image_dataset = tf.data.TFRecordDataset(tfrecord_list, compression_type='GZIP')"
   ]
  },
  {
   "cell_type": "code",
   "execution_count": 35,
   "id": "0b542ea1",
   "metadata": {},
   "outputs": [],
   "source": [
    "def parse_image(example_proto):\n",
    "    return tf.io.parse_single_example(example_proto, image_features_dict)"
   ]
  },
  {
   "cell_type": "code",
   "execution_count": 36,
   "id": "cffdf8de",
   "metadata": {},
   "outputs": [],
   "source": [
    "image_dataset = image_dataset.map(parse_image, num_parallel_calls=5)\n",
    "\n",
    "image_dataset = image_dataset.flat_map(\n",
    "    lambda features: tf.data.Dataset.from_tensor_slices(features)\n",
    ")\n",
    "\n",
    "image_dataset = image_dataset.map(\n",
    "  lambda data_dict: (tf.transpose(list(data_dict.values())))\n",
    ")\n",
    "\n",
    "image_dataset = image_dataset.batch(patch_width * patch_height)"
   ]
  },
  {
   "cell_type": "code",
   "execution_count": 37,
   "id": "e7a1b561",
   "metadata": {},
   "outputs": [
    {
     "name": "stdout",
     "output_type": "stream",
     "text": [
      "4/4 [==============================] - 7s 2s/step\n",
      "[[0.2022823  0.03026618 0.64349705 0.12395447]]\n"
     ]
    }
   ],
   "source": [
    "predictions = model.predict(image_dataset, steps=patches, verbose=1)\n",
    "print(predictions[0])"
   ]
  },
  {
   "cell_type": "code",
   "execution_count": 38,
   "id": "0a50a19e",
   "metadata": {},
   "outputs": [
    {
     "name": "stdout",
     "output_type": "stream",
     "text": [
      "Done with Patch 1 of 4...\n",
      "Done with Patch 2 of 4...\n",
      "Done with Patch 3 of 4...\n",
      "Done with Patch 4 of 4...\n"
     ]
    }
   ],
   "source": [
    "writer = tf.io.TFRecordWriter(OUTPUT_IMAGE_TFR)\n",
    "\n",
    "patch = [[]]\n",
    "cur_patch = 1\n",
    "for prediction in predictions:\n",
    "    patch[0].append(np.argmax(prediction))\n",
    "\n",
    "    if (len(patch[0])==patch_width*patch_height):\n",
    "        print('Done with Patch ' + str(cur_patch) + ' of ' + str(patches) + '...')\n",
    "        example = tf.train.Example(\n",
    "            features=tf.train.Features(\n",
    "                feature={\n",
    "                    'prediction': tf.train.Feature(\n",
    "                        int64_list=tf.train.Int64List(\n",
    "                            value=patch[0]\n",
    "                        )\n",
    "                    )\n",
    "                }\n",
    "            )\n",
    "        )\n",
    "\n",
    "        writer.write(example.SerializeToString())\n",
    "        patch=[[]]\n",
    "        cur_patch +=1\n",
    "        \n",
    "writer.close()"
   ]
  },
  {
   "cell_type": "code",
   "execution_count": 39,
   "id": "8eb76daf",
   "metadata": {},
   "outputs": [
    {
     "name": "stdout",
     "output_type": "stream",
     "text": [
      "WARNING:tensorflow:From <ipython-input-39-359c0215969a>:1: tf_record_iterator (from tensorflow.python.lib.io.tf_record) is deprecated and will be removed in a future version.\n",
      "Instructions for updating:\n",
      "Use eager execution and: \n",
      "`tf.data.TFRecordDataset(path)`\n",
      "1\n",
      "3\n",
      "4\n"
     ]
    }
   ],
   "source": [
    "record_iterator = tf.compat.v1.python_io.tf_record_iterator(path=OUTPUT_IMAGE_TFR)\n",
    "\n",
    "n_row = patches/mixer['patchesPerRow']\n",
    "n_col = mixer['patchesPerRow']\n",
    "current_row = 0\n",
    "current_col = 0\n",
    "counter = 0\n",
    "\n",
    "for string_record in record_iterator:\n",
    "    example = tf.train.Example()\n",
    "    example.ParseFromString(string_record)\n",
    "    values = np.array(example.features.feature['prediction'].int64_list.value).reshape(patch_width, patch_height).astype(np.int8)\n",
    "\n",
    "    if (current_col==0):\n",
    "        horizontal_strip = values\n",
    "    else:\n",
    "        horizontal_strip = np.concatenate([horizontal_strip, values], axis=1)\n",
    "    current_col += 1\n",
    "\n",
    "    if (current_col == n_col):\n",
    "        if (current_row==0):\n",
    "            image = horizontal_strip\n",
    "        else:\n",
    "            image = np.concatenate([image, horizontal_strip], axis=0)\n",
    "            horizontal_strip = []\n",
    "\n",
    "        current_row +=1\n",
    "        current_col = 0\n",
    "        print(counter)\n",
    "    counter +=1\n",
    "print(counter)"
   ]
  },
  {
   "cell_type": "code",
   "execution_count": 40,
   "id": "37d03e2b",
   "metadata": {},
   "outputs": [
    {
     "data": {
      "image/png": "[encoded data removed]",
      "text/plain": [
       "<Figure size 432x288 with 1 Axes>"
      ]
     },
     "metadata": {
      "needs_background": "light"
     },
     "output_type": "display_data"
    }
   ],
   "source": [
    "imgplot = plt.imshow(image, cmap=plt.get_cmap('jet'), vmin=0, vmax=1)\n",
    "plt.show()"
   ]
  },
  {
   "cell_type": "code",
   "execution_count": 41,
   "id": "2991fbe6",
   "metadata": {},
   "outputs": [
    {
     "name": "stdout",
     "output_type": "stream",
     "text": [
      "[0.0010779783409434259, 0.0, 91.50526944932365, 0.0, -0.0010779783409434259, 22.63323324644817]\n",
      "(91.50526944932365, 0.0010779783409434259, 0.0, 22.63323324644817, 0.0, -0.0010779783409434259)\n",
      "4326\n"
     ]
    }
   ],
   "source": [
    "affine = mixer['projection']['affine']['doubleMatrix']\n",
    "geotransform = (affine[2], affine[0], affine[1], affine[5], affine[3], affine[4])\n",
    "crs = int(mixer['projection']['crs'][-4:])\n",
    "print(affine)\n",
    "print(geotransform)\n",
    "print(crs)"
   ]
  },
  {
   "cell_type": "code",
   "execution_count": 42,
   "id": "6486ddfb",
   "metadata": {},
   "outputs": [
    {
     "name": "stdout",
     "output_type": "stream",
     "text": [
      "Exorting ./rohit/rohit_Chittagong_2020_2020_1623773271/lc-map/Chittagong_2020_2020.tif completed.\n"
     ]
    }
   ],
   "source": [
    "ny, nx = image.shape\n",
    "dst_ds = gdal.GetDriverByName('GTiff').Create(LC_IMAGE_TIF, nx, ny, 1, gdal.GDT_Byte)\n",
    "dst_ds.SetGeoTransform(tuple(geotransform))\n",
    "srs = osr.SpatialReference()\n",
    "srs.ImportFromEPSG(crs)\n",
    "dst_ds.SetProjection(srs.ExportToWkt())\n",
    "dst_ds.GetRasterBand(1).WriteArray(image)\n",
    "dst_ds.FlushCache()\n",
    "dst_ds = None\n",
    "\n",
    "print(\"Exorting \" + LC_IMAGE_TIF + \" completed.\")"
   ]
  },
  {
   "cell_type": "code",
   "execution_count": null,
   "id": "4ecfadd0",
   "metadata": {},
   "outputs": [],
   "source": []
  }
 ],
 "metadata": {
  "kernelspec": {
   "display_name": "Python [conda env:gee] *",
   "language": "python",
   "name": "conda-env-gee-py"
  },
  "language_info": {
   "codemirror_mode": {
    "name": "ipython",
    "version": 3
   },
   "file_extension": ".py",
   "mimetype": "text/x-python",
   "name": "python",
   "nbconvert_exporter": "python",
   "pygments_lexer": "ipython3",
   "version": "3.7.10"
  }
 },
 "nbformat": 4,
 "nbformat_minor": 5
}
